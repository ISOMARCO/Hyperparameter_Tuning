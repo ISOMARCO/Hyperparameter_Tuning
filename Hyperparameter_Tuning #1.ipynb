{
 "cells": [
  {
   "cell_type": "code",
   "execution_count": 1,
   "id": "initial_id",
   "metadata": {
    "collapsed": true,
    "ExecuteTime": {
     "end_time": "2023-09-29T11:19:15.132076Z",
     "start_time": "2023-09-29T11:19:14.737285Z"
    }
   },
   "outputs": [],
   "source": [
    "import pandas as pd"
   ]
  },
  {
   "cell_type": "code",
   "execution_count": 2,
   "outputs": [],
   "source": [
    "df = pd.read_csv('nasa.csv')"
   ],
   "metadata": {
    "collapsed": false,
    "ExecuteTime": {
     "end_time": "2023-09-29T11:20:36.409358Z",
     "start_time": "2023-09-29T11:20:36.334158Z"
    }
   },
   "id": "5f3aaf9a454bf4cb"
  },
  {
   "cell_type": "code",
   "execution_count": 3,
   "outputs": [
    {
     "data": {
      "text/plain": "      Neo Reference ID     Name  Absolute Magnitude  Est Dia in KM(min)  \\\n0              3703080  3703080              21.600            0.127220   \n1              3723955  3723955              21.300            0.146068   \n2              2446862  2446862              20.300            0.231502   \n3              3092506  3092506              27.400            0.008801   \n4              3514799  3514799              21.600            0.127220   \n...                ...      ...                 ...                 ...   \n4682           3759007  3759007              23.900            0.044112   \n4683           3759295  3759295              28.200            0.006089   \n4684           3759714  3759714              22.700            0.076658   \n4685           3759720  3759720              21.800            0.116026   \n4686           3772978  3772978              19.109            0.400641   \n\n      Est Dia in KM(max)  Est Dia in M(min)  Est Dia in M(max)  \\\n0               0.284472         127.219879         284.472297   \n1               0.326618         146.067964         326.617897   \n2               0.517654         231.502122         517.654482   \n3               0.019681           8.801465          19.680675   \n4               0.284472         127.219879         284.472297   \n...                  ...                ...                ...   \n4682            0.098637          44.111820          98.637028   \n4683            0.013616           6.089126          13.615700   \n4684            0.171412          76.657557         171.411509   \n4685            0.259442         116.025908         259.441818   \n4686            0.895860         400.640618         895.859655   \n\n      Est Dia in Miles(min)  Est Dia in Miles(max)  Est Dia in Feet(min)  ...  \\\n0                  0.079051               0.176763            417.388066  ...   \n1                  0.090762               0.202951            479.225620  ...   \n2                  0.143849               0.321655            759.521423  ...   \n3                  0.005469               0.012229             28.876199  ...   \n4                  0.079051               0.176763            417.388066  ...   \n...                     ...                    ...                   ...  ...   \n4682               0.027410               0.061290            144.723824  ...   \n4683               0.003784               0.008460             19.977449  ...   \n4684               0.047633               0.106510            251.501180  ...   \n4685               0.072095               0.161210            380.662441  ...   \n4686               0.248946               0.556661           1314.437764  ...   \n\n      Asc Node Longitude Orbital Period  Perihelion Distance  Perihelion Arg  \\\n0             314.373913     609.599786             0.808259       57.257470   \n1             136.717242     425.869294             0.718200      313.091975   \n2             259.475979     643.580228             0.950791      248.415038   \n3              57.173266     514.082140             0.983902       18.707701   \n4              84.629307     495.597821             0.967687      158.263596   \n...                  ...            ...                  ...             ...   \n4682          164.183305     457.179984             0.741558      276.395697   \n4683          345.225230     407.185767             0.996434       42.111064   \n4684           37.026468     690.054279             0.965760      274.692712   \n4685          163.802910     662.048343             1.185467      180.346090   \n4686          187.642183     653.679098             0.876110      222.436688   \n\n      Aphelion Dist  Perihelion Time  Mean Anomaly  Mean Motion  Equinox  \\\n0          2.005764     2.458162e+06    264.837533     0.590551    J2000   \n1          1.497352     2.457795e+06    173.741112     0.845330    J2000   \n2          1.966857     2.458120e+06    292.893654     0.559371    J2000   \n3          1.527904     2.457902e+06     68.741007     0.700277    J2000   \n4          1.483543     2.457814e+06    135.142133     0.726395    J2000   \n...             ...              ...           ...          ...      ...   \n4682       1.581299     2.457708e+06    304.306025     0.787436    J2000   \n4683       1.153835     2.458088e+06    282.978786     0.884117    J2000   \n4684       2.090708     2.458300e+06    203.501147     0.521698    J2000   \n4685       1.787733     2.458288e+06    203.524965     0.543767    J2000   \n4686       2.071980     2.458319e+06    184.820424     0.550729    J2000   \n\n      Hazardous  \n0          True  \n1         False  \n2          True  \n3         False  \n4          True  \n...         ...  \n4682      False  \n4683      False  \n4684      False  \n4685      False  \n4686      False  \n\n[4687 rows x 40 columns]",
      "text/html": "<div>\n<style scoped>\n    .dataframe tbody tr th:only-of-type {\n        vertical-align: middle;\n    }\n\n    .dataframe tbody tr th {\n        vertical-align: top;\n    }\n\n    .dataframe thead th {\n        text-align: right;\n    }\n</style>\n<table border=\"1\" class=\"dataframe\">\n  <thead>\n    <tr style=\"text-align: right;\">\n      <th></th>\n      <th>Neo Reference ID</th>\n      <th>Name</th>\n      <th>Absolute Magnitude</th>\n      <th>Est Dia in KM(min)</th>\n      <th>Est Dia in KM(max)</th>\n      <th>Est Dia in M(min)</th>\n      <th>Est Dia in M(max)</th>\n      <th>Est Dia in Miles(min)</th>\n      <th>Est Dia in Miles(max)</th>\n      <th>Est Dia in Feet(min)</th>\n      <th>...</th>\n      <th>Asc Node Longitude</th>\n      <th>Orbital Period</th>\n      <th>Perihelion Distance</th>\n      <th>Perihelion Arg</th>\n      <th>Aphelion Dist</th>\n      <th>Perihelion Time</th>\n      <th>Mean Anomaly</th>\n      <th>Mean Motion</th>\n      <th>Equinox</th>\n      <th>Hazardous</th>\n    </tr>\n  </thead>\n  <tbody>\n    <tr>\n      <th>0</th>\n      <td>3703080</td>\n      <td>3703080</td>\n      <td>21.600</td>\n      <td>0.127220</td>\n      <td>0.284472</td>\n      <td>127.219879</td>\n      <td>284.472297</td>\n      <td>0.079051</td>\n      <td>0.176763</td>\n      <td>417.388066</td>\n      <td>...</td>\n      <td>314.373913</td>\n      <td>609.599786</td>\n      <td>0.808259</td>\n      <td>57.257470</td>\n      <td>2.005764</td>\n      <td>2.458162e+06</td>\n      <td>264.837533</td>\n      <td>0.590551</td>\n      <td>J2000</td>\n      <td>True</td>\n    </tr>\n    <tr>\n      <th>1</th>\n      <td>3723955</td>\n      <td>3723955</td>\n      <td>21.300</td>\n      <td>0.146068</td>\n      <td>0.326618</td>\n      <td>146.067964</td>\n      <td>326.617897</td>\n      <td>0.090762</td>\n      <td>0.202951</td>\n      <td>479.225620</td>\n      <td>...</td>\n      <td>136.717242</td>\n      <td>425.869294</td>\n      <td>0.718200</td>\n      <td>313.091975</td>\n      <td>1.497352</td>\n      <td>2.457795e+06</td>\n      <td>173.741112</td>\n      <td>0.845330</td>\n      <td>J2000</td>\n      <td>False</td>\n    </tr>\n    <tr>\n      <th>2</th>\n      <td>2446862</td>\n      <td>2446862</td>\n      <td>20.300</td>\n      <td>0.231502</td>\n      <td>0.517654</td>\n      <td>231.502122</td>\n      <td>517.654482</td>\n      <td>0.143849</td>\n      <td>0.321655</td>\n      <td>759.521423</td>\n      <td>...</td>\n      <td>259.475979</td>\n      <td>643.580228</td>\n      <td>0.950791</td>\n      <td>248.415038</td>\n      <td>1.966857</td>\n      <td>2.458120e+06</td>\n      <td>292.893654</td>\n      <td>0.559371</td>\n      <td>J2000</td>\n      <td>True</td>\n    </tr>\n    <tr>\n      <th>3</th>\n      <td>3092506</td>\n      <td>3092506</td>\n      <td>27.400</td>\n      <td>0.008801</td>\n      <td>0.019681</td>\n      <td>8.801465</td>\n      <td>19.680675</td>\n      <td>0.005469</td>\n      <td>0.012229</td>\n      <td>28.876199</td>\n      <td>...</td>\n      <td>57.173266</td>\n      <td>514.082140</td>\n      <td>0.983902</td>\n      <td>18.707701</td>\n      <td>1.527904</td>\n      <td>2.457902e+06</td>\n      <td>68.741007</td>\n      <td>0.700277</td>\n      <td>J2000</td>\n      <td>False</td>\n    </tr>\n    <tr>\n      <th>4</th>\n      <td>3514799</td>\n      <td>3514799</td>\n      <td>21.600</td>\n      <td>0.127220</td>\n      <td>0.284472</td>\n      <td>127.219879</td>\n      <td>284.472297</td>\n      <td>0.079051</td>\n      <td>0.176763</td>\n      <td>417.388066</td>\n      <td>...</td>\n      <td>84.629307</td>\n      <td>495.597821</td>\n      <td>0.967687</td>\n      <td>158.263596</td>\n      <td>1.483543</td>\n      <td>2.457814e+06</td>\n      <td>135.142133</td>\n      <td>0.726395</td>\n      <td>J2000</td>\n      <td>True</td>\n    </tr>\n    <tr>\n      <th>...</th>\n      <td>...</td>\n      <td>...</td>\n      <td>...</td>\n      <td>...</td>\n      <td>...</td>\n      <td>...</td>\n      <td>...</td>\n      <td>...</td>\n      <td>...</td>\n      <td>...</td>\n      <td>...</td>\n      <td>...</td>\n      <td>...</td>\n      <td>...</td>\n      <td>...</td>\n      <td>...</td>\n      <td>...</td>\n      <td>...</td>\n      <td>...</td>\n      <td>...</td>\n      <td>...</td>\n    </tr>\n    <tr>\n      <th>4682</th>\n      <td>3759007</td>\n      <td>3759007</td>\n      <td>23.900</td>\n      <td>0.044112</td>\n      <td>0.098637</td>\n      <td>44.111820</td>\n      <td>98.637028</td>\n      <td>0.027410</td>\n      <td>0.061290</td>\n      <td>144.723824</td>\n      <td>...</td>\n      <td>164.183305</td>\n      <td>457.179984</td>\n      <td>0.741558</td>\n      <td>276.395697</td>\n      <td>1.581299</td>\n      <td>2.457708e+06</td>\n      <td>304.306025</td>\n      <td>0.787436</td>\n      <td>J2000</td>\n      <td>False</td>\n    </tr>\n    <tr>\n      <th>4683</th>\n      <td>3759295</td>\n      <td>3759295</td>\n      <td>28.200</td>\n      <td>0.006089</td>\n      <td>0.013616</td>\n      <td>6.089126</td>\n      <td>13.615700</td>\n      <td>0.003784</td>\n      <td>0.008460</td>\n      <td>19.977449</td>\n      <td>...</td>\n      <td>345.225230</td>\n      <td>407.185767</td>\n      <td>0.996434</td>\n      <td>42.111064</td>\n      <td>1.153835</td>\n      <td>2.458088e+06</td>\n      <td>282.978786</td>\n      <td>0.884117</td>\n      <td>J2000</td>\n      <td>False</td>\n    </tr>\n    <tr>\n      <th>4684</th>\n      <td>3759714</td>\n      <td>3759714</td>\n      <td>22.700</td>\n      <td>0.076658</td>\n      <td>0.171412</td>\n      <td>76.657557</td>\n      <td>171.411509</td>\n      <td>0.047633</td>\n      <td>0.106510</td>\n      <td>251.501180</td>\n      <td>...</td>\n      <td>37.026468</td>\n      <td>690.054279</td>\n      <td>0.965760</td>\n      <td>274.692712</td>\n      <td>2.090708</td>\n      <td>2.458300e+06</td>\n      <td>203.501147</td>\n      <td>0.521698</td>\n      <td>J2000</td>\n      <td>False</td>\n    </tr>\n    <tr>\n      <th>4685</th>\n      <td>3759720</td>\n      <td>3759720</td>\n      <td>21.800</td>\n      <td>0.116026</td>\n      <td>0.259442</td>\n      <td>116.025908</td>\n      <td>259.441818</td>\n      <td>0.072095</td>\n      <td>0.161210</td>\n      <td>380.662441</td>\n      <td>...</td>\n      <td>163.802910</td>\n      <td>662.048343</td>\n      <td>1.185467</td>\n      <td>180.346090</td>\n      <td>1.787733</td>\n      <td>2.458288e+06</td>\n      <td>203.524965</td>\n      <td>0.543767</td>\n      <td>J2000</td>\n      <td>False</td>\n    </tr>\n    <tr>\n      <th>4686</th>\n      <td>3772978</td>\n      <td>3772978</td>\n      <td>19.109</td>\n      <td>0.400641</td>\n      <td>0.895860</td>\n      <td>400.640618</td>\n      <td>895.859655</td>\n      <td>0.248946</td>\n      <td>0.556661</td>\n      <td>1314.437764</td>\n      <td>...</td>\n      <td>187.642183</td>\n      <td>653.679098</td>\n      <td>0.876110</td>\n      <td>222.436688</td>\n      <td>2.071980</td>\n      <td>2.458319e+06</td>\n      <td>184.820424</td>\n      <td>0.550729</td>\n      <td>J2000</td>\n      <td>False</td>\n    </tr>\n  </tbody>\n</table>\n<p>4687 rows × 40 columns</p>\n</div>"
     },
     "execution_count": 3,
     "metadata": {},
     "output_type": "execute_result"
    }
   ],
   "source": [
    "df"
   ],
   "metadata": {
    "collapsed": false,
    "ExecuteTime": {
     "end_time": "2023-09-29T11:20:37.880750Z",
     "start_time": "2023-09-29T11:20:37.851123Z"
    }
   },
   "id": "c6ac7e6b10912739"
  },
  {
   "cell_type": "code",
   "execution_count": 10,
   "outputs": [],
   "source": [
    "deletedColumns = ['Neo Reference ID', 'Close Approach Date', 'Orbit Determination Date', 'Equinox', 'Orbiting Body']"
   ],
   "metadata": {
    "collapsed": false,
    "ExecuteTime": {
     "end_time": "2023-09-29T11:31:16.884287Z",
     "start_time": "2023-09-29T11:31:16.880450Z"
    }
   },
   "id": "1a7633ebfd2e9223"
  },
  {
   "cell_type": "code",
   "execution_count": 4,
   "outputs": [
    {
     "data": {
      "text/plain": "Neo Reference ID                0\nName                            0\nAbsolute Magnitude              0\nEst Dia in KM(min)              0\nEst Dia in KM(max)              0\nEst Dia in M(min)               0\nEst Dia in M(max)               0\nEst Dia in Miles(min)           0\nEst Dia in Miles(max)           0\nEst Dia in Feet(min)            0\nEst Dia in Feet(max)            0\nClose Approach Date             0\nEpoch Date Close Approach       0\nRelative Velocity km per sec    0\nRelative Velocity km per hr     0\nMiles per hour                  0\nMiss Dist.(Astronomical)        0\nMiss Dist.(lunar)               0\nMiss Dist.(kilometers)          0\nMiss Dist.(miles)               0\nOrbiting Body                   0\nOrbit ID                        0\nOrbit Determination Date        0\nOrbit Uncertainity              0\nMinimum Orbit Intersection      0\nJupiter Tisserand Invariant     0\nEpoch Osculation                0\nEccentricity                    0\nSemi Major Axis                 0\nInclination                     0\nAsc Node Longitude              0\nOrbital Period                  0\nPerihelion Distance             0\nPerihelion Arg                  0\nAphelion Dist                   0\nPerihelion Time                 0\nMean Anomaly                    0\nMean Motion                     0\nEquinox                         0\nHazardous                       0\ndtype: int64"
     },
     "execution_count": 4,
     "metadata": {},
     "output_type": "execute_result"
    }
   ],
   "source": [
    "df.isnull().sum()"
   ],
   "metadata": {
    "collapsed": false,
    "ExecuteTime": {
     "end_time": "2023-09-29T11:21:21.808050Z",
     "start_time": "2023-09-29T11:21:21.796296Z"
    }
   },
   "id": "5a3928d8393dd791"
  },
  {
   "cell_type": "code",
   "execution_count": 5,
   "outputs": [
    {
     "name": "stdout",
     "output_type": "stream",
     "text": [
      "Close Approach Date\n",
      "Orbiting Body\n",
      "Orbit Determination Date\n",
      "Equinox\n"
     ]
    }
   ],
   "source": [
    "for i in df.columns:\n",
    "    type = df[i].dtype\n",
    "    if(type == 'object'):\n",
    "        print(i)"
   ],
   "metadata": {
    "collapsed": false,
    "ExecuteTime": {
     "end_time": "2023-09-29T11:22:22.957282Z",
     "start_time": "2023-09-29T11:22:22.949235Z"
    }
   },
   "id": "64a3983b600e468c"
  },
  {
   "cell_type": "code",
   "execution_count": 11,
   "outputs": [],
   "source": [
    "df = df.drop(columns = deletedColumns, axis = 1)"
   ],
   "metadata": {
    "collapsed": false,
    "ExecuteTime": {
     "end_time": "2023-09-29T11:31:20.596112Z",
     "start_time": "2023-09-29T11:31:20.590401Z"
    }
   },
   "id": "d5074ba68e638e49"
  },
  {
   "cell_type": "code",
   "execution_count": 12,
   "outputs": [
    {
     "data": {
      "text/plain": "         Name  Absolute Magnitude  Est Dia in KM(min)  Est Dia in KM(max)  \\\n0     3703080              21.600            0.127220            0.284472   \n1     3723955              21.300            0.146068            0.326618   \n2     2446862              20.300            0.231502            0.517654   \n3     3092506              27.400            0.008801            0.019681   \n4     3514799              21.600            0.127220            0.284472   \n...       ...                 ...                 ...                 ...   \n4682  3759007              23.900            0.044112            0.098637   \n4683  3759295              28.200            0.006089            0.013616   \n4684  3759714              22.700            0.076658            0.171412   \n4685  3759720              21.800            0.116026            0.259442   \n4686  3772978              19.109            0.400641            0.895860   \n\n      Est Dia in M(min)  Est Dia in M(max)  Est Dia in Miles(min)  \\\n0            127.219879         284.472297               0.079051   \n1            146.067964         326.617897               0.090762   \n2            231.502122         517.654482               0.143849   \n3              8.801465          19.680675               0.005469   \n4            127.219879         284.472297               0.079051   \n...                 ...                ...                    ...   \n4682          44.111820          98.637028               0.027410   \n4683           6.089126          13.615700               0.003784   \n4684          76.657557         171.411509               0.047633   \n4685         116.025908         259.441818               0.072095   \n4686         400.640618         895.859655               0.248946   \n\n      Est Dia in Miles(max)  Est Dia in Feet(min)  Est Dia in Feet(max)  ...  \\\n0                  0.176763            417.388066            933.308089  ...   \n1                  0.202951            479.225620           1071.581063  ...   \n2                  0.321655            759.521423           1698.341531  ...   \n3                  0.012229             28.876199             64.569144  ...   \n4                  0.176763            417.388066            933.308089  ...   \n...                     ...                   ...                   ...  ...   \n4682               0.061290            144.723824            323.612307  ...   \n4683               0.008460             19.977449             44.670934  ...   \n4684               0.106510            251.501180            562.373736  ...   \n4685               0.161210            380.662441            851.187094  ...   \n4686               0.556661           1314.437764           2939.172192  ...   \n\n      Inclination  Asc Node Longitude  Orbital Period  Perihelion Distance  \\\n0        6.025981          314.373913      609.599786             0.808259   \n1       28.412996          136.717242      425.869294             0.718200   \n2        4.237961          259.475979      643.580228             0.950791   \n3        7.905894           57.173266      514.082140             0.983902   \n4       16.793382           84.629307      495.597821             0.967687   \n...           ...                 ...             ...                  ...   \n4682    39.880491          164.183305      457.179984             0.741558   \n4683     5.360249          345.225230      407.185767             0.996434   \n4684     4.405467           37.026468      690.054279             0.965760   \n4685    21.080244          163.802910      662.048343             1.185467   \n4686    53.574923          187.642183      653.679098             0.876110   \n\n      Perihelion Arg  Aphelion Dist  Perihelion Time  Mean Anomaly  \\\n0          57.257470       2.005764     2.458162e+06    264.837533   \n1         313.091975       1.497352     2.457795e+06    173.741112   \n2         248.415038       1.966857     2.458120e+06    292.893654   \n3          18.707701       1.527904     2.457902e+06     68.741007   \n4         158.263596       1.483543     2.457814e+06    135.142133   \n...              ...            ...              ...           ...   \n4682      276.395697       1.581299     2.457708e+06    304.306025   \n4683       42.111064       1.153835     2.458088e+06    282.978786   \n4684      274.692712       2.090708     2.458300e+06    203.501147   \n4685      180.346090       1.787733     2.458288e+06    203.524965   \n4686      222.436688       2.071980     2.458319e+06    184.820424   \n\n      Mean Motion  Hazardous  \n0        0.590551       True  \n1        0.845330      False  \n2        0.559371       True  \n3        0.700277      False  \n4        0.726395       True  \n...           ...        ...  \n4682     0.787436      False  \n4683     0.884117      False  \n4684     0.521698      False  \n4685     0.543767      False  \n4686     0.550729      False  \n\n[4687 rows x 35 columns]",
      "text/html": "<div>\n<style scoped>\n    .dataframe tbody tr th:only-of-type {\n        vertical-align: middle;\n    }\n\n    .dataframe tbody tr th {\n        vertical-align: top;\n    }\n\n    .dataframe thead th {\n        text-align: right;\n    }\n</style>\n<table border=\"1\" class=\"dataframe\">\n  <thead>\n    <tr style=\"text-align: right;\">\n      <th></th>\n      <th>Name</th>\n      <th>Absolute Magnitude</th>\n      <th>Est Dia in KM(min)</th>\n      <th>Est Dia in KM(max)</th>\n      <th>Est Dia in M(min)</th>\n      <th>Est Dia in M(max)</th>\n      <th>Est Dia in Miles(min)</th>\n      <th>Est Dia in Miles(max)</th>\n      <th>Est Dia in Feet(min)</th>\n      <th>Est Dia in Feet(max)</th>\n      <th>...</th>\n      <th>Inclination</th>\n      <th>Asc Node Longitude</th>\n      <th>Orbital Period</th>\n      <th>Perihelion Distance</th>\n      <th>Perihelion Arg</th>\n      <th>Aphelion Dist</th>\n      <th>Perihelion Time</th>\n      <th>Mean Anomaly</th>\n      <th>Mean Motion</th>\n      <th>Hazardous</th>\n    </tr>\n  </thead>\n  <tbody>\n    <tr>\n      <th>0</th>\n      <td>3703080</td>\n      <td>21.600</td>\n      <td>0.127220</td>\n      <td>0.284472</td>\n      <td>127.219879</td>\n      <td>284.472297</td>\n      <td>0.079051</td>\n      <td>0.176763</td>\n      <td>417.388066</td>\n      <td>933.308089</td>\n      <td>...</td>\n      <td>6.025981</td>\n      <td>314.373913</td>\n      <td>609.599786</td>\n      <td>0.808259</td>\n      <td>57.257470</td>\n      <td>2.005764</td>\n      <td>2.458162e+06</td>\n      <td>264.837533</td>\n      <td>0.590551</td>\n      <td>True</td>\n    </tr>\n    <tr>\n      <th>1</th>\n      <td>3723955</td>\n      <td>21.300</td>\n      <td>0.146068</td>\n      <td>0.326618</td>\n      <td>146.067964</td>\n      <td>326.617897</td>\n      <td>0.090762</td>\n      <td>0.202951</td>\n      <td>479.225620</td>\n      <td>1071.581063</td>\n      <td>...</td>\n      <td>28.412996</td>\n      <td>136.717242</td>\n      <td>425.869294</td>\n      <td>0.718200</td>\n      <td>313.091975</td>\n      <td>1.497352</td>\n      <td>2.457795e+06</td>\n      <td>173.741112</td>\n      <td>0.845330</td>\n      <td>False</td>\n    </tr>\n    <tr>\n      <th>2</th>\n      <td>2446862</td>\n      <td>20.300</td>\n      <td>0.231502</td>\n      <td>0.517654</td>\n      <td>231.502122</td>\n      <td>517.654482</td>\n      <td>0.143849</td>\n      <td>0.321655</td>\n      <td>759.521423</td>\n      <td>1698.341531</td>\n      <td>...</td>\n      <td>4.237961</td>\n      <td>259.475979</td>\n      <td>643.580228</td>\n      <td>0.950791</td>\n      <td>248.415038</td>\n      <td>1.966857</td>\n      <td>2.458120e+06</td>\n      <td>292.893654</td>\n      <td>0.559371</td>\n      <td>True</td>\n    </tr>\n    <tr>\n      <th>3</th>\n      <td>3092506</td>\n      <td>27.400</td>\n      <td>0.008801</td>\n      <td>0.019681</td>\n      <td>8.801465</td>\n      <td>19.680675</td>\n      <td>0.005469</td>\n      <td>0.012229</td>\n      <td>28.876199</td>\n      <td>64.569144</td>\n      <td>...</td>\n      <td>7.905894</td>\n      <td>57.173266</td>\n      <td>514.082140</td>\n      <td>0.983902</td>\n      <td>18.707701</td>\n      <td>1.527904</td>\n      <td>2.457902e+06</td>\n      <td>68.741007</td>\n      <td>0.700277</td>\n      <td>False</td>\n    </tr>\n    <tr>\n      <th>4</th>\n      <td>3514799</td>\n      <td>21.600</td>\n      <td>0.127220</td>\n      <td>0.284472</td>\n      <td>127.219879</td>\n      <td>284.472297</td>\n      <td>0.079051</td>\n      <td>0.176763</td>\n      <td>417.388066</td>\n      <td>933.308089</td>\n      <td>...</td>\n      <td>16.793382</td>\n      <td>84.629307</td>\n      <td>495.597821</td>\n      <td>0.967687</td>\n      <td>158.263596</td>\n      <td>1.483543</td>\n      <td>2.457814e+06</td>\n      <td>135.142133</td>\n      <td>0.726395</td>\n      <td>True</td>\n    </tr>\n    <tr>\n      <th>...</th>\n      <td>...</td>\n      <td>...</td>\n      <td>...</td>\n      <td>...</td>\n      <td>...</td>\n      <td>...</td>\n      <td>...</td>\n      <td>...</td>\n      <td>...</td>\n      <td>...</td>\n      <td>...</td>\n      <td>...</td>\n      <td>...</td>\n      <td>...</td>\n      <td>...</td>\n      <td>...</td>\n      <td>...</td>\n      <td>...</td>\n      <td>...</td>\n      <td>...</td>\n      <td>...</td>\n    </tr>\n    <tr>\n      <th>4682</th>\n      <td>3759007</td>\n      <td>23.900</td>\n      <td>0.044112</td>\n      <td>0.098637</td>\n      <td>44.111820</td>\n      <td>98.637028</td>\n      <td>0.027410</td>\n      <td>0.061290</td>\n      <td>144.723824</td>\n      <td>323.612307</td>\n      <td>...</td>\n      <td>39.880491</td>\n      <td>164.183305</td>\n      <td>457.179984</td>\n      <td>0.741558</td>\n      <td>276.395697</td>\n      <td>1.581299</td>\n      <td>2.457708e+06</td>\n      <td>304.306025</td>\n      <td>0.787436</td>\n      <td>False</td>\n    </tr>\n    <tr>\n      <th>4683</th>\n      <td>3759295</td>\n      <td>28.200</td>\n      <td>0.006089</td>\n      <td>0.013616</td>\n      <td>6.089126</td>\n      <td>13.615700</td>\n      <td>0.003784</td>\n      <td>0.008460</td>\n      <td>19.977449</td>\n      <td>44.670934</td>\n      <td>...</td>\n      <td>5.360249</td>\n      <td>345.225230</td>\n      <td>407.185767</td>\n      <td>0.996434</td>\n      <td>42.111064</td>\n      <td>1.153835</td>\n      <td>2.458088e+06</td>\n      <td>282.978786</td>\n      <td>0.884117</td>\n      <td>False</td>\n    </tr>\n    <tr>\n      <th>4684</th>\n      <td>3759714</td>\n      <td>22.700</td>\n      <td>0.076658</td>\n      <td>0.171412</td>\n      <td>76.657557</td>\n      <td>171.411509</td>\n      <td>0.047633</td>\n      <td>0.106510</td>\n      <td>251.501180</td>\n      <td>562.373736</td>\n      <td>...</td>\n      <td>4.405467</td>\n      <td>37.026468</td>\n      <td>690.054279</td>\n      <td>0.965760</td>\n      <td>274.692712</td>\n      <td>2.090708</td>\n      <td>2.458300e+06</td>\n      <td>203.501147</td>\n      <td>0.521698</td>\n      <td>False</td>\n    </tr>\n    <tr>\n      <th>4685</th>\n      <td>3759720</td>\n      <td>21.800</td>\n      <td>0.116026</td>\n      <td>0.259442</td>\n      <td>116.025908</td>\n      <td>259.441818</td>\n      <td>0.072095</td>\n      <td>0.161210</td>\n      <td>380.662441</td>\n      <td>851.187094</td>\n      <td>...</td>\n      <td>21.080244</td>\n      <td>163.802910</td>\n      <td>662.048343</td>\n      <td>1.185467</td>\n      <td>180.346090</td>\n      <td>1.787733</td>\n      <td>2.458288e+06</td>\n      <td>203.524965</td>\n      <td>0.543767</td>\n      <td>False</td>\n    </tr>\n    <tr>\n      <th>4686</th>\n      <td>3772978</td>\n      <td>19.109</td>\n      <td>0.400641</td>\n      <td>0.895860</td>\n      <td>400.640618</td>\n      <td>895.859655</td>\n      <td>0.248946</td>\n      <td>0.556661</td>\n      <td>1314.437764</td>\n      <td>2939.172192</td>\n      <td>...</td>\n      <td>53.574923</td>\n      <td>187.642183</td>\n      <td>653.679098</td>\n      <td>0.876110</td>\n      <td>222.436688</td>\n      <td>2.071980</td>\n      <td>2.458319e+06</td>\n      <td>184.820424</td>\n      <td>0.550729</td>\n      <td>False</td>\n    </tr>\n  </tbody>\n</table>\n<p>4687 rows × 35 columns</p>\n</div>"
     },
     "execution_count": 12,
     "metadata": {},
     "output_type": "execute_result"
    }
   ],
   "source": [
    "df"
   ],
   "metadata": {
    "collapsed": false,
    "ExecuteTime": {
     "end_time": "2023-09-29T11:31:22.037839Z",
     "start_time": "2023-09-29T11:31:22.020514Z"
    }
   },
   "id": "98f5cfb19c7c302e"
  },
  {
   "cell_type": "code",
   "execution_count": 13,
   "outputs": [],
   "source": [
    "x  = df.drop(columns = ['Hazardous'], axis = 1)\n",
    "y = df['Hazardous']"
   ],
   "metadata": {
    "collapsed": false,
    "ExecuteTime": {
     "end_time": "2023-09-29T11:32:09.622417Z",
     "start_time": "2023-09-29T11:32:09.618165Z"
    }
   },
   "id": "a273093b5dd3ee97"
  },
  {
   "cell_type": "code",
   "execution_count": 16,
   "outputs": [],
   "source": [
    "from sklearn.preprocessing import LabelEncoder"
   ],
   "metadata": {
    "collapsed": false,
    "ExecuteTime": {
     "end_time": "2023-09-29T11:32:38.680116Z",
     "start_time": "2023-09-29T11:32:35.268620Z"
    }
   },
   "id": "1908d0780f234c79"
  },
  {
   "cell_type": "code",
   "execution_count": 17,
   "outputs": [],
   "source": [
    "labelEncoder = LabelEncoder()"
   ],
   "metadata": {
    "collapsed": false,
    "ExecuteTime": {
     "end_time": "2023-09-29T11:32:53.992361Z",
     "start_time": "2023-09-29T11:32:53.989951Z"
    }
   },
   "id": "253dc0a2e150bc95"
  },
  {
   "cell_type": "code",
   "execution_count": 18,
   "outputs": [],
   "source": [
    "y = labelEncoder.fit_transform(y)"
   ],
   "metadata": {
    "collapsed": false,
    "ExecuteTime": {
     "end_time": "2023-09-29T11:33:31.677115Z",
     "start_time": "2023-09-29T11:33:31.663204Z"
    }
   },
   "id": "a37f32617f9f632d"
  },
  {
   "cell_type": "code",
   "execution_count": 19,
   "outputs": [
    {
     "data": {
      "text/plain": "array([1, 0, 1, ..., 0, 0, 0])"
     },
     "execution_count": 19,
     "metadata": {},
     "output_type": "execute_result"
    }
   ],
   "source": [
    "y"
   ],
   "metadata": {
    "collapsed": false,
    "ExecuteTime": {
     "end_time": "2023-09-29T11:33:33.310962Z",
     "start_time": "2023-09-29T11:33:33.292372Z"
    }
   },
   "id": "1d4a9c90611cf72c"
  },
  {
   "cell_type": "code",
   "execution_count": 20,
   "outputs": [],
   "source": [
    "from sklearn.preprocessing import StandardScaler"
   ],
   "metadata": {
    "collapsed": false,
    "ExecuteTime": {
     "end_time": "2023-09-29T11:33:52.874204Z",
     "start_time": "2023-09-29T11:33:52.869883Z"
    }
   },
   "id": "ef19c07d70134548"
  },
  {
   "cell_type": "code",
   "execution_count": 21,
   "outputs": [],
   "source": [
    "scaler = StandardScaler()"
   ],
   "metadata": {
    "collapsed": false,
    "ExecuteTime": {
     "end_time": "2023-09-29T11:34:03.189061Z",
     "start_time": "2023-09-29T11:34:03.170773Z"
    }
   },
   "id": "2ef1cc7e42143071"
  },
  {
   "cell_type": "code",
   "execution_count": 22,
   "outputs": [],
   "source": [
    "x = scaler.fit_transform(x)"
   ],
   "metadata": {
    "collapsed": false,
    "ExecuteTime": {
     "end_time": "2023-09-29T11:34:30.457900Z",
     "start_time": "2023-09-29T11:34:30.434791Z"
    }
   },
   "id": "7f5c94e52a79d145"
  },
  {
   "cell_type": "code",
   "execution_count": 24,
   "outputs": [],
   "source": [
    "#Randomized"
   ],
   "metadata": {
    "collapsed": false,
    "ExecuteTime": {
     "end_time": "2023-09-29T11:34:55.895625Z",
     "start_time": "2023-09-29T11:34:55.887931Z"
    }
   },
   "id": "a37849be1470d025"
  },
  {
   "cell_type": "code",
   "execution_count": 25,
   "outputs": [],
   "source": [
    "from sklearn.model_selection import train_test_split"
   ],
   "metadata": {
    "collapsed": false,
    "ExecuteTime": {
     "end_time": "2023-09-29T11:35:18.322210Z",
     "start_time": "2023-09-29T11:35:17.888734Z"
    }
   },
   "id": "40294b0773730d74"
  },
  {
   "cell_type": "code",
   "execution_count": 27,
   "outputs": [],
   "source": [
    "x_train, x_test, y_train, y_test = train_test_split(x, y, test_size = 0.2)"
   ],
   "metadata": {
    "collapsed": false,
    "ExecuteTime": {
     "end_time": "2023-09-29T11:36:06.597921Z",
     "start_time": "2023-09-29T11:36:06.593541Z"
    }
   },
   "id": "c8b23b9eb1840d4e"
  },
  {
   "cell_type": "code",
   "execution_count": 31,
   "outputs": [],
   "source": [
    "from xgboost import XGBClassifier"
   ],
   "metadata": {
    "collapsed": false,
    "ExecuteTime": {
     "end_time": "2023-09-29T11:37:14.209385Z",
     "start_time": "2023-09-29T11:37:12.534328Z"
    }
   },
   "id": "5e4b7bed5f222eb"
  },
  {
   "cell_type": "code",
   "execution_count": 32,
   "outputs": [],
   "source": [
    "model = XGBClassifier()"
   ],
   "metadata": {
    "collapsed": false,
    "ExecuteTime": {
     "end_time": "2023-09-29T11:37:21.030512Z",
     "start_time": "2023-09-29T11:37:21.010702Z"
    }
   },
   "id": "88fefc7ef6bc84d2"
  },
  {
   "cell_type": "code",
   "execution_count": 38,
   "outputs": [
    {
     "name": "stdout",
     "output_type": "stream",
     "text": [
      "Help on class XGBClassifier in module xgboost.sklearn:\n",
      "\n",
      "class XGBClassifier(XGBModel, XGBClassifierMixIn, sklearn.base.ClassifierMixin)\n",
      " |  XGBClassifier(*, objective: Union[str, Callable[[numpy.ndarray, numpy.ndarray], Tuple[numpy.ndarray, numpy.ndarray]], NoneType] = 'binary:logistic', **kwargs: Any) -> None\n",
      " |  \n",
      " |  Implementation of the scikit-learn API for XGBoost classification.\n",
      " |  See :doc:`/python/sklearn_estimator` for more information.\n",
      " |  \n",
      " |  Parameters\n",
      " |  ----------\n",
      " |  \n",
      " |      n_estimators : Optional[int]\n",
      " |          Number of boosting rounds.\n",
      " |  \n",
      " |      max_depth :  Optional[int]\n",
      " |          Maximum tree depth for base learners.\n",
      " |      max_leaves :\n",
      " |          Maximum number of leaves; 0 indicates no limit.\n",
      " |      max_bin :\n",
      " |          If using histogram-based algorithm, maximum number of bins per feature\n",
      " |      grow_policy :\n",
      " |          Tree growing policy. 0: favor splitting at nodes closest to the node, i.e. grow\n",
      " |          depth-wise. 1: favor splitting at nodes with highest loss change.\n",
      " |      learning_rate : Optional[float]\n",
      " |          Boosting learning rate (xgb's \"eta\")\n",
      " |      verbosity : Optional[int]\n",
      " |          The degree of verbosity. Valid values are 0 (silent) - 3 (debug).\n",
      " |      objective : typing.Union[str, typing.Callable[[numpy.ndarray, numpy.ndarray], typing.Tuple[numpy.ndarray, numpy.ndarray]], NoneType]\n",
      " |          Specify the learning task and the corresponding learning objective or\n",
      " |          a custom objective function to be used (see note below).\n",
      " |      booster: Optional[str]\n",
      " |          Specify which booster to use: gbtree, gblinear or dart.\n",
      " |      tree_method: Optional[str]\n",
      " |          Specify which tree method to use.  Default to auto.  If this parameter is set to\n",
      " |          default, XGBoost will choose the most conservative option available.  It's\n",
      " |          recommended to study this option from the parameters document :doc:`tree method\n",
      " |          </treemethod>`\n",
      " |      n_jobs : Optional[int]\n",
      " |          Number of parallel threads used to run xgboost.  When used with other\n",
      " |          Scikit-Learn algorithms like grid search, you may choose which algorithm to\n",
      " |          parallelize and balance the threads.  Creating thread contention will\n",
      " |          significantly slow down both algorithms.\n",
      " |      gamma : Optional[float]\n",
      " |          (min_split_loss) Minimum loss reduction required to make a further partition on a\n",
      " |          leaf node of the tree.\n",
      " |      min_child_weight : Optional[float]\n",
      " |          Minimum sum of instance weight(hessian) needed in a child.\n",
      " |      max_delta_step : Optional[float]\n",
      " |          Maximum delta step we allow each tree's weight estimation to be.\n",
      " |      subsample : Optional[float]\n",
      " |          Subsample ratio of the training instance.\n",
      " |      sampling_method :\n",
      " |          Sampling method. Used only by the GPU version of ``hist`` tree method.\n",
      " |            - ``uniform``: select random training instances uniformly.\n",
      " |            - ``gradient_based`` select random training instances with higher probability\n",
      " |              when the gradient and hessian are larger. (cf. CatBoost)\n",
      " |      colsample_bytree : Optional[float]\n",
      " |          Subsample ratio of columns when constructing each tree.\n",
      " |      colsample_bylevel : Optional[float]\n",
      " |          Subsample ratio of columns for each level.\n",
      " |      colsample_bynode : Optional[float]\n",
      " |          Subsample ratio of columns for each split.\n",
      " |      reg_alpha : Optional[float]\n",
      " |          L1 regularization term on weights (xgb's alpha).\n",
      " |      reg_lambda : Optional[float]\n",
      " |          L2 regularization term on weights (xgb's lambda).\n",
      " |      scale_pos_weight : Optional[float]\n",
      " |          Balancing of positive and negative weights.\n",
      " |      base_score : Optional[float]\n",
      " |          The initial prediction score of all instances, global bias.\n",
      " |      random_state : Optional[Union[numpy.random.RandomState, int]]\n",
      " |          Random number seed.\n",
      " |  \n",
      " |          .. note::\n",
      " |  \n",
      " |             Using gblinear booster with shotgun updater is nondeterministic as\n",
      " |             it uses Hogwild algorithm.\n",
      " |  \n",
      " |      missing : float, default np.nan\n",
      " |          Value in the data which needs to be present as a missing value.\n",
      " |      num_parallel_tree: Optional[int]\n",
      " |          Used for boosting random forest.\n",
      " |      monotone_constraints : Optional[Union[Dict[str, int], str]]\n",
      " |          Constraint of variable monotonicity.  See :doc:`tutorial </tutorials/monotonic>`\n",
      " |          for more information.\n",
      " |      interaction_constraints : Optional[Union[str, List[Tuple[str]]]]\n",
      " |          Constraints for interaction representing permitted interactions.  The\n",
      " |          constraints must be specified in the form of a nested list, e.g. ``[[0, 1], [2,\n",
      " |          3, 4]]``, where each inner list is a group of indices of features that are\n",
      " |          allowed to interact with each other.  See :doc:`tutorial\n",
      " |          </tutorials/feature_interaction_constraint>` for more information\n",
      " |      importance_type: Optional[str]\n",
      " |          The feature importance type for the feature_importances\\_ property:\n",
      " |  \n",
      " |          * For tree model, it's either \"gain\", \"weight\", \"cover\", \"total_gain\" or\n",
      " |            \"total_cover\".\n",
      " |          * For linear model, only \"weight\" is defined and it's the normalized coefficients\n",
      " |            without bias.\n",
      " |  \n",
      " |      device : Optional[str]\n",
      " |  \n",
      " |          .. versionadded:: 2.0.0\n",
      " |  \n",
      " |          Device ordinal, available options are `cpu`, `cuda`, and `gpu`.\n",
      " |  \n",
      " |      validate_parameters : Optional[bool]\n",
      " |  \n",
      " |          Give warnings for unknown parameter.\n",
      " |  \n",
      " |      enable_categorical : bool\n",
      " |  \n",
      " |          .. versionadded:: 1.5.0\n",
      " |  \n",
      " |          .. note:: This parameter is experimental\n",
      " |  \n",
      " |          Experimental support for categorical data.  When enabled, cudf/pandas.DataFrame\n",
      " |          should be used to specify categorical data type.  Also, JSON/UBJSON\n",
      " |          serialization format is required.\n",
      " |  \n",
      " |      feature_types : Optional[FeatureTypes]\n",
      " |  \n",
      " |          .. versionadded:: 1.7.0\n",
      " |  \n",
      " |          Used for specifying feature types without constructing a dataframe. See\n",
      " |          :py:class:`DMatrix` for details.\n",
      " |  \n",
      " |      max_cat_to_onehot : Optional[int]\n",
      " |  \n",
      " |          .. versionadded:: 1.6.0\n",
      " |  \n",
      " |          .. note:: This parameter is experimental\n",
      " |  \n",
      " |          A threshold for deciding whether XGBoost should use one-hot encoding based split\n",
      " |          for categorical data.  When number of categories is lesser than the threshold\n",
      " |          then one-hot encoding is chosen, otherwise the categories will be partitioned\n",
      " |          into children nodes. Also, `enable_categorical` needs to be set to have\n",
      " |          categorical feature support. See :doc:`Categorical Data\n",
      " |          </tutorials/categorical>` and :ref:`cat-param` for details.\n",
      " |  \n",
      " |      max_cat_threshold : Optional[int]\n",
      " |  \n",
      " |          .. versionadded:: 1.7.0\n",
      " |  \n",
      " |          .. note:: This parameter is experimental\n",
      " |  \n",
      " |          Maximum number of categories considered for each split. Used only by\n",
      " |          partition-based splits for preventing over-fitting. Also, `enable_categorical`\n",
      " |          needs to be set to have categorical feature support. See :doc:`Categorical Data\n",
      " |          </tutorials/categorical>` and :ref:`cat-param` for details.\n",
      " |  \n",
      " |      multi_strategy : Optional[str]\n",
      " |  \n",
      " |          .. versionadded:: 2.0.0\n",
      " |  \n",
      " |          .. note:: This parameter is working-in-progress.\n",
      " |  \n",
      " |          The strategy used for training multi-target models, including multi-target\n",
      " |          regression and multi-class classification. See :doc:`/tutorials/multioutput` for\n",
      " |          more information.\n",
      " |  \n",
      " |          - ``one_output_per_tree``: One model for each target.\n",
      " |          - ``multi_output_tree``:  Use multi-target trees.\n",
      " |  \n",
      " |      eval_metric : Optional[Union[str, List[str], Callable]]\n",
      " |  \n",
      " |          .. versionadded:: 1.6.0\n",
      " |  \n",
      " |          Metric used for monitoring the training result and early stopping.  It can be a\n",
      " |          string or list of strings as names of predefined metric in XGBoost (See\n",
      " |          doc/parameter.rst), one of the metrics in :py:mod:`sklearn.metrics`, or any other\n",
      " |          user defined metric that looks like `sklearn.metrics`.\n",
      " |  \n",
      " |          If custom objective is also provided, then custom metric should implement the\n",
      " |          corresponding reverse link function.\n",
      " |  \n",
      " |          Unlike the `scoring` parameter commonly used in scikit-learn, when a callable\n",
      " |          object is provided, it's assumed to be a cost function and by default XGBoost will\n",
      " |          minimize the result during early stopping.\n",
      " |  \n",
      " |          For advanced usage on Early stopping like directly choosing to maximize instead of\n",
      " |          minimize, see :py:obj:`xgboost.callback.EarlyStopping`.\n",
      " |  \n",
      " |          See :doc:`Custom Objective and Evaluation Metric </tutorials/custom_metric_obj>`\n",
      " |          for more.\n",
      " |  \n",
      " |          .. note::\n",
      " |  \n",
      " |               This parameter replaces `eval_metric` in :py:meth:`fit` method.  The old\n",
      " |               one receives un-transformed prediction regardless of whether custom\n",
      " |               objective is being used.\n",
      " |  \n",
      " |          .. code-block:: python\n",
      " |  \n",
      " |              from sklearn.datasets import load_diabetes\n",
      " |              from sklearn.metrics import mean_absolute_error\n",
      " |              X, y = load_diabetes(return_X_y=True)\n",
      " |              reg = xgb.XGBRegressor(\n",
      " |                  tree_method=\"hist\",\n",
      " |                  eval_metric=mean_absolute_error,\n",
      " |              )\n",
      " |              reg.fit(X, y, eval_set=[(X, y)])\n",
      " |  \n",
      " |      early_stopping_rounds : Optional[int]\n",
      " |  \n",
      " |          .. versionadded:: 1.6.0\n",
      " |  \n",
      " |          - Activates early stopping. Validation metric needs to improve at least once in\n",
      " |            every **early_stopping_rounds** round(s) to continue training.  Requires at\n",
      " |            least one item in **eval_set** in :py:meth:`fit`.\n",
      " |  \n",
      " |          - If early stopping occurs, the model will have two additional attributes:\n",
      " |            :py:attr:`best_score` and :py:attr:`best_iteration`. These are used by the\n",
      " |            :py:meth:`predict` and :py:meth:`apply` methods to determine the optimal\n",
      " |            number of trees during inference. If users want to access the full model\n",
      " |            (including trees built after early stopping), they can specify the\n",
      " |            `iteration_range` in these inference methods. In addition, other utilities\n",
      " |            like model plotting can also use the entire model.\n",
      " |  \n",
      " |          - If you prefer to discard the trees after `best_iteration`, consider using the\n",
      " |            callback function :py:class:`xgboost.callback.EarlyStopping`.\n",
      " |  \n",
      " |          - If there's more than one item in **eval_set**, the last entry will be used for\n",
      " |            early stopping.  If there's more than one metric in **eval_metric**, the last\n",
      " |            metric will be used for early stopping.\n",
      " |  \n",
      " |          .. note::\n",
      " |  \n",
      " |              This parameter replaces `early_stopping_rounds` in :py:meth:`fit` method.\n",
      " |  \n",
      " |      callbacks : Optional[List[TrainingCallback]]\n",
      " |          List of callback functions that are applied at end of each iteration.\n",
      " |          It is possible to use predefined callbacks by using\n",
      " |          :ref:`Callback API <callback_api>`.\n",
      " |  \n",
      " |          .. note::\n",
      " |  \n",
      " |             States in callback are not preserved during training, which means callback\n",
      " |             objects can not be reused for multiple training sessions without\n",
      " |             reinitialization or deepcopy.\n",
      " |  \n",
      " |          .. code-block:: python\n",
      " |  \n",
      " |              for params in parameters_grid:\n",
      " |                  # be sure to (re)initialize the callbacks before each run\n",
      " |                  callbacks = [xgb.callback.LearningRateScheduler(custom_rates)]\n",
      " |                  reg = xgboost.XGBRegressor(**params, callbacks=callbacks)\n",
      " |                  reg.fit(X, y)\n",
      " |  \n",
      " |      kwargs : dict, optional\n",
      " |          Keyword arguments for XGBoost Booster object.  Full documentation of parameters\n",
      " |          can be found :doc:`here </parameter>`.\n",
      " |          Attempting to set a parameter via the constructor args and \\*\\*kwargs\n",
      " |          dict simultaneously will result in a TypeError.\n",
      " |  \n",
      " |          .. note:: \\*\\*kwargs unsupported by scikit-learn\n",
      " |  \n",
      " |              \\*\\*kwargs is unsupported by scikit-learn.  We do not guarantee\n",
      " |              that parameters passed via this argument will interact properly\n",
      " |              with scikit-learn.\n",
      " |  \n",
      " |          .. note::  Custom objective function\n",
      " |  \n",
      " |              A custom objective function can be provided for the ``objective``\n",
      " |              parameter. In this case, it should have the signature\n",
      " |              ``objective(y_true, y_pred) -> grad, hess``:\n",
      " |  \n",
      " |              y_true: array_like of shape [n_samples]\n",
      " |                  The target values\n",
      " |              y_pred: array_like of shape [n_samples]\n",
      " |                  The predicted values\n",
      " |  \n",
      " |              grad: array_like of shape [n_samples]\n",
      " |                  The value of the gradient for each sample point.\n",
      " |              hess: array_like of shape [n_samples]\n",
      " |                  The value of the second derivative for each sample point\n",
      " |  \n",
      " |  Method resolution order:\n",
      " |      XGBClassifier\n",
      " |      XGBModel\n",
      " |      sklearn.base.BaseEstimator\n",
      " |      XGBClassifierMixIn\n",
      " |      sklearn.base.ClassifierMixin\n",
      " |      builtins.object\n",
      " |  \n",
      " |  Methods defined here:\n",
      " |  \n",
      " |  __init__(self, *, objective: Union[str, Callable[[numpy.ndarray, numpy.ndarray], Tuple[numpy.ndarray, numpy.ndarray]], NoneType] = 'binary:logistic', **kwargs: Any) -> None\n",
      " |      Initialize self.  See help(type(self)) for accurate signature.\n",
      " |  \n",
      " |  fit(self, X: Any, y: Any, *, sample_weight: Optional[Any] = None, base_margin: Optional[Any] = None, eval_set: Optional[Sequence[Tuple[Any, Any]]] = None, eval_metric: Union[str, Sequence[str], Callable[[numpy.ndarray, xgboost.core.DMatrix], Tuple[str, float]], NoneType] = None, early_stopping_rounds: Optional[int] = None, verbose: Union[bool, int, NoneType] = True, xgb_model: Union[xgboost.core.Booster, str, xgboost.sklearn.XGBModel, NoneType] = None, sample_weight_eval_set: Optional[Sequence[Any]] = None, base_margin_eval_set: Optional[Sequence[Any]] = None, feature_weights: Optional[Any] = None, callbacks: Optional[Sequence[xgboost.callback.TrainingCallback]] = None) -> 'XGBClassifier'\n",
      " |      Fit gradient boosting classifier.\n",
      " |      \n",
      " |      Note that calling ``fit()`` multiple times will cause the model object to be\n",
      " |      re-fit from scratch. To resume training from a previous checkpoint, explicitly\n",
      " |      pass ``xgb_model`` argument.\n",
      " |      \n",
      " |      Parameters\n",
      " |      ----------\n",
      " |      X :\n",
      " |          Feature matrix. See :ref:`py-data` for a list of supported types.\n",
      " |      \n",
      " |          When the ``tree_method`` is set to ``hist``, internally, the\n",
      " |          :py:class:`QuantileDMatrix` will be used instead of the :py:class:`DMatrix`\n",
      " |          for conserving memory. However, this has performance implications when the\n",
      " |          device of input data is not matched with algorithm. For instance, if the\n",
      " |          input is a numpy array on CPU but ``cuda`` is used for training, then the\n",
      " |          data is first processed on CPU then transferred to GPU.\n",
      " |      y :\n",
      " |          Labels\n",
      " |      sample_weight :\n",
      " |          instance weights\n",
      " |      base_margin :\n",
      " |          global bias for each instance.\n",
      " |      eval_set :\n",
      " |          A list of (X, y) tuple pairs to use as validation sets, for which\n",
      " |          metrics will be computed.\n",
      " |          Validation metrics will help us track the performance of the model.\n",
      " |      \n",
      " |      eval_metric : str, list of str, or callable, optional\n",
      " |      \n",
      " |          .. deprecated:: 1.6.0\n",
      " |      \n",
      " |          Use `eval_metric` in :py:meth:`__init__` or :py:meth:`set_params` instead.\n",
      " |      \n",
      " |      early_stopping_rounds : int\n",
      " |      \n",
      " |          .. deprecated:: 1.6.0\n",
      " |      \n",
      " |          Use `early_stopping_rounds` in :py:meth:`__init__` or :py:meth:`set_params`\n",
      " |          instead.\n",
      " |      verbose :\n",
      " |          If `verbose` is True and an evaluation set is used, the evaluation metric\n",
      " |          measured on the validation set is printed to stdout at each boosting stage.\n",
      " |          If `verbose` is an integer, the evaluation metric is printed at each\n",
      " |          `verbose` boosting stage. The last boosting stage / the boosting stage found\n",
      " |          by using `early_stopping_rounds` is also printed.\n",
      " |      xgb_model :\n",
      " |          file name of stored XGBoost model or 'Booster' instance XGBoost model to be\n",
      " |          loaded before training (allows training continuation).\n",
      " |      sample_weight_eval_set :\n",
      " |          A list of the form [L_1, L_2, ..., L_n], where each L_i is an array like\n",
      " |          object storing instance weights for the i-th validation set.\n",
      " |      base_margin_eval_set :\n",
      " |          A list of the form [M_1, M_2, ..., M_n], where each M_i is an array like\n",
      " |          object storing base margin for the i-th validation set.\n",
      " |      feature_weights :\n",
      " |          Weight for each feature, defines the probability of each feature being\n",
      " |          selected when colsample is being used.  All values must be greater than 0,\n",
      " |          otherwise a `ValueError` is thrown.\n",
      " |      \n",
      " |      callbacks :\n",
      " |          .. deprecated:: 1.6.0\n",
      " |              Use `callbacks` in :py:meth:`__init__` or :py:meth:`set_params` instead.\n",
      " |  \n",
      " |  load_model(self, fname: Union[str, bytearray, os.PathLike]) -> None\n",
      " |      Load the model from a file or bytearray. Path to file can be local\n",
      " |      or as an URI.\n",
      " |      \n",
      " |      The model is loaded from XGBoost format which is universal among the various\n",
      " |      XGBoost interfaces. Auxiliary attributes of the Python Booster object (such as\n",
      " |      feature_names) will not be loaded when using binary format.  To save those\n",
      " |      attributes, use JSON/UBJ instead.  See :doc:`Model IO </tutorials/saving_model>`\n",
      " |      for more info.\n",
      " |      \n",
      " |      .. code-block:: python\n",
      " |      \n",
      " |        model.load_model(\"model.json\")\n",
      " |        # or\n",
      " |        model.load_model(\"model.ubj\")\n",
      " |      \n",
      " |      Parameters\n",
      " |      ----------\n",
      " |      fname :\n",
      " |          Input file name or memory buffer(see also save_raw)\n",
      " |  \n",
      " |  predict(self, X: Any, output_margin: bool = False, validate_features: bool = True, base_margin: Optional[Any] = None, iteration_range: Optional[Tuple[int, int]] = None) -> Any\n",
      " |      Predict with `X`.  If the model is trained with early stopping, then\n",
      " |      :py:attr:`best_iteration` is used automatically. The estimator uses\n",
      " |      `inplace_predict` by default and falls back to using :py:class:`DMatrix` if\n",
      " |      devices between the data and the estimator don't match.\n",
      " |      \n",
      " |      .. note:: This function is only thread safe for `gbtree` and `dart`.\n",
      " |      \n",
      " |      Parameters\n",
      " |      ----------\n",
      " |      X :\n",
      " |          Data to predict with.\n",
      " |      output_margin :\n",
      " |          Whether to output the raw untransformed margin value.\n",
      " |      validate_features :\n",
      " |          When this is True, validate that the Booster's and data's feature_names are\n",
      " |          identical.  Otherwise, it is assumed that the feature_names are the same.\n",
      " |      base_margin :\n",
      " |          Margin added to prediction.\n",
      " |      iteration_range :\n",
      " |          Specifies which layer of trees are used in prediction.  For example, if a\n",
      " |          random forest is trained with 100 rounds.  Specifying ``iteration_range=(10,\n",
      " |          20)``, then only the forests built during [10, 20) (half open set) rounds\n",
      " |          are used in this prediction.\n",
      " |      \n",
      " |          .. versionadded:: 1.4.0\n",
      " |      \n",
      " |      Returns\n",
      " |      -------\n",
      " |      prediction\n",
      " |  \n",
      " |  predict_proba(self, X: Any, validate_features: bool = True, base_margin: Optional[Any] = None, iteration_range: Optional[Tuple[int, int]] = None) -> numpy.ndarray\n",
      " |      Predict the probability of each `X` example being of a given class. If the\n",
      " |      model is trained with early stopping, then :py:attr:`best_iteration` is used\n",
      " |      automatically. The estimator uses `inplace_predict` by default and falls back to\n",
      " |      using :py:class:`DMatrix` if devices between the data and the estimator don't\n",
      " |      match.\n",
      " |      \n",
      " |      .. note:: This function is only thread safe for `gbtree` and `dart`.\n",
      " |      \n",
      " |      Parameters\n",
      " |      ----------\n",
      " |      X :\n",
      " |          Feature matrix. See :ref:`py-data` for a list of supported types.\n",
      " |      validate_features :\n",
      " |          When this is True, validate that the Booster's and data's feature_names are\n",
      " |          identical.  Otherwise, it is assumed that the feature_names are the same.\n",
      " |      base_margin :\n",
      " |          Margin added to prediction.\n",
      " |      iteration_range :\n",
      " |          Specifies which layer of trees are used in prediction.  For example, if a\n",
      " |          random forest is trained with 100 rounds.  Specifying `iteration_range=(10,\n",
      " |          20)`, then only the forests built during [10, 20) (half open set) rounds are\n",
      " |          used in this prediction.\n",
      " |      \n",
      " |      Returns\n",
      " |      -------\n",
      " |      prediction :\n",
      " |          a numpy array of shape array-like of shape (n_samples, n_classes) with the\n",
      " |          probability of each data example being of a given class.\n",
      " |  \n",
      " |  ----------------------------------------------------------------------\n",
      " |  Readonly properties defined here:\n",
      " |  \n",
      " |  classes_\n",
      " |  \n",
      " |  ----------------------------------------------------------------------\n",
      " |  Methods inherited from XGBModel:\n",
      " |  \n",
      " |  __sklearn_is_fitted__(self) -> bool\n",
      " |  \n",
      " |  apply(self, X: Any, iteration_range: Optional[Tuple[int, int]] = None) -> numpy.ndarray\n",
      " |      Return the predicted leaf every tree for each sample. If the model is trained\n",
      " |      with early stopping, then :py:attr:`best_iteration` is used automatically.\n",
      " |      \n",
      " |      Parameters\n",
      " |      ----------\n",
      " |      X : array_like, shape=[n_samples, n_features]\n",
      " |          Input features matrix.\n",
      " |      \n",
      " |      iteration_range :\n",
      " |          See :py:meth:`predict`.\n",
      " |      \n",
      " |      Returns\n",
      " |      -------\n",
      " |      X_leaves : array_like, shape=[n_samples, n_trees]\n",
      " |          For each datapoint x in X and for each tree, return the index of the\n",
      " |          leaf x ends up in. Leaves are numbered within\n",
      " |          ``[0; 2**(self.max_depth+1))``, possibly with gaps in the numbering.\n",
      " |  \n",
      " |  evals_result(self) -> Dict[str, Dict[str, List[float]]]\n",
      " |      Return the evaluation results.\n",
      " |      \n",
      " |      If **eval_set** is passed to the :py:meth:`fit` function, you can call\n",
      " |      ``evals_result()`` to get evaluation results for all passed **eval_sets**.  When\n",
      " |      **eval_metric** is also passed to the :py:meth:`fit` function, the\n",
      " |      **evals_result** will contain the **eval_metrics** passed to the :py:meth:`fit`\n",
      " |      function.\n",
      " |      \n",
      " |      The returned evaluation result is a dictionary:\n",
      " |      \n",
      " |      .. code-block:: python\n",
      " |      \n",
      " |          {'validation_0': {'logloss': ['0.604835', '0.531479']},\n",
      " |           'validation_1': {'logloss': ['0.41965', '0.17686']}}\n",
      " |      \n",
      " |      Returns\n",
      " |      -------\n",
      " |      evals_result\n",
      " |  \n",
      " |  get_booster(self) -> xgboost.core.Booster\n",
      " |      Get the underlying xgboost Booster of this model.\n",
      " |      \n",
      " |      This will raise an exception when fit was not called\n",
      " |      \n",
      " |      Returns\n",
      " |      -------\n",
      " |      booster : a xgboost booster of underlying model\n",
      " |  \n",
      " |  get_num_boosting_rounds(self) -> int\n",
      " |      Gets the number of xgboost boosting rounds.\n",
      " |  \n",
      " |  get_params(self, deep: bool = True) -> Dict[str, Any]\n",
      " |      Get parameters.\n",
      " |  \n",
      " |  get_xgb_params(self) -> Dict[str, Any]\n",
      " |      Get xgboost specific parameters.\n",
      " |  \n",
      " |  save_model(self, fname: Union[str, os.PathLike]) -> None\n",
      " |      Save the model to a file.\n",
      " |      \n",
      " |      The model is saved in an XGBoost internal format which is universal among the\n",
      " |      various XGBoost interfaces. Auxiliary attributes of the Python Booster object\n",
      " |      (such as feature_names) will not be saved when using binary format.  To save\n",
      " |      those attributes, use JSON/UBJ instead. See :doc:`Model IO\n",
      " |      </tutorials/saving_model>` for more info.\n",
      " |      \n",
      " |      .. code-block:: python\n",
      " |      \n",
      " |        model.save_model(\"model.json\")\n",
      " |        # or\n",
      " |        model.save_model(\"model.ubj\")\n",
      " |      \n",
      " |      Parameters\n",
      " |      ----------\n",
      " |      fname :\n",
      " |          Output file name\n",
      " |  \n",
      " |  set_params(self, **params: Any) -> 'XGBModel'\n",
      " |      Set the parameters of this estimator.  Modification of the sklearn method to\n",
      " |      allow unknown kwargs. This allows using the full range of xgboost\n",
      " |      parameters that are not defined as member variables in sklearn grid\n",
      " |      search.\n",
      " |      \n",
      " |      Returns\n",
      " |      -------\n",
      " |      self\n",
      " |  \n",
      " |  ----------------------------------------------------------------------\n",
      " |  Readonly properties inherited from XGBModel:\n",
      " |  \n",
      " |  best_iteration\n",
      " |      The best iteration obtained by early stopping.  This attribute is 0-based,\n",
      " |      for instance if the best iteration is the first round, then best_iteration is 0.\n",
      " |  \n",
      " |  best_score\n",
      " |      The best score obtained by early stopping.\n",
      " |  \n",
      " |  coef_\n",
      " |      Coefficients property\n",
      " |      \n",
      " |      .. note:: Coefficients are defined only for linear learners\n",
      " |      \n",
      " |          Coefficients are only defined when the linear model is chosen as\n",
      " |          base learner (`booster=gblinear`). It is not defined for other base\n",
      " |          learner types, such as tree learners (`booster=gbtree`).\n",
      " |      \n",
      " |      Returns\n",
      " |      -------\n",
      " |      coef_ : array of shape ``[n_features]`` or ``[n_classes, n_features]``\n",
      " |  \n",
      " |  feature_importances_\n",
      " |      Feature importances property, return depends on `importance_type`\n",
      " |      parameter. When model trained with multi-class/multi-label/multi-target dataset,\n",
      " |      the feature importance is \"averaged\" over all targets. The \"average\" is defined\n",
      " |      based on the importance type. For instance, if the importance type is\n",
      " |      \"total_gain\", then the score is sum of loss change for each split from all\n",
      " |      trees.\n",
      " |      \n",
      " |      Returns\n",
      " |      -------\n",
      " |      feature_importances_ : array of shape ``[n_features]`` except for multi-class\n",
      " |      linear model, which returns an array with shape `(n_features, n_classes)`\n",
      " |  \n",
      " |  feature_names_in_\n",
      " |      Names of features seen during :py:meth:`fit`.  Defined only when `X` has\n",
      " |      feature names that are all strings.\n",
      " |  \n",
      " |  intercept_\n",
      " |      Intercept (bias) property\n",
      " |      \n",
      " |      .. note:: Intercept is defined only for linear learners\n",
      " |      \n",
      " |          Intercept (bias) is only defined when the linear model is chosen as base\n",
      " |          learner (`booster=gblinear`). It is not defined for other base learner types,\n",
      " |          such as tree learners (`booster=gbtree`).\n",
      " |      \n",
      " |      Returns\n",
      " |      -------\n",
      " |      intercept_ : array of shape ``(1,)`` or ``[n_classes]``\n",
      " |  \n",
      " |  n_features_in_\n",
      " |      Number of features seen during :py:meth:`fit`.\n",
      " |  \n",
      " |  ----------------------------------------------------------------------\n",
      " |  Methods inherited from sklearn.base.BaseEstimator:\n",
      " |  \n",
      " |  __getstate__(self)\n",
      " |  \n",
      " |  __repr__(self, N_CHAR_MAX=700)\n",
      " |      Return repr(self).\n",
      " |  \n",
      " |  __setstate__(self, state)\n",
      " |  \n",
      " |  ----------------------------------------------------------------------\n",
      " |  Data descriptors inherited from sklearn.base.BaseEstimator:\n",
      " |  \n",
      " |  __dict__\n",
      " |      dictionary for instance variables (if defined)\n",
      " |  \n",
      " |  __weakref__\n",
      " |      list of weak references to the object (if defined)\n",
      " |  \n",
      " |  ----------------------------------------------------------------------\n",
      " |  Methods inherited from sklearn.base.ClassifierMixin:\n",
      " |  \n",
      " |  score(self, X, y, sample_weight=None)\n",
      " |      Return the mean accuracy on the given test data and labels.\n",
      " |      \n",
      " |      In multi-label classification, this is the subset accuracy\n",
      " |      which is a harsh metric since you require for each sample that\n",
      " |      each label set be correctly predicted.\n",
      " |      \n",
      " |      Parameters\n",
      " |      ----------\n",
      " |      X : array-like of shape (n_samples, n_features)\n",
      " |          Test samples.\n",
      " |      \n",
      " |      y : array-like of shape (n_samples,) or (n_samples, n_outputs)\n",
      " |          True labels for `X`.\n",
      " |      \n",
      " |      sample_weight : array-like of shape (n_samples,), default=None\n",
      " |          Sample weights.\n",
      " |      \n",
      " |      Returns\n",
      " |      -------\n",
      " |      score : float\n",
      " |          Mean accuracy of ``self.predict(X)`` wrt. `y`.\n"
     ]
    }
   ],
   "source": [
    "help(XGBClassifier)"
   ],
   "metadata": {
    "collapsed": false,
    "ExecuteTime": {
     "end_time": "2023-09-29T11:41:55.345197Z",
     "start_time": "2023-09-29T11:41:55.329715Z"
    }
   },
   "id": "59e4d45532c5f44"
  },
  {
   "cell_type": "code",
   "execution_count": 43,
   "outputs": [],
   "source": [
    "parameters = {\n",
    "    'n_estimators' : [10, 15, 20, 50], \n",
    "    'max_depth' : [50, 100, 150, 200],\n",
    "    'learning_rate' : [0.01, 0.05, 0.1],\n",
    "    'booster' : ['gbtree', 'gblinear', 'dart'],\n",
    "    'gamma' : [0.01, 0.5, 1, 5],\n",
    "    'eval_metric' : ['rmse', 'rmsle', 'mae', 'logloss', 'error']\n",
    "}"
   ],
   "metadata": {
    "collapsed": false,
    "ExecuteTime": {
     "end_time": "2023-09-29T11:52:19.847446Z",
     "start_time": "2023-09-29T11:52:19.843249Z"
    }
   },
   "id": "d1b59e5dcf541b52"
  },
  {
   "cell_type": "code",
   "execution_count": 39,
   "outputs": [],
   "source": [
    "from sklearn.model_selection import RandomizedSearchCV"
   ],
   "metadata": {
    "collapsed": false,
    "ExecuteTime": {
     "end_time": "2023-09-29T11:47:28.911684Z",
     "start_time": "2023-09-29T11:47:28.905993Z"
    }
   },
   "id": "34deb21f80e1490b"
  },
  {
   "cell_type": "code",
   "execution_count": 40,
   "outputs": [
    {
     "name": "stdout",
     "output_type": "stream",
     "text": [
      "Help on class RandomizedSearchCV in module sklearn.model_selection._search:\n",
      "\n",
      "class RandomizedSearchCV(BaseSearchCV)\n",
      " |  RandomizedSearchCV(estimator, param_distributions, *, n_iter=10, scoring=None, n_jobs=None, refit=True, cv=None, verbose=0, pre_dispatch='2*n_jobs', random_state=None, error_score=nan, return_train_score=False)\n",
      " |  \n",
      " |  Randomized search on hyper parameters.\n",
      " |  \n",
      " |  RandomizedSearchCV implements a \"fit\" and a \"score\" method.\n",
      " |  It also implements \"score_samples\", \"predict\", \"predict_proba\",\n",
      " |  \"decision_function\", \"transform\" and \"inverse_transform\" if they are\n",
      " |  implemented in the estimator used.\n",
      " |  \n",
      " |  The parameters of the estimator used to apply these methods are optimized\n",
      " |  by cross-validated search over parameter settings.\n",
      " |  \n",
      " |  In contrast to GridSearchCV, not all parameter values are tried out, but\n",
      " |  rather a fixed number of parameter settings is sampled from the specified\n",
      " |  distributions. The number of parameter settings that are tried is\n",
      " |  given by n_iter.\n",
      " |  \n",
      " |  If all parameters are presented as a list,\n",
      " |  sampling without replacement is performed. If at least one parameter\n",
      " |  is given as a distribution, sampling with replacement is used.\n",
      " |  It is highly recommended to use continuous distributions for continuous\n",
      " |  parameters.\n",
      " |  \n",
      " |  Read more in the :ref:`User Guide <randomized_parameter_search>`.\n",
      " |  \n",
      " |  .. versionadded:: 0.14\n",
      " |  \n",
      " |  Parameters\n",
      " |  ----------\n",
      " |  estimator : estimator object\n",
      " |      An object of that type is instantiated for each grid point.\n",
      " |      This is assumed to implement the scikit-learn estimator interface.\n",
      " |      Either estimator needs to provide a ``score`` function,\n",
      " |      or ``scoring`` must be passed.\n",
      " |  \n",
      " |  param_distributions : dict or list of dicts\n",
      " |      Dictionary with parameters names (`str`) as keys and distributions\n",
      " |      or lists of parameters to try. Distributions must provide a ``rvs``\n",
      " |      method for sampling (such as those from scipy.stats.distributions).\n",
      " |      If a list is given, it is sampled uniformly.\n",
      " |      If a list of dicts is given, first a dict is sampled uniformly, and\n",
      " |      then a parameter is sampled using that dict as above.\n",
      " |  \n",
      " |  n_iter : int, default=10\n",
      " |      Number of parameter settings that are sampled. n_iter trades\n",
      " |      off runtime vs quality of the solution.\n",
      " |  \n",
      " |  scoring : str, callable, list, tuple or dict, default=None\n",
      " |      Strategy to evaluate the performance of the cross-validated model on\n",
      " |      the test set.\n",
      " |  \n",
      " |      If `scoring` represents a single score, one can use:\n",
      " |  \n",
      " |      - a single string (see :ref:`scoring_parameter`);\n",
      " |      - a callable (see :ref:`scoring`) that returns a single value.\n",
      " |  \n",
      " |      If `scoring` represents multiple scores, one can use:\n",
      " |  \n",
      " |      - a list or tuple of unique strings;\n",
      " |      - a callable returning a dictionary where the keys are the metric\n",
      " |        names and the values are the metric scores;\n",
      " |      - a dictionary with metric names as keys and callables a values.\n",
      " |  \n",
      " |      See :ref:`multimetric_grid_search` for an example.\n",
      " |  \n",
      " |      If None, the estimator's score method is used.\n",
      " |  \n",
      " |  n_jobs : int, default=None\n",
      " |      Number of jobs to run in parallel.\n",
      " |      ``None`` means 1 unless in a :obj:`joblib.parallel_backend` context.\n",
      " |      ``-1`` means using all processors. See :term:`Glossary <n_jobs>`\n",
      " |      for more details.\n",
      " |  \n",
      " |      .. versionchanged:: v0.20\n",
      " |         `n_jobs` default changed from 1 to None\n",
      " |  \n",
      " |  refit : bool, str, or callable, default=True\n",
      " |      Refit an estimator using the best found parameters on the whole\n",
      " |      dataset.\n",
      " |  \n",
      " |      For multiple metric evaluation, this needs to be a `str` denoting the\n",
      " |      scorer that would be used to find the best parameters for refitting\n",
      " |      the estimator at the end.\n",
      " |  \n",
      " |      Where there are considerations other than maximum score in\n",
      " |      choosing a best estimator, ``refit`` can be set to a function which\n",
      " |      returns the selected ``best_index_`` given the ``cv_results``. In that\n",
      " |      case, the ``best_estimator_`` and ``best_params_`` will be set\n",
      " |      according to the returned ``best_index_`` while the ``best_score_``\n",
      " |      attribute will not be available.\n",
      " |  \n",
      " |      The refitted estimator is made available at the ``best_estimator_``\n",
      " |      attribute and permits using ``predict`` directly on this\n",
      " |      ``RandomizedSearchCV`` instance.\n",
      " |  \n",
      " |      Also for multiple metric evaluation, the attributes ``best_index_``,\n",
      " |      ``best_score_`` and ``best_params_`` will only be available if\n",
      " |      ``refit`` is set and all of them will be determined w.r.t this specific\n",
      " |      scorer.\n",
      " |  \n",
      " |      See ``scoring`` parameter to know more about multiple metric\n",
      " |      evaluation.\n",
      " |  \n",
      " |      .. versionchanged:: 0.20\n",
      " |          Support for callable added.\n",
      " |  \n",
      " |  cv : int, cross-validation generator or an iterable, default=None\n",
      " |      Determines the cross-validation splitting strategy.\n",
      " |      Possible inputs for cv are:\n",
      " |  \n",
      " |      - None, to use the default 5-fold cross validation,\n",
      " |      - integer, to specify the number of folds in a `(Stratified)KFold`,\n",
      " |      - :term:`CV splitter`,\n",
      " |      - An iterable yielding (train, test) splits as arrays of indices.\n",
      " |  \n",
      " |      For integer/None inputs, if the estimator is a classifier and ``y`` is\n",
      " |      either binary or multiclass, :class:`StratifiedKFold` is used. In all\n",
      " |      other cases, :class:`KFold` is used. These splitters are instantiated\n",
      " |      with `shuffle=False` so the splits will be the same across calls.\n",
      " |  \n",
      " |      Refer :ref:`User Guide <cross_validation>` for the various\n",
      " |      cross-validation strategies that can be used here.\n",
      " |  \n",
      " |      .. versionchanged:: 0.22\n",
      " |          ``cv`` default value if None changed from 3-fold to 5-fold.\n",
      " |  \n",
      " |  verbose : int\n",
      " |      Controls the verbosity: the higher, the more messages.\n",
      " |  \n",
      " |      - >1 : the computation time for each fold and parameter candidate is\n",
      " |        displayed;\n",
      " |      - >2 : the score is also displayed;\n",
      " |      - >3 : the fold and candidate parameter indexes are also displayed\n",
      " |        together with the starting time of the computation.\n",
      " |  \n",
      " |  pre_dispatch : int, or str, default='2*n_jobs'\n",
      " |      Controls the number of jobs that get dispatched during parallel\n",
      " |      execution. Reducing this number can be useful to avoid an\n",
      " |      explosion of memory consumption when more jobs get dispatched\n",
      " |      than CPUs can process. This parameter can be:\n",
      " |  \n",
      " |          - None, in which case all the jobs are immediately\n",
      " |            created and spawned. Use this for lightweight and\n",
      " |            fast-running jobs, to avoid delays due to on-demand\n",
      " |            spawning of the jobs\n",
      " |  \n",
      " |          - An int, giving the exact number of total jobs that are\n",
      " |            spawned\n",
      " |  \n",
      " |          - A str, giving an expression as a function of n_jobs,\n",
      " |            as in '2*n_jobs'\n",
      " |  \n",
      " |  random_state : int, RandomState instance or None, default=None\n",
      " |      Pseudo random number generator state used for random uniform sampling\n",
      " |      from lists of possible values instead of scipy.stats distributions.\n",
      " |      Pass an int for reproducible output across multiple\n",
      " |      function calls.\n",
      " |      See :term:`Glossary <random_state>`.\n",
      " |  \n",
      " |  error_score : 'raise' or numeric, default=np.nan\n",
      " |      Value to assign to the score if an error occurs in estimator fitting.\n",
      " |      If set to 'raise', the error is raised. If a numeric value is given,\n",
      " |      FitFailedWarning is raised. This parameter does not affect the refit\n",
      " |      step, which will always raise the error.\n",
      " |  \n",
      " |  return_train_score : bool, default=False\n",
      " |      If ``False``, the ``cv_results_`` attribute will not include training\n",
      " |      scores.\n",
      " |      Computing training scores is used to get insights on how different\n",
      " |      parameter settings impact the overfitting/underfitting trade-off.\n",
      " |      However computing the scores on the training set can be computationally\n",
      " |      expensive and is not strictly required to select the parameters that\n",
      " |      yield the best generalization performance.\n",
      " |  \n",
      " |      .. versionadded:: 0.19\n",
      " |  \n",
      " |      .. versionchanged:: 0.21\n",
      " |          Default value was changed from ``True`` to ``False``\n",
      " |  \n",
      " |  Attributes\n",
      " |  ----------\n",
      " |  cv_results_ : dict of numpy (masked) ndarrays\n",
      " |      A dict with keys as column headers and values as columns, that can be\n",
      " |      imported into a pandas ``DataFrame``.\n",
      " |  \n",
      " |      For instance the below given table\n",
      " |  \n",
      " |      +--------------+-------------+-------------------+---+---------------+\n",
      " |      | param_kernel | param_gamma | split0_test_score |...|rank_test_score|\n",
      " |      +==============+=============+===================+===+===============+\n",
      " |      |    'rbf'     |     0.1     |       0.80        |...|       1       |\n",
      " |      +--------------+-------------+-------------------+---+---------------+\n",
      " |      |    'rbf'     |     0.2     |       0.84        |...|       3       |\n",
      " |      +--------------+-------------+-------------------+---+---------------+\n",
      " |      |    'rbf'     |     0.3     |       0.70        |...|       2       |\n",
      " |      +--------------+-------------+-------------------+---+---------------+\n",
      " |  \n",
      " |      will be represented by a ``cv_results_`` dict of::\n",
      " |  \n",
      " |          {\n",
      " |          'param_kernel' : masked_array(data = ['rbf', 'rbf', 'rbf'],\n",
      " |                                        mask = False),\n",
      " |          'param_gamma'  : masked_array(data = [0.1 0.2 0.3], mask = False),\n",
      " |          'split0_test_score'  : [0.80, 0.84, 0.70],\n",
      " |          'split1_test_score'  : [0.82, 0.50, 0.70],\n",
      " |          'mean_test_score'    : [0.81, 0.67, 0.70],\n",
      " |          'std_test_score'     : [0.01, 0.24, 0.00],\n",
      " |          'rank_test_score'    : [1, 3, 2],\n",
      " |          'split0_train_score' : [0.80, 0.92, 0.70],\n",
      " |          'split1_train_score' : [0.82, 0.55, 0.70],\n",
      " |          'mean_train_score'   : [0.81, 0.74, 0.70],\n",
      " |          'std_train_score'    : [0.01, 0.19, 0.00],\n",
      " |          'mean_fit_time'      : [0.73, 0.63, 0.43],\n",
      " |          'std_fit_time'       : [0.01, 0.02, 0.01],\n",
      " |          'mean_score_time'    : [0.01, 0.06, 0.04],\n",
      " |          'std_score_time'     : [0.00, 0.00, 0.00],\n",
      " |          'params'             : [{'kernel' : 'rbf', 'gamma' : 0.1}, ...],\n",
      " |          }\n",
      " |  \n",
      " |      NOTE\n",
      " |  \n",
      " |      The key ``'params'`` is used to store a list of parameter\n",
      " |      settings dicts for all the parameter candidates.\n",
      " |  \n",
      " |      The ``mean_fit_time``, ``std_fit_time``, ``mean_score_time`` and\n",
      " |      ``std_score_time`` are all in seconds.\n",
      " |  \n",
      " |      For multi-metric evaluation, the scores for all the scorers are\n",
      " |      available in the ``cv_results_`` dict at the keys ending with that\n",
      " |      scorer's name (``'_<scorer_name>'``) instead of ``'_score'`` shown\n",
      " |      above. ('split0_test_precision', 'mean_train_precision' etc.)\n",
      " |  \n",
      " |  best_estimator_ : estimator\n",
      " |      Estimator that was chosen by the search, i.e. estimator\n",
      " |      which gave highest score (or smallest loss if specified)\n",
      " |      on the left out data. Not available if ``refit=False``.\n",
      " |  \n",
      " |      For multi-metric evaluation, this attribute is present only if\n",
      " |      ``refit`` is specified.\n",
      " |  \n",
      " |      See ``refit`` parameter for more information on allowed values.\n",
      " |  \n",
      " |  best_score_ : float\n",
      " |      Mean cross-validated score of the best_estimator.\n",
      " |  \n",
      " |      For multi-metric evaluation, this is not available if ``refit`` is\n",
      " |      ``False``. See ``refit`` parameter for more information.\n",
      " |  \n",
      " |      This attribute is not available if ``refit`` is a function.\n",
      " |  \n",
      " |  best_params_ : dict\n",
      " |      Parameter setting that gave the best results on the hold out data.\n",
      " |  \n",
      " |      For multi-metric evaluation, this is not available if ``refit`` is\n",
      " |      ``False``. See ``refit`` parameter for more information.\n",
      " |  \n",
      " |  best_index_ : int\n",
      " |      The index (of the ``cv_results_`` arrays) which corresponds to the best\n",
      " |      candidate parameter setting.\n",
      " |  \n",
      " |      The dict at ``search.cv_results_['params'][search.best_index_]`` gives\n",
      " |      the parameter setting for the best model, that gives the highest\n",
      " |      mean score (``search.best_score_``).\n",
      " |  \n",
      " |      For multi-metric evaluation, this is not available if ``refit`` is\n",
      " |      ``False``. See ``refit`` parameter for more information.\n",
      " |  \n",
      " |  scorer_ : function or a dict\n",
      " |      Scorer function used on the held out data to choose the best\n",
      " |      parameters for the model.\n",
      " |  \n",
      " |      For multi-metric evaluation, this attribute holds the validated\n",
      " |      ``scoring`` dict which maps the scorer key to the scorer callable.\n",
      " |  \n",
      " |  n_splits_ : int\n",
      " |      The number of cross-validation splits (folds/iterations).\n",
      " |  \n",
      " |  refit_time_ : float\n",
      " |      Seconds used for refitting the best model on the whole dataset.\n",
      " |  \n",
      " |      This is present only if ``refit`` is not False.\n",
      " |  \n",
      " |      .. versionadded:: 0.20\n",
      " |  \n",
      " |  multimetric_ : bool\n",
      " |      Whether or not the scorers compute several metrics.\n",
      " |  \n",
      " |  classes_ : ndarray of shape (n_classes,)\n",
      " |      The classes labels. This is present only if ``refit`` is specified and\n",
      " |      the underlying estimator is a classifier.\n",
      " |  \n",
      " |  n_features_in_ : int\n",
      " |      Number of features seen during :term:`fit`. Only defined if\n",
      " |      `best_estimator_` is defined (see the documentation for the `refit`\n",
      " |      parameter for more details) and that `best_estimator_` exposes\n",
      " |      `n_features_in_` when fit.\n",
      " |  \n",
      " |      .. versionadded:: 0.24\n",
      " |  \n",
      " |  feature_names_in_ : ndarray of shape (`n_features_in_`,)\n",
      " |      Names of features seen during :term:`fit`. Only defined if\n",
      " |      `best_estimator_` is defined (see the documentation for the `refit`\n",
      " |      parameter for more details) and that `best_estimator_` exposes\n",
      " |      `feature_names_in_` when fit.\n",
      " |  \n",
      " |      .. versionadded:: 1.0\n",
      " |  \n",
      " |  See Also\n",
      " |  --------\n",
      " |  GridSearchCV : Does exhaustive search over a grid of parameters.\n",
      " |  ParameterSampler : A generator over parameter settings, constructed from\n",
      " |      param_distributions.\n",
      " |  \n",
      " |  Notes\n",
      " |  -----\n",
      " |  The parameters selected are those that maximize the score of the held-out\n",
      " |  data, according to the scoring parameter.\n",
      " |  \n",
      " |  If `n_jobs` was set to a value higher than one, the data is copied for each\n",
      " |  parameter setting(and not `n_jobs` times). This is done for efficiency\n",
      " |  reasons if individual jobs take very little time, but may raise errors if\n",
      " |  the dataset is large and not enough memory is available.  A workaround in\n",
      " |  this case is to set `pre_dispatch`. Then, the memory is copied only\n",
      " |  `pre_dispatch` many times. A reasonable value for `pre_dispatch` is `2 *\n",
      " |  n_jobs`.\n",
      " |  \n",
      " |  Examples\n",
      " |  --------\n",
      " |  >>> from sklearn.datasets import load_iris\n",
      " |  >>> from sklearn.linear_model import LogisticRegression\n",
      " |  >>> from sklearn.model_selection import RandomizedSearchCV\n",
      " |  >>> from scipy.stats import uniform\n",
      " |  >>> iris = load_iris()\n",
      " |  >>> logistic = LogisticRegression(solver='saga', tol=1e-2, max_iter=200,\n",
      " |  ...                               random_state=0)\n",
      " |  >>> distributions = dict(C=uniform(loc=0, scale=4),\n",
      " |  ...                      penalty=['l2', 'l1'])\n",
      " |  >>> clf = RandomizedSearchCV(logistic, distributions, random_state=0)\n",
      " |  >>> search = clf.fit(iris.data, iris.target)\n",
      " |  >>> search.best_params_\n",
      " |  {'C': 2..., 'penalty': 'l1'}\n",
      " |  \n",
      " |  Method resolution order:\n",
      " |      RandomizedSearchCV\n",
      " |      BaseSearchCV\n",
      " |      sklearn.base.MetaEstimatorMixin\n",
      " |      sklearn.base.BaseEstimator\n",
      " |      builtins.object\n",
      " |  \n",
      " |  Methods defined here:\n",
      " |  \n",
      " |  __init__(self, estimator, param_distributions, *, n_iter=10, scoring=None, n_jobs=None, refit=True, cv=None, verbose=0, pre_dispatch='2*n_jobs', random_state=None, error_score=nan, return_train_score=False)\n",
      " |      Initialize self.  See help(type(self)) for accurate signature.\n",
      " |  \n",
      " |  ----------------------------------------------------------------------\n",
      " |  Data and other attributes defined here:\n",
      " |  \n",
      " |  __abstractmethods__ = frozenset()\n",
      " |  \n",
      " |  ----------------------------------------------------------------------\n",
      " |  Methods inherited from BaseSearchCV:\n",
      " |  \n",
      " |  decision_function(self, X)\n",
      " |      Call decision_function on the estimator with the best found parameters.\n",
      " |      \n",
      " |      Only available if ``refit=True`` and the underlying estimator supports\n",
      " |      ``decision_function``.\n",
      " |      \n",
      " |      Parameters\n",
      " |      ----------\n",
      " |      X : indexable, length n_samples\n",
      " |          Must fulfill the input assumptions of the\n",
      " |          underlying estimator.\n",
      " |      \n",
      " |      Returns\n",
      " |      -------\n",
      " |      y_score : ndarray of shape (n_samples,) or (n_samples, n_classes)                 or (n_samples, n_classes * (n_classes-1) / 2)\n",
      " |          Result of the decision function for `X` based on the estimator with\n",
      " |          the best found parameters.\n",
      " |  \n",
      " |  fit(self, X, y=None, *, groups=None, **fit_params)\n",
      " |      Run fit with all sets of parameters.\n",
      " |      \n",
      " |      Parameters\n",
      " |      ----------\n",
      " |      \n",
      " |      X : array-like of shape (n_samples, n_features)\n",
      " |          Training vector, where `n_samples` is the number of samples and\n",
      " |          `n_features` is the number of features.\n",
      " |      \n",
      " |      y : array-like of shape (n_samples, n_output)             or (n_samples,), default=None\n",
      " |          Target relative to X for classification or regression;\n",
      " |          None for unsupervised learning.\n",
      " |      \n",
      " |      groups : array-like of shape (n_samples,), default=None\n",
      " |          Group labels for the samples used while splitting the dataset into\n",
      " |          train/test set. Only used in conjunction with a \"Group\" :term:`cv`\n",
      " |          instance (e.g., :class:`~sklearn.model_selection.GroupKFold`).\n",
      " |      \n",
      " |      **fit_params : dict of str -> object\n",
      " |          Parameters passed to the `fit` method of the estimator.\n",
      " |      \n",
      " |          If a fit parameter is an array-like whose length is equal to\n",
      " |          `num_samples` then it will be split across CV groups along with `X`\n",
      " |          and `y`. For example, the :term:`sample_weight` parameter is split\n",
      " |          because `len(sample_weights) = len(X)`.\n",
      " |      \n",
      " |      Returns\n",
      " |      -------\n",
      " |      self : object\n",
      " |          Instance of fitted estimator.\n",
      " |  \n",
      " |  inverse_transform(self, Xt)\n",
      " |      Call inverse_transform on the estimator with the best found params.\n",
      " |      \n",
      " |      Only available if the underlying estimator implements\n",
      " |      ``inverse_transform`` and ``refit=True``.\n",
      " |      \n",
      " |      Parameters\n",
      " |      ----------\n",
      " |      Xt : indexable, length n_samples\n",
      " |          Must fulfill the input assumptions of the\n",
      " |          underlying estimator.\n",
      " |      \n",
      " |      Returns\n",
      " |      -------\n",
      " |      X : {ndarray, sparse matrix} of shape (n_samples, n_features)\n",
      " |          Result of the `inverse_transform` function for `Xt` based on the\n",
      " |          estimator with the best found parameters.\n",
      " |  \n",
      " |  predict(self, X)\n",
      " |      Call predict on the estimator with the best found parameters.\n",
      " |      \n",
      " |      Only available if ``refit=True`` and the underlying estimator supports\n",
      " |      ``predict``.\n",
      " |      \n",
      " |      Parameters\n",
      " |      ----------\n",
      " |      X : indexable, length n_samples\n",
      " |          Must fulfill the input assumptions of the\n",
      " |          underlying estimator.\n",
      " |      \n",
      " |      Returns\n",
      " |      -------\n",
      " |      y_pred : ndarray of shape (n_samples,)\n",
      " |          The predicted labels or values for `X` based on the estimator with\n",
      " |          the best found parameters.\n",
      " |  \n",
      " |  predict_log_proba(self, X)\n",
      " |      Call predict_log_proba on the estimator with the best found parameters.\n",
      " |      \n",
      " |      Only available if ``refit=True`` and the underlying estimator supports\n",
      " |      ``predict_log_proba``.\n",
      " |      \n",
      " |      Parameters\n",
      " |      ----------\n",
      " |      X : indexable, length n_samples\n",
      " |          Must fulfill the input assumptions of the\n",
      " |          underlying estimator.\n",
      " |      \n",
      " |      Returns\n",
      " |      -------\n",
      " |      y_pred : ndarray of shape (n_samples,) or (n_samples, n_classes)\n",
      " |          Predicted class log-probabilities for `X` based on the estimator\n",
      " |          with the best found parameters. The order of the classes\n",
      " |          corresponds to that in the fitted attribute :term:`classes_`.\n",
      " |  \n",
      " |  predict_proba(self, X)\n",
      " |      Call predict_proba on the estimator with the best found parameters.\n",
      " |      \n",
      " |      Only available if ``refit=True`` and the underlying estimator supports\n",
      " |      ``predict_proba``.\n",
      " |      \n",
      " |      Parameters\n",
      " |      ----------\n",
      " |      X : indexable, length n_samples\n",
      " |          Must fulfill the input assumptions of the\n",
      " |          underlying estimator.\n",
      " |      \n",
      " |      Returns\n",
      " |      -------\n",
      " |      y_pred : ndarray of shape (n_samples,) or (n_samples, n_classes)\n",
      " |          Predicted class probabilities for `X` based on the estimator with\n",
      " |          the best found parameters. The order of the classes corresponds\n",
      " |          to that in the fitted attribute :term:`classes_`.\n",
      " |  \n",
      " |  score(self, X, y=None)\n",
      " |      Return the score on the given data, if the estimator has been refit.\n",
      " |      \n",
      " |      This uses the score defined by ``scoring`` where provided, and the\n",
      " |      ``best_estimator_.score`` method otherwise.\n",
      " |      \n",
      " |      Parameters\n",
      " |      ----------\n",
      " |      X : array-like of shape (n_samples, n_features)\n",
      " |          Input data, where `n_samples` is the number of samples and\n",
      " |          `n_features` is the number of features.\n",
      " |      \n",
      " |      y : array-like of shape (n_samples, n_output)             or (n_samples,), default=None\n",
      " |          Target relative to X for classification or regression;\n",
      " |          None for unsupervised learning.\n",
      " |      \n",
      " |      Returns\n",
      " |      -------\n",
      " |      score : float\n",
      " |          The score defined by ``scoring`` if provided, and the\n",
      " |          ``best_estimator_.score`` method otherwise.\n",
      " |  \n",
      " |  score_samples(self, X)\n",
      " |      Call score_samples on the estimator with the best found parameters.\n",
      " |      \n",
      " |      Only available if ``refit=True`` and the underlying estimator supports\n",
      " |      ``score_samples``.\n",
      " |      \n",
      " |      .. versionadded:: 0.24\n",
      " |      \n",
      " |      Parameters\n",
      " |      ----------\n",
      " |      X : iterable\n",
      " |          Data to predict on. Must fulfill input requirements\n",
      " |          of the underlying estimator.\n",
      " |      \n",
      " |      Returns\n",
      " |      -------\n",
      " |      y_score : ndarray of shape (n_samples,)\n",
      " |          The ``best_estimator_.score_samples`` method.\n",
      " |  \n",
      " |  transform(self, X)\n",
      " |      Call transform on the estimator with the best found parameters.\n",
      " |      \n",
      " |      Only available if the underlying estimator supports ``transform`` and\n",
      " |      ``refit=True``.\n",
      " |      \n",
      " |      Parameters\n",
      " |      ----------\n",
      " |      X : indexable, length n_samples\n",
      " |          Must fulfill the input assumptions of the\n",
      " |          underlying estimator.\n",
      " |      \n",
      " |      Returns\n",
      " |      -------\n",
      " |      Xt : {ndarray, sparse matrix} of shape (n_samples, n_features)\n",
      " |          `X` transformed in the new space based on the estimator with\n",
      " |          the best found parameters.\n",
      " |  \n",
      " |  ----------------------------------------------------------------------\n",
      " |  Readonly properties inherited from BaseSearchCV:\n",
      " |  \n",
      " |  classes_\n",
      " |      Class labels.\n",
      " |      \n",
      " |      Only available when `refit=True` and the estimator is a classifier.\n",
      " |  \n",
      " |  n_features_in_\n",
      " |      Number of features seen during :term:`fit`.\n",
      " |      \n",
      " |      Only available when `refit=True`.\n",
      " |  \n",
      " |  ----------------------------------------------------------------------\n",
      " |  Data descriptors inherited from sklearn.base.MetaEstimatorMixin:\n",
      " |  \n",
      " |  __dict__\n",
      " |      dictionary for instance variables (if defined)\n",
      " |  \n",
      " |  __weakref__\n",
      " |      list of weak references to the object (if defined)\n",
      " |  \n",
      " |  ----------------------------------------------------------------------\n",
      " |  Methods inherited from sklearn.base.BaseEstimator:\n",
      " |  \n",
      " |  __getstate__(self)\n",
      " |  \n",
      " |  __repr__(self, N_CHAR_MAX=700)\n",
      " |      Return repr(self).\n",
      " |  \n",
      " |  __setstate__(self, state)\n",
      " |  \n",
      " |  get_params(self, deep=True)\n",
      " |      Get parameters for this estimator.\n",
      " |      \n",
      " |      Parameters\n",
      " |      ----------\n",
      " |      deep : bool, default=True\n",
      " |          If True, will return the parameters for this estimator and\n",
      " |          contained subobjects that are estimators.\n",
      " |      \n",
      " |      Returns\n",
      " |      -------\n",
      " |      params : dict\n",
      " |          Parameter names mapped to their values.\n",
      " |  \n",
      " |  set_params(self, **params)\n",
      " |      Set the parameters of this estimator.\n",
      " |      \n",
      " |      The method works on simple estimators as well as on nested objects\n",
      " |      (such as :class:`~sklearn.pipeline.Pipeline`). The latter have\n",
      " |      parameters of the form ``<component>__<parameter>`` so that it's\n",
      " |      possible to update each component of a nested object.\n",
      " |      \n",
      " |      Parameters\n",
      " |      ----------\n",
      " |      **params : dict\n",
      " |          Estimator parameters.\n",
      " |      \n",
      " |      Returns\n",
      " |      -------\n",
      " |      self : estimator instance\n",
      " |          Estimator instance.\n"
     ]
    }
   ],
   "source": [
    "help(RandomizedSearchCV)"
   ],
   "metadata": {
    "collapsed": false,
    "ExecuteTime": {
     "end_time": "2023-09-29T11:48:17.895531Z",
     "start_time": "2023-09-29T11:48:17.888383Z"
    }
   },
   "id": "d955cde8c1a9b2f3"
  },
  {
   "cell_type": "code",
   "execution_count": 44,
   "outputs": [],
   "source": [
    "randomizedSearch = RandomizedSearchCV(estimator = model, param_distributions = parameters, cv = 10, verbose = 3, random_state = 42, return_train_score = True)"
   ],
   "metadata": {
    "collapsed": false,
    "ExecuteTime": {
     "end_time": "2023-09-29T11:52:26.695839Z",
     "start_time": "2023-09-29T11:52:26.690105Z"
    }
   },
   "id": "ba5741385f82107e"
  },
  {
   "cell_type": "code",
   "execution_count": 46,
   "outputs": [
    {
     "name": "stdout",
     "output_type": "stream",
     "text": [
      "Fitting 10 folds for each of 10 candidates, totalling 100 fits\n",
      "[CV 1/10] END booster=gbtree, eval_metric=error, gamma=0.5, learning_rate=0.1, max_depth=200, n_estimatios=10;, score=(train=0.999, test=0.995) total time=   0.1s\n"
     ]
    },
    {
     "name": "stderr",
     "output_type": "stream",
     "text": [
      "/Users/ismile/anaconda3/lib/python3.10/site-packages/xgboost/core.py:160: UserWarning: [15:54:18] WARNING: /Users/runner/work/xgboost/xgboost/src/learner.cc:742: \n",
      "Parameters: { \"n_estimatios\" } are not used.\n",
      "\n",
      "  warnings.warn(smsg, UserWarning)\n",
      "/Users/ismile/anaconda3/lib/python3.10/site-packages/xgboost/core.py:160: UserWarning: [15:54:18] WARNING: /Users/runner/work/xgboost/xgboost/src/learner.cc:742: \n",
      "Parameters: { \"n_estimatios\" } are not used.\n",
      "\n",
      "  warnings.warn(smsg, UserWarning)\n"
     ]
    },
    {
     "name": "stdout",
     "output_type": "stream",
     "text": [
      "[CV 2/10] END booster=gbtree, eval_metric=error, gamma=0.5, learning_rate=0.1, max_depth=200, n_estimatios=10;, score=(train=1.000, test=0.997) total time=   0.1s\n",
      "[CV 3/10] END booster=gbtree, eval_metric=error, gamma=0.5, learning_rate=0.1, max_depth=200, n_estimatios=10;, score=(train=1.000, test=0.997) total time=   0.1s\n"
     ]
    },
    {
     "name": "stderr",
     "output_type": "stream",
     "text": [
      "/Users/ismile/anaconda3/lib/python3.10/site-packages/xgboost/core.py:160: UserWarning: [15:54:18] WARNING: /Users/runner/work/xgboost/xgboost/src/learner.cc:742: \n",
      "Parameters: { \"n_estimatios\" } are not used.\n",
      "\n",
      "  warnings.warn(smsg, UserWarning)\n",
      "/Users/ismile/anaconda3/lib/python3.10/site-packages/xgboost/core.py:160: UserWarning: [15:54:18] WARNING: /Users/runner/work/xgboost/xgboost/src/learner.cc:742: \n",
      "Parameters: { \"n_estimatios\" } are not used.\n",
      "\n",
      "  warnings.warn(smsg, UserWarning)\n"
     ]
    },
    {
     "name": "stdout",
     "output_type": "stream",
     "text": [
      "[CV 4/10] END booster=gbtree, eval_metric=error, gamma=0.5, learning_rate=0.1, max_depth=200, n_estimatios=10;, score=(train=0.999, test=0.997) total time=   0.1s\n",
      "[CV 5/10] END booster=gbtree, eval_metric=error, gamma=0.5, learning_rate=0.1, max_depth=200, n_estimatios=10;, score=(train=1.000, test=0.997) total time=   0.1s\n"
     ]
    },
    {
     "name": "stderr",
     "output_type": "stream",
     "text": [
      "/Users/ismile/anaconda3/lib/python3.10/site-packages/xgboost/core.py:160: UserWarning: [15:54:18] WARNING: /Users/runner/work/xgboost/xgboost/src/learner.cc:742: \n",
      "Parameters: { \"n_estimatios\" } are not used.\n",
      "\n",
      "  warnings.warn(smsg, UserWarning)\n",
      "/Users/ismile/anaconda3/lib/python3.10/site-packages/xgboost/core.py:160: UserWarning: [15:54:19] WARNING: /Users/runner/work/xgboost/xgboost/src/learner.cc:742: \n",
      "Parameters: { \"n_estimatios\" } are not used.\n",
      "\n",
      "  warnings.warn(smsg, UserWarning)\n"
     ]
    },
    {
     "name": "stdout",
     "output_type": "stream",
     "text": [
      "[CV 6/10] END booster=gbtree, eval_metric=error, gamma=0.5, learning_rate=0.1, max_depth=200, n_estimatios=10;, score=(train=1.000, test=0.997) total time=   0.1s\n",
      "[CV 7/10] END booster=gbtree, eval_metric=error, gamma=0.5, learning_rate=0.1, max_depth=200, n_estimatios=10;, score=(train=1.000, test=0.997) total time=   0.2s\n"
     ]
    },
    {
     "name": "stderr",
     "output_type": "stream",
     "text": [
      "/Users/ismile/anaconda3/lib/python3.10/site-packages/xgboost/core.py:160: UserWarning: [15:54:19] WARNING: /Users/runner/work/xgboost/xgboost/src/learner.cc:742: \n",
      "Parameters: { \"n_estimatios\" } are not used.\n",
      "\n",
      "  warnings.warn(smsg, UserWarning)\n",
      "/Users/ismile/anaconda3/lib/python3.10/site-packages/xgboost/core.py:160: UserWarning: [15:54:19] WARNING: /Users/runner/work/xgboost/xgboost/src/learner.cc:742: \n",
      "Parameters: { \"n_estimatios\" } are not used.\n",
      "\n",
      "  warnings.warn(smsg, UserWarning)\n",
      "/Users/ismile/anaconda3/lib/python3.10/site-packages/xgboost/core.py:160: UserWarning: [15:54:19] WARNING: /Users/runner/work/xgboost/xgboost/src/learner.cc:742: \n",
      "Parameters: { \"n_estimatios\" } are not used.\n",
      "\n",
      "  warnings.warn(smsg, UserWarning)\n"
     ]
    },
    {
     "name": "stdout",
     "output_type": "stream",
     "text": [
      "[CV 8/10] END booster=gbtree, eval_metric=error, gamma=0.5, learning_rate=0.1, max_depth=200, n_estimatios=10;, score=(train=0.999, test=0.992) total time=   0.1s\n",
      "[CV 9/10] END booster=gbtree, eval_metric=error, gamma=0.5, learning_rate=0.1, max_depth=200, n_estimatios=10;, score=(train=1.000, test=0.987) total time=   0.2s\n"
     ]
    },
    {
     "name": "stderr",
     "output_type": "stream",
     "text": [
      "/Users/ismile/anaconda3/lib/python3.10/site-packages/xgboost/core.py:160: UserWarning: [15:54:19] WARNING: /Users/runner/work/xgboost/xgboost/src/learner.cc:742: \n",
      "Parameters: { \"n_estimatios\" } are not used.\n",
      "\n",
      "  warnings.warn(smsg, UserWarning)\n",
      "/Users/ismile/anaconda3/lib/python3.10/site-packages/xgboost/core.py:160: UserWarning: [15:54:19] WARNING: /Users/runner/work/xgboost/xgboost/src/learner.cc:742: \n",
      "Parameters: { \"gamma\", \"max_depth\", \"n_estimatios\" } are not used.\n",
      "\n",
      "  warnings.warn(smsg, UserWarning)\n"
     ]
    },
    {
     "name": "stdout",
     "output_type": "stream",
     "text": [
      "[CV 10/10] END booster=gbtree, eval_metric=error, gamma=0.5, learning_rate=0.1, max_depth=200, n_estimatios=10;, score=(train=0.999, test=0.997) total time=   0.2s\n",
      "[CV 1/10] END booster=gblinear, eval_metric=rmsle, gamma=1, learning_rate=0.1, max_depth=200, n_estimatios=20;, score=(train=0.953, test=0.957) total time=   0.1s\n",
      "[CV 2/10] END booster=gblinear, eval_metric=rmsle, gamma=1, learning_rate=0.1, max_depth=200, n_estimatios=20;, score=(train=0.953, test=0.947) total time=   0.1s\n"
     ]
    },
    {
     "name": "stderr",
     "output_type": "stream",
     "text": [
      "/Users/ismile/anaconda3/lib/python3.10/site-packages/xgboost/core.py:160: UserWarning: [15:54:19] WARNING: /Users/runner/work/xgboost/xgboost/src/learner.cc:742: \n",
      "Parameters: { \"gamma\", \"max_depth\", \"n_estimatios\" } are not used.\n",
      "\n",
      "  warnings.warn(smsg, UserWarning)\n",
      "/Users/ismile/anaconda3/lib/python3.10/site-packages/xgboost/core.py:160: UserWarning: [15:54:19] WARNING: /Users/runner/work/xgboost/xgboost/src/learner.cc:742: \n",
      "Parameters: { \"gamma\", \"max_depth\", \"n_estimatios\" } are not used.\n",
      "\n",
      "  warnings.warn(smsg, UserWarning)\n",
      "/Users/ismile/anaconda3/lib/python3.10/site-packages/xgboost/core.py:160: UserWarning: [15:54:20] WARNING: /Users/runner/work/xgboost/xgboost/src/learner.cc:742: \n",
      "Parameters: { \"gamma\", \"max_depth\", \"n_estimatios\" } are not used.\n",
      "\n",
      "  warnings.warn(smsg, UserWarning)\n"
     ]
    },
    {
     "name": "stdout",
     "output_type": "stream",
     "text": [
      "[CV 3/10] END booster=gblinear, eval_metric=rmsle, gamma=1, learning_rate=0.1, max_depth=200, n_estimatios=20;, score=(train=0.952, test=0.968) total time=   0.1s\n",
      "[CV 4/10] END booster=gblinear, eval_metric=rmsle, gamma=1, learning_rate=0.1, max_depth=200, n_estimatios=20;, score=(train=0.952, test=0.968) total time=   0.1s\n",
      "[CV 5/10] END booster=gblinear, eval_metric=rmsle, gamma=1, learning_rate=0.1, max_depth=200, n_estimatios=20;, score=(train=0.952, test=0.955) total time=   0.1s\n"
     ]
    },
    {
     "name": "stderr",
     "output_type": "stream",
     "text": [
      "/Users/ismile/anaconda3/lib/python3.10/site-packages/xgboost/core.py:160: UserWarning: [15:54:20] WARNING: /Users/runner/work/xgboost/xgboost/src/learner.cc:742: \n",
      "Parameters: { \"gamma\", \"max_depth\", \"n_estimatios\" } are not used.\n",
      "\n",
      "  warnings.warn(smsg, UserWarning)\n",
      "/Users/ismile/anaconda3/lib/python3.10/site-packages/xgboost/core.py:160: UserWarning: [15:54:20] WARNING: /Users/runner/work/xgboost/xgboost/src/learner.cc:742: \n",
      "Parameters: { \"gamma\", \"max_depth\", \"n_estimatios\" } are not used.\n",
      "\n",
      "  warnings.warn(smsg, UserWarning)\n",
      "/Users/ismile/anaconda3/lib/python3.10/site-packages/xgboost/core.py:160: UserWarning: [15:54:20] WARNING: /Users/runner/work/xgboost/xgboost/src/learner.cc:742: \n",
      "Parameters: { \"gamma\", \"max_depth\", \"n_estimatios\" } are not used.\n",
      "\n",
      "  warnings.warn(smsg, UserWarning)\n"
     ]
    },
    {
     "name": "stdout",
     "output_type": "stream",
     "text": [
      "[CV 6/10] END booster=gblinear, eval_metric=rmsle, gamma=1, learning_rate=0.1, max_depth=200, n_estimatios=20;, score=(train=0.953, test=0.941) total time=   0.1s\n",
      "[CV 7/10] END booster=gblinear, eval_metric=rmsle, gamma=1, learning_rate=0.1, max_depth=200, n_estimatios=20;, score=(train=0.953, test=0.965) total time=   0.1s\n",
      "[CV 8/10] END booster=gblinear, eval_metric=rmsle, gamma=1, learning_rate=0.1, max_depth=200, n_estimatios=20;, score=(train=0.952, test=0.952) total time=   0.1s\n"
     ]
    },
    {
     "name": "stderr",
     "output_type": "stream",
     "text": [
      "/Users/ismile/anaconda3/lib/python3.10/site-packages/xgboost/core.py:160: UserWarning: [15:54:20] WARNING: /Users/runner/work/xgboost/xgboost/src/learner.cc:742: \n",
      "Parameters: { \"gamma\", \"max_depth\", \"n_estimatios\" } are not used.\n",
      "\n",
      "  warnings.warn(smsg, UserWarning)\n",
      "/Users/ismile/anaconda3/lib/python3.10/site-packages/xgboost/core.py:160: UserWarning: [15:54:20] WARNING: /Users/runner/work/xgboost/xgboost/src/learner.cc:742: \n",
      "Parameters: { \"gamma\", \"max_depth\", \"n_estimatios\" } are not used.\n",
      "\n",
      "  warnings.warn(smsg, UserWarning)\n",
      "/Users/ismile/anaconda3/lib/python3.10/site-packages/xgboost/core.py:160: UserWarning: [15:54:20] WARNING: /Users/runner/work/xgboost/xgboost/src/learner.cc:742: \n",
      "Parameters: { \"gamma\", \"max_depth\", \"n_estimatios\" } are not used.\n",
      "\n",
      "  warnings.warn(smsg, UserWarning)\n"
     ]
    },
    {
     "name": "stdout",
     "output_type": "stream",
     "text": [
      "[CV 9/10] END booster=gblinear, eval_metric=rmsle, gamma=1, learning_rate=0.1, max_depth=200, n_estimatios=20;, score=(train=0.955, test=0.936) total time=   0.1s\n",
      "[CV 10/10] END booster=gblinear, eval_metric=rmsle, gamma=1, learning_rate=0.1, max_depth=200, n_estimatios=20;, score=(train=0.955, test=0.922) total time=   0.1s\n",
      "[CV 1/10] END booster=gblinear, eval_metric=rmse, gamma=5, learning_rate=0.05, max_depth=150, n_estimatios=20;, score=(train=0.937, test=0.949) total time=   0.1s\n"
     ]
    },
    {
     "name": "stderr",
     "output_type": "stream",
     "text": [
      "/Users/ismile/anaconda3/lib/python3.10/site-packages/xgboost/core.py:160: UserWarning: [15:54:20] WARNING: /Users/runner/work/xgboost/xgboost/src/learner.cc:742: \n",
      "Parameters: { \"gamma\", \"max_depth\", \"n_estimatios\" } are not used.\n",
      "\n",
      "  warnings.warn(smsg, UserWarning)\n",
      "/Users/ismile/anaconda3/lib/python3.10/site-packages/xgboost/core.py:160: UserWarning: [15:54:20] WARNING: /Users/runner/work/xgboost/xgboost/src/learner.cc:742: \n",
      "Parameters: { \"gamma\", \"max_depth\", \"n_estimatios\" } are not used.\n",
      "\n",
      "  warnings.warn(smsg, UserWarning)\n",
      "/Users/ismile/anaconda3/lib/python3.10/site-packages/xgboost/core.py:160: UserWarning: [15:54:20] WARNING: /Users/runner/work/xgboost/xgboost/src/learner.cc:742: \n",
      "Parameters: { \"gamma\", \"max_depth\", \"n_estimatios\" } are not used.\n",
      "\n",
      "  warnings.warn(smsg, UserWarning)\n"
     ]
    },
    {
     "name": "stdout",
     "output_type": "stream",
     "text": [
      "[CV 2/10] END booster=gblinear, eval_metric=rmse, gamma=5, learning_rate=0.05, max_depth=150, n_estimatios=20;, score=(train=0.935, test=0.944) total time=   0.1s\n",
      "[CV 3/10] END booster=gblinear, eval_metric=rmse, gamma=5, learning_rate=0.05, max_depth=150, n_estimatios=20;, score=(train=0.935, test=0.947) total time=   0.1s\n",
      "[CV 4/10] END booster=gblinear, eval_metric=rmse, gamma=5, learning_rate=0.05, max_depth=150, n_estimatios=20;, score=(train=0.933, test=0.947) total time=   0.1s\n"
     ]
    },
    {
     "name": "stderr",
     "output_type": "stream",
     "text": [
      "/Users/ismile/anaconda3/lib/python3.10/site-packages/xgboost/core.py:160: UserWarning: [15:54:20] WARNING: /Users/runner/work/xgboost/xgboost/src/learner.cc:742: \n",
      "Parameters: { \"gamma\", \"max_depth\", \"n_estimatios\" } are not used.\n",
      "\n",
      "  warnings.warn(smsg, UserWarning)\n",
      "/Users/ismile/anaconda3/lib/python3.10/site-packages/xgboost/core.py:160: UserWarning: [15:54:20] WARNING: /Users/runner/work/xgboost/xgboost/src/learner.cc:742: \n",
      "Parameters: { \"gamma\", \"max_depth\", \"n_estimatios\" } are not used.\n",
      "\n",
      "  warnings.warn(smsg, UserWarning)\n",
      "/Users/ismile/anaconda3/lib/python3.10/site-packages/xgboost/core.py:160: UserWarning: [15:54:20] WARNING: /Users/runner/work/xgboost/xgboost/src/learner.cc:742: \n",
      "Parameters: { \"gamma\", \"max_depth\", \"n_estimatios\" } are not used.\n",
      "\n",
      "  warnings.warn(smsg, UserWarning)\n"
     ]
    },
    {
     "name": "stdout",
     "output_type": "stream",
     "text": [
      "[CV 5/10] END booster=gblinear, eval_metric=rmse, gamma=5, learning_rate=0.05, max_depth=150, n_estimatios=20;, score=(train=0.934, test=0.939) total time=   0.1s\n",
      "[CV 6/10] END booster=gblinear, eval_metric=rmse, gamma=5, learning_rate=0.05, max_depth=150, n_estimatios=20;, score=(train=0.936, test=0.936) total time=   0.1s\n",
      "[CV 7/10] END booster=gblinear, eval_metric=rmse, gamma=5, learning_rate=0.05, max_depth=150, n_estimatios=20;, score=(train=0.935, test=0.949) total time=   0.1s\n"
     ]
    },
    {
     "name": "stderr",
     "output_type": "stream",
     "text": [
      "/Users/ismile/anaconda3/lib/python3.10/site-packages/xgboost/core.py:160: UserWarning: [15:54:21] WARNING: /Users/runner/work/xgboost/xgboost/src/learner.cc:742: \n",
      "Parameters: { \"gamma\", \"max_depth\", \"n_estimatios\" } are not used.\n",
      "\n",
      "  warnings.warn(smsg, UserWarning)\n",
      "/Users/ismile/anaconda3/lib/python3.10/site-packages/xgboost/core.py:160: UserWarning: [15:54:21] WARNING: /Users/runner/work/xgboost/xgboost/src/learner.cc:742: \n",
      "Parameters: { \"gamma\", \"max_depth\", \"n_estimatios\" } are not used.\n",
      "\n",
      "  warnings.warn(smsg, UserWarning)\n",
      "/Users/ismile/anaconda3/lib/python3.10/site-packages/xgboost/core.py:160: UserWarning: [15:54:21] WARNING: /Users/runner/work/xgboost/xgboost/src/learner.cc:742: \n",
      "Parameters: { \"gamma\", \"max_depth\", \"n_estimatios\" } are not used.\n",
      "\n",
      "  warnings.warn(smsg, UserWarning)\n"
     ]
    },
    {
     "name": "stdout",
     "output_type": "stream",
     "text": [
      "[CV 8/10] END booster=gblinear, eval_metric=rmse, gamma=5, learning_rate=0.05, max_depth=150, n_estimatios=20;, score=(train=0.935, test=0.925) total time=   0.1s\n",
      "[CV 9/10] END booster=gblinear, eval_metric=rmse, gamma=5, learning_rate=0.05, max_depth=150, n_estimatios=20;, score=(train=0.937, test=0.907) total time=   0.1s\n"
     ]
    },
    {
     "name": "stderr",
     "output_type": "stream",
     "text": [
      "/Users/ismile/anaconda3/lib/python3.10/site-packages/xgboost/core.py:160: UserWarning: [15:54:21] WARNING: /Users/runner/work/xgboost/xgboost/src/learner.cc:742: \n",
      "Parameters: { \"gamma\", \"max_depth\", \"n_estimatios\" } are not used.\n",
      "\n",
      "  warnings.warn(smsg, UserWarning)\n",
      "/Users/ismile/anaconda3/lib/python3.10/site-packages/xgboost/core.py:160: UserWarning: [15:54:21] WARNING: /Users/runner/work/xgboost/xgboost/src/learner.cc:742: \n",
      "Parameters: { \"gamma\", \"max_depth\", \"n_estimatios\" } are not used.\n",
      "\n",
      "  warnings.warn(smsg, UserWarning)\n"
     ]
    },
    {
     "name": "stdout",
     "output_type": "stream",
     "text": [
      "[CV 10/10] END booster=gblinear, eval_metric=rmse, gamma=5, learning_rate=0.05, max_depth=150, n_estimatios=20;, score=(train=0.938, test=0.909) total time=   0.1s\n",
      "[CV 1/10] END booster=gblinear, eval_metric=rmse, gamma=1, learning_rate=0.1, max_depth=100, n_estimatios=50;, score=(train=0.954, test=0.957) total time=   0.1s\n"
     ]
    },
    {
     "name": "stderr",
     "output_type": "stream",
     "text": [
      "/Users/ismile/anaconda3/lib/python3.10/site-packages/xgboost/core.py:160: UserWarning: [15:54:21] WARNING: /Users/runner/work/xgboost/xgboost/src/learner.cc:742: \n",
      "Parameters: { \"gamma\", \"max_depth\", \"n_estimatios\" } are not used.\n",
      "\n",
      "  warnings.warn(smsg, UserWarning)\n",
      "/Users/ismile/anaconda3/lib/python3.10/site-packages/xgboost/core.py:160: UserWarning: [15:54:21] WARNING: /Users/runner/work/xgboost/xgboost/src/learner.cc:742: \n",
      "Parameters: { \"gamma\", \"max_depth\", \"n_estimatios\" } are not used.\n",
      "\n",
      "  warnings.warn(smsg, UserWarning)\n"
     ]
    },
    {
     "name": "stdout",
     "output_type": "stream",
     "text": [
      "[CV 2/10] END booster=gblinear, eval_metric=rmse, gamma=1, learning_rate=0.1, max_depth=100, n_estimatios=50;, score=(train=0.953, test=0.944) total time=   0.1s\n",
      "[CV 3/10] END booster=gblinear, eval_metric=rmse, gamma=1, learning_rate=0.1, max_depth=100, n_estimatios=50;, score=(train=0.952, test=0.968) total time=   0.1s\n"
     ]
    },
    {
     "name": "stderr",
     "output_type": "stream",
     "text": [
      "/Users/ismile/anaconda3/lib/python3.10/site-packages/xgboost/core.py:160: UserWarning: [15:54:21] WARNING: /Users/runner/work/xgboost/xgboost/src/learner.cc:742: \n",
      "Parameters: { \"gamma\", \"max_depth\", \"n_estimatios\" } are not used.\n",
      "\n",
      "  warnings.warn(smsg, UserWarning)\n",
      "/Users/ismile/anaconda3/lib/python3.10/site-packages/xgboost/core.py:160: UserWarning: [15:54:21] WARNING: /Users/runner/work/xgboost/xgboost/src/learner.cc:742: \n",
      "Parameters: { \"gamma\", \"max_depth\", \"n_estimatios\" } are not used.\n",
      "\n",
      "  warnings.warn(smsg, UserWarning)\n",
      "/Users/ismile/anaconda3/lib/python3.10/site-packages/xgboost/core.py:160: UserWarning: [15:54:21] WARNING: /Users/runner/work/xgboost/xgboost/src/learner.cc:742: \n",
      "Parameters: { \"gamma\", \"max_depth\", \"n_estimatios\" } are not used.\n",
      "\n",
      "  warnings.warn(smsg, UserWarning)\n"
     ]
    },
    {
     "name": "stdout",
     "output_type": "stream",
     "text": [
      "[CV 4/10] END booster=gblinear, eval_metric=rmse, gamma=1, learning_rate=0.1, max_depth=100, n_estimatios=50;, score=(train=0.952, test=0.968) total time=   0.1s\n",
      "[CV 5/10] END booster=gblinear, eval_metric=rmse, gamma=1, learning_rate=0.1, max_depth=100, n_estimatios=50;, score=(train=0.952, test=0.957) total time=   0.1s\n",
      "[CV 6/10] END booster=gblinear, eval_metric=rmse, gamma=1, learning_rate=0.1, max_depth=100, n_estimatios=50;, score=(train=0.953, test=0.941) total time=   0.1s\n"
     ]
    },
    {
     "name": "stderr",
     "output_type": "stream",
     "text": [
      "/Users/ismile/anaconda3/lib/python3.10/site-packages/xgboost/core.py:160: UserWarning: [15:54:22] WARNING: /Users/runner/work/xgboost/xgboost/src/learner.cc:742: \n",
      "Parameters: { \"gamma\", \"max_depth\", \"n_estimatios\" } are not used.\n",
      "\n",
      "  warnings.warn(smsg, UserWarning)\n",
      "/Users/ismile/anaconda3/lib/python3.10/site-packages/xgboost/core.py:160: UserWarning: [15:54:22] WARNING: /Users/runner/work/xgboost/xgboost/src/learner.cc:742: \n",
      "Parameters: { \"gamma\", \"max_depth\", \"n_estimatios\" } are not used.\n",
      "\n",
      "  warnings.warn(smsg, UserWarning)\n",
      "/Users/ismile/anaconda3/lib/python3.10/site-packages/xgboost/core.py:160: UserWarning: [15:54:22] WARNING: /Users/runner/work/xgboost/xgboost/src/learner.cc:742: \n",
      "Parameters: { \"gamma\", \"max_depth\", \"n_estimatios\" } are not used.\n",
      "\n",
      "  warnings.warn(smsg, UserWarning)\n"
     ]
    },
    {
     "name": "stdout",
     "output_type": "stream",
     "text": [
      "[CV 7/10] END booster=gblinear, eval_metric=rmse, gamma=1, learning_rate=0.1, max_depth=100, n_estimatios=50;, score=(train=0.952, test=0.963) total time=   0.1s\n",
      "[CV 8/10] END booster=gblinear, eval_metric=rmse, gamma=1, learning_rate=0.1, max_depth=100, n_estimatios=50;, score=(train=0.952, test=0.952) total time=   0.1s\n",
      "[CV 9/10] END booster=gblinear, eval_metric=rmse, gamma=1, learning_rate=0.1, max_depth=100, n_estimatios=50;, score=(train=0.955, test=0.936) total time=   0.1s\n"
     ]
    },
    {
     "name": "stderr",
     "output_type": "stream",
     "text": [
      "/Users/ismile/anaconda3/lib/python3.10/site-packages/xgboost/core.py:160: UserWarning: [15:54:22] WARNING: /Users/runner/work/xgboost/xgboost/src/learner.cc:742: \n",
      "Parameters: { \"gamma\", \"max_depth\", \"n_estimatios\" } are not used.\n",
      "\n",
      "  warnings.warn(smsg, UserWarning)\n",
      "/Users/ismile/anaconda3/lib/python3.10/site-packages/xgboost/core.py:160: UserWarning: [15:54:22] WARNING: /Users/runner/work/xgboost/xgboost/src/learner.cc:742: \n",
      "Parameters: { \"gamma\", \"max_depth\", \"n_estimatios\" } are not used.\n",
      "\n",
      "  warnings.warn(smsg, UserWarning)\n",
      "/Users/ismile/anaconda3/lib/python3.10/site-packages/xgboost/core.py:160: UserWarning: [15:54:22] WARNING: /Users/runner/work/xgboost/xgboost/src/learner.cc:742: \n",
      "Parameters: { \"gamma\", \"max_depth\", \"n_estimatios\" } are not used.\n",
      "\n",
      "  warnings.warn(smsg, UserWarning)\n"
     ]
    },
    {
     "name": "stdout",
     "output_type": "stream",
     "text": [
      "[CV 10/10] END booster=gblinear, eval_metric=rmse, gamma=1, learning_rate=0.1, max_depth=100, n_estimatios=50;, score=(train=0.954, test=0.925) total time=   0.1s\n",
      "[CV 1/10] END booster=gblinear, eval_metric=logloss, gamma=1, learning_rate=0.01, max_depth=100, n_estimatios=20;, score=(train=0.876, test=0.901) total time=   0.1s\n",
      "[CV 2/10] END booster=gblinear, eval_metric=logloss, gamma=1, learning_rate=0.01, max_depth=100, n_estimatios=20;, score=(train=0.879, test=0.875) total time=   0.1s\n"
     ]
    },
    {
     "name": "stderr",
     "output_type": "stream",
     "text": [
      "/Users/ismile/anaconda3/lib/python3.10/site-packages/xgboost/core.py:160: UserWarning: [15:54:22] WARNING: /Users/runner/work/xgboost/xgboost/src/learner.cc:742: \n",
      "Parameters: { \"gamma\", \"max_depth\", \"n_estimatios\" } are not used.\n",
      "\n",
      "  warnings.warn(smsg, UserWarning)\n",
      "/Users/ismile/anaconda3/lib/python3.10/site-packages/xgboost/core.py:160: UserWarning: [15:54:22] WARNING: /Users/runner/work/xgboost/xgboost/src/learner.cc:742: \n",
      "Parameters: { \"gamma\", \"max_depth\", \"n_estimatios\" } are not used.\n",
      "\n",
      "  warnings.warn(smsg, UserWarning)\n",
      "/Users/ismile/anaconda3/lib/python3.10/site-packages/xgboost/core.py:160: UserWarning: [15:54:22] WARNING: /Users/runner/work/xgboost/xgboost/src/learner.cc:742: \n",
      "Parameters: { \"gamma\", \"max_depth\", \"n_estimatios\" } are not used.\n",
      "\n",
      "  warnings.warn(smsg, UserWarning)\n"
     ]
    },
    {
     "name": "stdout",
     "output_type": "stream",
     "text": [
      "[CV 3/10] END booster=gblinear, eval_metric=logloss, gamma=1, learning_rate=0.01, max_depth=100, n_estimatios=20;, score=(train=0.876, test=0.885) total time=   0.1s\n",
      "[CV 4/10] END booster=gblinear, eval_metric=logloss, gamma=1, learning_rate=0.01, max_depth=100, n_estimatios=20;, score=(train=0.877, test=0.872) total time=   0.1s\n",
      "[CV 5/10] END booster=gblinear, eval_metric=logloss, gamma=1, learning_rate=0.01, max_depth=100, n_estimatios=20;, score=(train=0.878, test=0.869) total time=   0.1s\n"
     ]
    },
    {
     "name": "stderr",
     "output_type": "stream",
     "text": [
      "/Users/ismile/anaconda3/lib/python3.10/site-packages/xgboost/core.py:160: UserWarning: [15:54:22] WARNING: /Users/runner/work/xgboost/xgboost/src/learner.cc:742: \n",
      "Parameters: { \"gamma\", \"max_depth\", \"n_estimatios\" } are not used.\n",
      "\n",
      "  warnings.warn(smsg, UserWarning)\n",
      "/Users/ismile/anaconda3/lib/python3.10/site-packages/xgboost/core.py:160: UserWarning: [15:54:22] WARNING: /Users/runner/work/xgboost/xgboost/src/learner.cc:742: \n",
      "Parameters: { \"gamma\", \"max_depth\", \"n_estimatios\" } are not used.\n",
      "\n",
      "  warnings.warn(smsg, UserWarning)\n",
      "/Users/ismile/anaconda3/lib/python3.10/site-packages/xgboost/core.py:160: UserWarning: [15:54:22] WARNING: /Users/runner/work/xgboost/xgboost/src/learner.cc:742: \n",
      "Parameters: { \"gamma\", \"max_depth\", \"n_estimatios\" } are not used.\n",
      "\n",
      "  warnings.warn(smsg, UserWarning)\n"
     ]
    },
    {
     "name": "stdout",
     "output_type": "stream",
     "text": [
      "[CV 6/10] END booster=gblinear, eval_metric=logloss, gamma=1, learning_rate=0.01, max_depth=100, n_estimatios=20;, score=(train=0.877, test=0.856) total time=   0.1s\n",
      "[CV 7/10] END booster=gblinear, eval_metric=logloss, gamma=1, learning_rate=0.01, max_depth=100, n_estimatios=20;, score=(train=0.877, test=0.883) total time=   0.1s\n",
      "[CV 8/10] END booster=gblinear, eval_metric=logloss, gamma=1, learning_rate=0.01, max_depth=100, n_estimatios=20;, score=(train=0.880, test=0.864) total time=   0.1s\n"
     ]
    },
    {
     "name": "stderr",
     "output_type": "stream",
     "text": [
      "/Users/ismile/anaconda3/lib/python3.10/site-packages/xgboost/core.py:160: UserWarning: [15:54:22] WARNING: /Users/runner/work/xgboost/xgboost/src/learner.cc:742: \n",
      "Parameters: { \"gamma\", \"max_depth\", \"n_estimatios\" } are not used.\n",
      "\n",
      "  warnings.warn(smsg, UserWarning)\n",
      "/Users/ismile/anaconda3/lib/python3.10/site-packages/xgboost/core.py:160: UserWarning: [15:54:23] WARNING: /Users/runner/work/xgboost/xgboost/src/learner.cc:742: \n",
      "Parameters: { \"gamma\", \"max_depth\", \"n_estimatios\" } are not used.\n",
      "\n",
      "  warnings.warn(smsg, UserWarning)\n",
      "/Users/ismile/anaconda3/lib/python3.10/site-packages/xgboost/core.py:160: UserWarning: [15:54:23] WARNING: /Users/runner/work/xgboost/xgboost/src/learner.cc:742: \n",
      "Parameters: { \"n_estimatios\" } are not used.\n",
      "\n",
      "  warnings.warn(smsg, UserWarning)\n"
     ]
    },
    {
     "name": "stdout",
     "output_type": "stream",
     "text": [
      "[CV 9/10] END booster=gblinear, eval_metric=logloss, gamma=1, learning_rate=0.01, max_depth=100, n_estimatios=20;, score=(train=0.878, test=0.877) total time=   0.1s\n",
      "[CV 10/10] END booster=gblinear, eval_metric=logloss, gamma=1, learning_rate=0.01, max_depth=100, n_estimatios=20;, score=(train=0.877, test=0.869) total time=   0.1s\n",
      "[CV 1/10] END booster=dart, eval_metric=rmsle, gamma=0.5, learning_rate=0.01, max_depth=150, n_estimatios=15;, score=(train=0.997, test=0.989) total time=   4.0s\n"
     ]
    },
    {
     "name": "stderr",
     "output_type": "stream",
     "text": [
      "/Users/ismile/anaconda3/lib/python3.10/site-packages/xgboost/core.py:160: UserWarning: [15:54:27] WARNING: /Users/runner/work/xgboost/xgboost/src/learner.cc:742: \n",
      "Parameters: { \"n_estimatios\" } are not used.\n",
      "\n",
      "  warnings.warn(smsg, UserWarning)\n"
     ]
    },
    {
     "name": "stdout",
     "output_type": "stream",
     "text": [
      "[CV 2/10] END booster=dart, eval_metric=rmsle, gamma=0.5, learning_rate=0.01, max_depth=150, n_estimatios=15;, score=(train=0.997, test=0.992) total time=   3.2s\n"
     ]
    },
    {
     "name": "stderr",
     "output_type": "stream",
     "text": [
      "/Users/ismile/anaconda3/lib/python3.10/site-packages/xgboost/core.py:160: UserWarning: [15:54:30] WARNING: /Users/runner/work/xgboost/xgboost/src/learner.cc:742: \n",
      "Parameters: { \"n_estimatios\" } are not used.\n",
      "\n",
      "  warnings.warn(smsg, UserWarning)\n"
     ]
    },
    {
     "name": "stdout",
     "output_type": "stream",
     "text": [
      "[CV 3/10] END booster=dart, eval_metric=rmsle, gamma=0.5, learning_rate=0.01, max_depth=150, n_estimatios=15;, score=(train=0.997, test=0.997) total time=   3.4s\n"
     ]
    },
    {
     "name": "stderr",
     "output_type": "stream",
     "text": [
      "/Users/ismile/anaconda3/lib/python3.10/site-packages/xgboost/core.py:160: UserWarning: [15:54:33] WARNING: /Users/runner/work/xgboost/xgboost/src/learner.cc:742: \n",
      "Parameters: { \"n_estimatios\" } are not used.\n",
      "\n",
      "  warnings.warn(smsg, UserWarning)\n"
     ]
    },
    {
     "name": "stdout",
     "output_type": "stream",
     "text": [
      "[CV 4/10] END booster=dart, eval_metric=rmsle, gamma=0.5, learning_rate=0.01, max_depth=150, n_estimatios=15;, score=(train=0.998, test=0.997) total time=   3.4s\n"
     ]
    },
    {
     "name": "stderr",
     "output_type": "stream",
     "text": [
      "/Users/ismile/anaconda3/lib/python3.10/site-packages/xgboost/core.py:160: UserWarning: [15:54:37] WARNING: /Users/runner/work/xgboost/xgboost/src/learner.cc:742: \n",
      "Parameters: { \"n_estimatios\" } are not used.\n",
      "\n",
      "  warnings.warn(smsg, UserWarning)\n"
     ]
    },
    {
     "name": "stdout",
     "output_type": "stream",
     "text": [
      "[CV 5/10] END booster=dart, eval_metric=rmsle, gamma=0.5, learning_rate=0.01, max_depth=150, n_estimatios=15;, score=(train=0.996, test=0.997) total time=   3.2s\n"
     ]
    },
    {
     "name": "stderr",
     "output_type": "stream",
     "text": [
      "/Users/ismile/anaconda3/lib/python3.10/site-packages/xgboost/core.py:160: UserWarning: [15:54:40] WARNING: /Users/runner/work/xgboost/xgboost/src/learner.cc:742: \n",
      "Parameters: { \"n_estimatios\" } are not used.\n",
      "\n",
      "  warnings.warn(smsg, UserWarning)\n"
     ]
    },
    {
     "name": "stdout",
     "output_type": "stream",
     "text": [
      "[CV 6/10] END booster=dart, eval_metric=rmsle, gamma=0.5, learning_rate=0.01, max_depth=150, n_estimatios=15;, score=(train=0.997, test=0.997) total time=   3.1s\n"
     ]
    },
    {
     "name": "stderr",
     "output_type": "stream",
     "text": [
      "/Users/ismile/anaconda3/lib/python3.10/site-packages/xgboost/core.py:160: UserWarning: [15:54:43] WARNING: /Users/runner/work/xgboost/xgboost/src/learner.cc:742: \n",
      "Parameters: { \"n_estimatios\" } are not used.\n",
      "\n",
      "  warnings.warn(smsg, UserWarning)\n"
     ]
    },
    {
     "name": "stdout",
     "output_type": "stream",
     "text": [
      "[CV 7/10] END booster=dart, eval_metric=rmsle, gamma=0.5, learning_rate=0.01, max_depth=150, n_estimatios=15;, score=(train=0.997, test=0.997) total time=   3.1s\n"
     ]
    },
    {
     "name": "stderr",
     "output_type": "stream",
     "text": [
      "/Users/ismile/anaconda3/lib/python3.10/site-packages/xgboost/core.py:160: UserWarning: [15:54:47] WARNING: /Users/runner/work/xgboost/xgboost/src/learner.cc:742: \n",
      "Parameters: { \"n_estimatios\" } are not used.\n",
      "\n",
      "  warnings.warn(smsg, UserWarning)\n"
     ]
    },
    {
     "name": "stdout",
     "output_type": "stream",
     "text": [
      "[CV 8/10] END booster=dart, eval_metric=rmsle, gamma=0.5, learning_rate=0.01, max_depth=150, n_estimatios=15;, score=(train=0.998, test=0.995) total time=   3.1s\n"
     ]
    },
    {
     "name": "stderr",
     "output_type": "stream",
     "text": [
      "/Users/ismile/anaconda3/lib/python3.10/site-packages/xgboost/core.py:160: UserWarning: [15:54:50] WARNING: /Users/runner/work/xgboost/xgboost/src/learner.cc:742: \n",
      "Parameters: { \"n_estimatios\" } are not used.\n",
      "\n",
      "  warnings.warn(smsg, UserWarning)\n"
     ]
    },
    {
     "name": "stdout",
     "output_type": "stream",
     "text": [
      "[CV 9/10] END booster=dart, eval_metric=rmsle, gamma=0.5, learning_rate=0.01, max_depth=150, n_estimatios=15;, score=(train=0.997, test=0.987) total time=   3.2s\n"
     ]
    },
    {
     "name": "stderr",
     "output_type": "stream",
     "text": [
      "/Users/ismile/anaconda3/lib/python3.10/site-packages/xgboost/core.py:160: UserWarning: [15:54:53] WARNING: /Users/runner/work/xgboost/xgboost/src/learner.cc:742: \n",
      "Parameters: { \"n_estimatios\" } are not used.\n",
      "\n",
      "  warnings.warn(smsg, UserWarning)\n"
     ]
    },
    {
     "name": "stdout",
     "output_type": "stream",
     "text": [
      "[CV 10/10] END booster=dart, eval_metric=rmsle, gamma=0.5, learning_rate=0.01, max_depth=150, n_estimatios=15;, score=(train=0.997, test=0.995) total time=   3.2s\n",
      "[CV 1/10] END booster=gbtree, eval_metric=mae, gamma=0.5, learning_rate=0.1, max_depth=50, n_estimatios=20;, score=(train=0.999, test=0.995) total time=   0.1s\n"
     ]
    },
    {
     "name": "stderr",
     "output_type": "stream",
     "text": [
      "/Users/ismile/anaconda3/lib/python3.10/site-packages/xgboost/core.py:160: UserWarning: [15:54:56] WARNING: /Users/runner/work/xgboost/xgboost/src/learner.cc:742: \n",
      "Parameters: { \"n_estimatios\" } are not used.\n",
      "\n",
      "  warnings.warn(smsg, UserWarning)\n",
      "/Users/ismile/anaconda3/lib/python3.10/site-packages/xgboost/core.py:160: UserWarning: [15:54:56] WARNING: /Users/runner/work/xgboost/xgboost/src/learner.cc:742: \n",
      "Parameters: { \"n_estimatios\" } are not used.\n",
      "\n",
      "  warnings.warn(smsg, UserWarning)\n"
     ]
    },
    {
     "name": "stdout",
     "output_type": "stream",
     "text": [
      "[CV 2/10] END booster=gbtree, eval_metric=mae, gamma=0.5, learning_rate=0.1, max_depth=50, n_estimatios=20;, score=(train=1.000, test=0.997) total time=   0.1s\n",
      "[CV 3/10] END booster=gbtree, eval_metric=mae, gamma=0.5, learning_rate=0.1, max_depth=50, n_estimatios=20;, score=(train=1.000, test=0.997) total time=   0.2s\n"
     ]
    },
    {
     "name": "stderr",
     "output_type": "stream",
     "text": [
      "/Users/ismile/anaconda3/lib/python3.10/site-packages/xgboost/core.py:160: UserWarning: [15:54:57] WARNING: /Users/runner/work/xgboost/xgboost/src/learner.cc:742: \n",
      "Parameters: { \"n_estimatios\" } are not used.\n",
      "\n",
      "  warnings.warn(smsg, UserWarning)\n",
      "/Users/ismile/anaconda3/lib/python3.10/site-packages/xgboost/core.py:160: UserWarning: [15:54:57] WARNING: /Users/runner/work/xgboost/xgboost/src/learner.cc:742: \n",
      "Parameters: { \"n_estimatios\" } are not used.\n",
      "\n",
      "  warnings.warn(smsg, UserWarning)\n"
     ]
    },
    {
     "name": "stdout",
     "output_type": "stream",
     "text": [
      "[CV 4/10] END booster=gbtree, eval_metric=mae, gamma=0.5, learning_rate=0.1, max_depth=50, n_estimatios=20;, score=(train=0.999, test=0.997) total time=   0.2s\n",
      "[CV 5/10] END booster=gbtree, eval_metric=mae, gamma=0.5, learning_rate=0.1, max_depth=50, n_estimatios=20;, score=(train=1.000, test=0.997) total time=   0.1s\n"
     ]
    },
    {
     "name": "stderr",
     "output_type": "stream",
     "text": [
      "/Users/ismile/anaconda3/lib/python3.10/site-packages/xgboost/core.py:160: UserWarning: [15:54:57] WARNING: /Users/runner/work/xgboost/xgboost/src/learner.cc:742: \n",
      "Parameters: { \"n_estimatios\" } are not used.\n",
      "\n",
      "  warnings.warn(smsg, UserWarning)\n",
      "/Users/ismile/anaconda3/lib/python3.10/site-packages/xgboost/core.py:160: UserWarning: [15:54:57] WARNING: /Users/runner/work/xgboost/xgboost/src/learner.cc:742: \n",
      "Parameters: { \"n_estimatios\" } are not used.\n",
      "\n",
      "  warnings.warn(smsg, UserWarning)\n"
     ]
    },
    {
     "name": "stdout",
     "output_type": "stream",
     "text": [
      "[CV 6/10] END booster=gbtree, eval_metric=mae, gamma=0.5, learning_rate=0.1, max_depth=50, n_estimatios=20;, score=(train=1.000, test=0.997) total time=   0.1s\n",
      "[CV 7/10] END booster=gbtree, eval_metric=mae, gamma=0.5, learning_rate=0.1, max_depth=50, n_estimatios=20;, score=(train=1.000, test=0.997) total time=   0.1s\n"
     ]
    },
    {
     "name": "stderr",
     "output_type": "stream",
     "text": [
      "/Users/ismile/anaconda3/lib/python3.10/site-packages/xgboost/core.py:160: UserWarning: [15:54:57] WARNING: /Users/runner/work/xgboost/xgboost/src/learner.cc:742: \n",
      "Parameters: { \"n_estimatios\" } are not used.\n",
      "\n",
      "  warnings.warn(smsg, UserWarning)\n",
      "/Users/ismile/anaconda3/lib/python3.10/site-packages/xgboost/core.py:160: UserWarning: [15:54:57] WARNING: /Users/runner/work/xgboost/xgboost/src/learner.cc:742: \n",
      "Parameters: { \"n_estimatios\" } are not used.\n",
      "\n",
      "  warnings.warn(smsg, UserWarning)\n"
     ]
    },
    {
     "name": "stdout",
     "output_type": "stream",
     "text": [
      "[CV 8/10] END booster=gbtree, eval_metric=mae, gamma=0.5, learning_rate=0.1, max_depth=50, n_estimatios=20;, score=(train=0.999, test=0.992) total time=   0.1s\n",
      "[CV 9/10] END booster=gbtree, eval_metric=mae, gamma=0.5, learning_rate=0.1, max_depth=50, n_estimatios=20;, score=(train=1.000, test=0.987) total time=   0.1s\n"
     ]
    },
    {
     "name": "stderr",
     "output_type": "stream",
     "text": [
      "/Users/ismile/anaconda3/lib/python3.10/site-packages/xgboost/core.py:160: UserWarning: [15:54:58] WARNING: /Users/runner/work/xgboost/xgboost/src/learner.cc:742: \n",
      "Parameters: { \"n_estimatios\" } are not used.\n",
      "\n",
      "  warnings.warn(smsg, UserWarning)\n",
      "/Users/ismile/anaconda3/lib/python3.10/site-packages/xgboost/core.py:160: UserWarning: [15:54:58] WARNING: /Users/runner/work/xgboost/xgboost/src/learner.cc:742: \n",
      "Parameters: { \"n_estimatios\" } are not used.\n",
      "\n",
      "  warnings.warn(smsg, UserWarning)\n"
     ]
    },
    {
     "name": "stdout",
     "output_type": "stream",
     "text": [
      "[CV 10/10] END booster=gbtree, eval_metric=mae, gamma=0.5, learning_rate=0.1, max_depth=50, n_estimatios=20;, score=(train=0.999, test=0.997) total time=   0.2s\n",
      "[CV 1/10] END booster=gblinear, eval_metric=rmsle, gamma=0.5, learning_rate=0.1, max_depth=100, n_estimatios=20;, score=(train=0.953, test=0.957) total time=   0.1s\n",
      "[CV 2/10] END booster=gblinear, eval_metric=rmsle, gamma=0.5, learning_rate=0.1, max_depth=100, n_estimatios=20;, score=(train=0.953, test=0.944) total time=   0.1s\n"
     ]
    },
    {
     "name": "stderr",
     "output_type": "stream",
     "text": [
      "/Users/ismile/anaconda3/lib/python3.10/site-packages/xgboost/core.py:160: UserWarning: [15:54:58] WARNING: /Users/runner/work/xgboost/xgboost/src/learner.cc:742: \n",
      "Parameters: { \"gamma\", \"max_depth\", \"n_estimatios\" } are not used.\n",
      "\n",
      "  warnings.warn(smsg, UserWarning)\n",
      "/Users/ismile/anaconda3/lib/python3.10/site-packages/xgboost/core.py:160: UserWarning: [15:54:58] WARNING: /Users/runner/work/xgboost/xgboost/src/learner.cc:742: \n",
      "Parameters: { \"gamma\", \"max_depth\", \"n_estimatios\" } are not used.\n",
      "\n",
      "  warnings.warn(smsg, UserWarning)\n",
      "/Users/ismile/anaconda3/lib/python3.10/site-packages/xgboost/core.py:160: UserWarning: [15:54:58] WARNING: /Users/runner/work/xgboost/xgboost/src/learner.cc:742: \n",
      "Parameters: { \"gamma\", \"max_depth\", \"n_estimatios\" } are not used.\n",
      "\n",
      "  warnings.warn(smsg, UserWarning)\n"
     ]
    },
    {
     "name": "stdout",
     "output_type": "stream",
     "text": [
      "[CV 3/10] END booster=gblinear, eval_metric=rmsle, gamma=0.5, learning_rate=0.1, max_depth=100, n_estimatios=20;, score=(train=0.952, test=0.968) total time=   0.1s\n",
      "[CV 4/10] END booster=gblinear, eval_metric=rmsle, gamma=0.5, learning_rate=0.1, max_depth=100, n_estimatios=20;, score=(train=0.952, test=0.968) total time=   0.1s\n",
      "[CV 5/10] END booster=gblinear, eval_metric=rmsle, gamma=0.5, learning_rate=0.1, max_depth=100, n_estimatios=20;, score=(train=0.952, test=0.957) total time=   0.1s\n"
     ]
    },
    {
     "name": "stderr",
     "output_type": "stream",
     "text": [
      "/Users/ismile/anaconda3/lib/python3.10/site-packages/xgboost/core.py:160: UserWarning: [15:54:58] WARNING: /Users/runner/work/xgboost/xgboost/src/learner.cc:742: \n",
      "Parameters: { \"gamma\", \"max_depth\", \"n_estimatios\" } are not used.\n",
      "\n",
      "  warnings.warn(smsg, UserWarning)\n",
      "/Users/ismile/anaconda3/lib/python3.10/site-packages/xgboost/core.py:160: UserWarning: [15:54:58] WARNING: /Users/runner/work/xgboost/xgboost/src/learner.cc:742: \n",
      "Parameters: { \"gamma\", \"max_depth\", \"n_estimatios\" } are not used.\n",
      "\n",
      "  warnings.warn(smsg, UserWarning)\n",
      "/Users/ismile/anaconda3/lib/python3.10/site-packages/xgboost/core.py:160: UserWarning: [15:54:58] WARNING: /Users/runner/work/xgboost/xgboost/src/learner.cc:742: \n",
      "Parameters: { \"gamma\", \"max_depth\", \"n_estimatios\" } are not used.\n",
      "\n",
      "  warnings.warn(smsg, UserWarning)\n"
     ]
    },
    {
     "name": "stdout",
     "output_type": "stream",
     "text": [
      "[CV 6/10] END booster=gblinear, eval_metric=rmsle, gamma=0.5, learning_rate=0.1, max_depth=100, n_estimatios=20;, score=(train=0.953, test=0.941) total time=   0.1s\n",
      "[CV 7/10] END booster=gblinear, eval_metric=rmsle, gamma=0.5, learning_rate=0.1, max_depth=100, n_estimatios=20;, score=(train=0.953, test=0.963) total time=   0.1s\n",
      "[CV 8/10] END booster=gblinear, eval_metric=rmsle, gamma=0.5, learning_rate=0.1, max_depth=100, n_estimatios=20;, score=(train=0.952, test=0.952) total time=   0.1s\n",
      "[CV 9/10] END booster=gblinear, eval_metric=rmsle, gamma=0.5, learning_rate=0.1, max_depth=100, n_estimatios=20;, score=(train=0.955, test=0.936) total time=   0.1s\n"
     ]
    },
    {
     "name": "stderr",
     "output_type": "stream",
     "text": [
      "/Users/ismile/anaconda3/lib/python3.10/site-packages/xgboost/core.py:160: UserWarning: [15:54:58] WARNING: /Users/runner/work/xgboost/xgboost/src/learner.cc:742: \n",
      "Parameters: { \"gamma\", \"max_depth\", \"n_estimatios\" } are not used.\n",
      "\n",
      "  warnings.warn(smsg, UserWarning)\n",
      "/Users/ismile/anaconda3/lib/python3.10/site-packages/xgboost/core.py:160: UserWarning: [15:54:58] WARNING: /Users/runner/work/xgboost/xgboost/src/learner.cc:742: \n",
      "Parameters: { \"gamma\", \"max_depth\", \"n_estimatios\" } are not used.\n",
      "\n",
      "  warnings.warn(smsg, UserWarning)\n",
      "/Users/ismile/anaconda3/lib/python3.10/site-packages/xgboost/core.py:160: UserWarning: [15:54:58] WARNING: /Users/runner/work/xgboost/xgboost/src/learner.cc:742: \n",
      "Parameters: { \"gamma\", \"max_depth\", \"n_estimatios\" } are not used.\n",
      "\n",
      "  warnings.warn(smsg, UserWarning)\n",
      "/Users/ismile/anaconda3/lib/python3.10/site-packages/xgboost/core.py:160: UserWarning: [15:54:59] WARNING: /Users/runner/work/xgboost/xgboost/src/learner.cc:742: \n",
      "Parameters: { \"gamma\", \"max_depth\", \"n_estimatios\" } are not used.\n",
      "\n",
      "  warnings.warn(smsg, UserWarning)\n",
      "/Users/ismile/anaconda3/lib/python3.10/site-packages/xgboost/core.py:160: UserWarning: [15:54:59] WARNING: /Users/runner/work/xgboost/xgboost/src/learner.cc:742: \n",
      "Parameters: { \"n_estimatios\" } are not used.\n",
      "\n",
      "  warnings.warn(smsg, UserWarning)\n",
      "/Users/ismile/anaconda3/lib/python3.10/site-packages/xgboost/core.py:160: UserWarning: [15:54:59] WARNING: /Users/runner/work/xgboost/xgboost/src/learner.cc:742: \n",
      "Parameters: { \"n_estimatios\" } are not used.\n",
      "\n",
      "  warnings.warn(smsg, UserWarning)\n"
     ]
    },
    {
     "name": "stdout",
     "output_type": "stream",
     "text": [
      "[CV 10/10] END booster=gblinear, eval_metric=rmsle, gamma=0.5, learning_rate=0.1, max_depth=100, n_estimatios=20;, score=(train=0.954, test=0.922) total time=   0.1s\n",
      "[CV 1/10] END booster=gbtree, eval_metric=rmsle, gamma=1, learning_rate=0.1, max_depth=150, n_estimatios=20;, score=(train=0.999, test=0.995) total time=   0.1s\n",
      "[CV 2/10] END booster=gbtree, eval_metric=rmsle, gamma=1, learning_rate=0.1, max_depth=150, n_estimatios=20;, score=(train=0.999, test=0.997) total time=   0.1s\n",
      "[CV 3/10] END booster=gbtree, eval_metric=rmsle, gamma=1, learning_rate=0.1, max_depth=150, n_estimatios=20;, score=(train=0.999, test=0.997) total time=   0.1s\n"
     ]
    },
    {
     "name": "stderr",
     "output_type": "stream",
     "text": [
      "/Users/ismile/anaconda3/lib/python3.10/site-packages/xgboost/core.py:160: UserWarning: [15:54:59] WARNING: /Users/runner/work/xgboost/xgboost/src/learner.cc:742: \n",
      "Parameters: { \"n_estimatios\" } are not used.\n",
      "\n",
      "  warnings.warn(smsg, UserWarning)\n",
      "/Users/ismile/anaconda3/lib/python3.10/site-packages/xgboost/core.py:160: UserWarning: [15:54:59] WARNING: /Users/runner/work/xgboost/xgboost/src/learner.cc:742: \n",
      "Parameters: { \"n_estimatios\" } are not used.\n",
      "\n",
      "  warnings.warn(smsg, UserWarning)\n"
     ]
    },
    {
     "name": "stdout",
     "output_type": "stream",
     "text": [
      "[CV 4/10] END booster=gbtree, eval_metric=rmsle, gamma=1, learning_rate=0.1, max_depth=150, n_estimatios=20;, score=(train=0.999, test=1.000) total time=   0.1s\n",
      "[CV 5/10] END booster=gbtree, eval_metric=rmsle, gamma=1, learning_rate=0.1, max_depth=150, n_estimatios=20;, score=(train=0.999, test=0.997) total time=   0.1s\n"
     ]
    },
    {
     "name": "stderr",
     "output_type": "stream",
     "text": [
      "/Users/ismile/anaconda3/lib/python3.10/site-packages/xgboost/core.py:160: UserWarning: [15:54:59] WARNING: /Users/runner/work/xgboost/xgboost/src/learner.cc:742: \n",
      "Parameters: { \"n_estimatios\" } are not used.\n",
      "\n",
      "  warnings.warn(smsg, UserWarning)\n",
      "/Users/ismile/anaconda3/lib/python3.10/site-packages/xgboost/core.py:160: UserWarning: [15:54:59] WARNING: /Users/runner/work/xgboost/xgboost/src/learner.cc:742: \n",
      "Parameters: { \"n_estimatios\" } are not used.\n",
      "\n",
      "  warnings.warn(smsg, UserWarning)\n"
     ]
    },
    {
     "name": "stdout",
     "output_type": "stream",
     "text": [
      "[CV 6/10] END booster=gbtree, eval_metric=rmsle, gamma=1, learning_rate=0.1, max_depth=150, n_estimatios=20;, score=(train=0.999, test=0.997) total time=   0.1s\n",
      "[CV 7/10] END booster=gbtree, eval_metric=rmsle, gamma=1, learning_rate=0.1, max_depth=150, n_estimatios=20;, score=(train=0.999, test=0.997) total time=   0.1s\n"
     ]
    },
    {
     "name": "stderr",
     "output_type": "stream",
     "text": [
      "/Users/ismile/anaconda3/lib/python3.10/site-packages/xgboost/core.py:160: UserWarning: [15:54:59] WARNING: /Users/runner/work/xgboost/xgboost/src/learner.cc:742: \n",
      "Parameters: { \"n_estimatios\" } are not used.\n",
      "\n",
      "  warnings.warn(smsg, UserWarning)\n",
      "/Users/ismile/anaconda3/lib/python3.10/site-packages/xgboost/core.py:160: UserWarning: [15:55:00] WARNING: /Users/runner/work/xgboost/xgboost/src/learner.cc:742: \n",
      "Parameters: { \"n_estimatios\" } are not used.\n",
      "\n",
      "  warnings.warn(smsg, UserWarning)\n"
     ]
    },
    {
     "name": "stdout",
     "output_type": "stream",
     "text": [
      "[CV 8/10] END booster=gbtree, eval_metric=rmsle, gamma=1, learning_rate=0.1, max_depth=150, n_estimatios=20;, score=(train=0.999, test=0.992) total time=   0.2s\n",
      "[CV 9/10] END booster=gbtree, eval_metric=rmsle, gamma=1, learning_rate=0.1, max_depth=150, n_estimatios=20;, score=(train=0.999, test=0.987) total time=   0.1s\n"
     ]
    },
    {
     "name": "stderr",
     "output_type": "stream",
     "text": [
      "/Users/ismile/anaconda3/lib/python3.10/site-packages/xgboost/core.py:160: UserWarning: [15:55:00] WARNING: /Users/runner/work/xgboost/xgboost/src/learner.cc:742: \n",
      "Parameters: { \"n_estimatios\" } are not used.\n",
      "\n",
      "  warnings.warn(smsg, UserWarning)\n",
      "/Users/ismile/anaconda3/lib/python3.10/site-packages/xgboost/core.py:160: UserWarning: [15:55:00] WARNING: /Users/runner/work/xgboost/xgboost/src/learner.cc:742: \n",
      "Parameters: { \"n_estimatios\" } are not used.\n",
      "\n",
      "  warnings.warn(smsg, UserWarning)\n"
     ]
    },
    {
     "name": "stdout",
     "output_type": "stream",
     "text": [
      "[CV 10/10] END booster=gbtree, eval_metric=rmsle, gamma=1, learning_rate=0.1, max_depth=150, n_estimatios=20;, score=(train=0.999, test=0.997) total time=   0.1s\n",
      "[CV 1/10] END booster=gblinear, eval_metric=mae, gamma=1, learning_rate=0.1, max_depth=150, n_estimatios=20;, score=(train=0.953, test=0.957) total time=   0.1s\n",
      "[CV 2/10] END booster=gblinear, eval_metric=mae, gamma=1, learning_rate=0.1, max_depth=150, n_estimatios=20;, score=(train=0.953, test=0.944) total time=   0.1s\n",
      "[CV 3/10] END booster=gblinear, eval_metric=mae, gamma=1, learning_rate=0.1, max_depth=150, n_estimatios=20;, score=(train=0.952, test=0.968) total time=   0.1s\n"
     ]
    },
    {
     "name": "stderr",
     "output_type": "stream",
     "text": [
      "/Users/ismile/anaconda3/lib/python3.10/site-packages/xgboost/core.py:160: UserWarning: [15:55:00] WARNING: /Users/runner/work/xgboost/xgboost/src/learner.cc:742: \n",
      "Parameters: { \"gamma\", \"max_depth\", \"n_estimatios\" } are not used.\n",
      "\n",
      "  warnings.warn(smsg, UserWarning)\n",
      "/Users/ismile/anaconda3/lib/python3.10/site-packages/xgboost/core.py:160: UserWarning: [15:55:00] WARNING: /Users/runner/work/xgboost/xgboost/src/learner.cc:742: \n",
      "Parameters: { \"gamma\", \"max_depth\", \"n_estimatios\" } are not used.\n",
      "\n",
      "  warnings.warn(smsg, UserWarning)\n",
      "/Users/ismile/anaconda3/lib/python3.10/site-packages/xgboost/core.py:160: UserWarning: [15:55:00] WARNING: /Users/runner/work/xgboost/xgboost/src/learner.cc:742: \n",
      "Parameters: { \"gamma\", \"max_depth\", \"n_estimatios\" } are not used.\n",
      "\n",
      "  warnings.warn(smsg, UserWarning)\n",
      "/Users/ismile/anaconda3/lib/python3.10/site-packages/xgboost/core.py:160: UserWarning: [15:55:00] WARNING: /Users/runner/work/xgboost/xgboost/src/learner.cc:742: \n",
      "Parameters: { \"gamma\", \"max_depth\", \"n_estimatios\" } are not used.\n",
      "\n",
      "  warnings.warn(smsg, UserWarning)\n",
      "/Users/ismile/anaconda3/lib/python3.10/site-packages/xgboost/core.py:160: UserWarning: [15:55:00] WARNING: /Users/runner/work/xgboost/xgboost/src/learner.cc:742: \n",
      "Parameters: { \"gamma\", \"max_depth\", \"n_estimatios\" } are not used.\n",
      "\n",
      "  warnings.warn(smsg, UserWarning)\n",
      "/Users/ismile/anaconda3/lib/python3.10/site-packages/xgboost/core.py:160: UserWarning: [15:55:00] WARNING: /Users/runner/work/xgboost/xgboost/src/learner.cc:742: \n",
      "Parameters: { \"gamma\", \"max_depth\", \"n_estimatios\" } are not used.\n",
      "\n",
      "  warnings.warn(smsg, UserWarning)\n"
     ]
    },
    {
     "name": "stdout",
     "output_type": "stream",
     "text": [
      "[CV 4/10] END booster=gblinear, eval_metric=mae, gamma=1, learning_rate=0.1, max_depth=150, n_estimatios=20;, score=(train=0.952, test=0.968) total time=   0.1s\n",
      "[CV 5/10] END booster=gblinear, eval_metric=mae, gamma=1, learning_rate=0.1, max_depth=150, n_estimatios=20;, score=(train=0.952, test=0.955) total time=   0.1s\n",
      "[CV 6/10] END booster=gblinear, eval_metric=mae, gamma=1, learning_rate=0.1, max_depth=150, n_estimatios=20;, score=(train=0.953, test=0.941) total time=   0.1s\n"
     ]
    },
    {
     "name": "stderr",
     "output_type": "stream",
     "text": [
      "/Users/ismile/anaconda3/lib/python3.10/site-packages/xgboost/core.py:160: UserWarning: [15:55:00] WARNING: /Users/runner/work/xgboost/xgboost/src/learner.cc:742: \n",
      "Parameters: { \"gamma\", \"max_depth\", \"n_estimatios\" } are not used.\n",
      "\n",
      "  warnings.warn(smsg, UserWarning)\n",
      "/Users/ismile/anaconda3/lib/python3.10/site-packages/xgboost/core.py:160: UserWarning: [15:55:00] WARNING: /Users/runner/work/xgboost/xgboost/src/learner.cc:742: \n",
      "Parameters: { \"gamma\", \"max_depth\", \"n_estimatios\" } are not used.\n",
      "\n",
      "  warnings.warn(smsg, UserWarning)\n",
      "/Users/ismile/anaconda3/lib/python3.10/site-packages/xgboost/core.py:160: UserWarning: [15:55:00] WARNING: /Users/runner/work/xgboost/xgboost/src/learner.cc:742: \n",
      "Parameters: { \"gamma\", \"max_depth\", \"n_estimatios\" } are not used.\n",
      "\n",
      "  warnings.warn(smsg, UserWarning)\n"
     ]
    },
    {
     "name": "stdout",
     "output_type": "stream",
     "text": [
      "[CV 7/10] END booster=gblinear, eval_metric=mae, gamma=1, learning_rate=0.1, max_depth=150, n_estimatios=20;, score=(train=0.952, test=0.965) total time=   0.1s\n",
      "[CV 8/10] END booster=gblinear, eval_metric=mae, gamma=1, learning_rate=0.1, max_depth=150, n_estimatios=20;, score=(train=0.952, test=0.952) total time=   0.1s\n",
      "[CV 9/10] END booster=gblinear, eval_metric=mae, gamma=1, learning_rate=0.1, max_depth=150, n_estimatios=20;, score=(train=0.955, test=0.936) total time=   0.1s\n",
      "[CV 10/10] END booster=gblinear, eval_metric=mae, gamma=1, learning_rate=0.1, max_depth=150, n_estimatios=20;, score=(train=0.955, test=0.925) total time=   0.1s\n"
     ]
    },
    {
     "name": "stderr",
     "output_type": "stream",
     "text": [
      "/Users/ismile/anaconda3/lib/python3.10/site-packages/xgboost/core.py:160: UserWarning: [15:55:01] WARNING: /Users/runner/work/xgboost/xgboost/src/learner.cc:742: \n",
      "Parameters: { \"gamma\", \"max_depth\", \"n_estimatios\" } are not used.\n",
      "\n",
      "  warnings.warn(smsg, UserWarning)\n",
      "/Users/ismile/anaconda3/lib/python3.10/site-packages/xgboost/core.py:160: UserWarning: [15:55:01] WARNING: /Users/runner/work/xgboost/xgboost/src/learner.cc:742: \n",
      "Parameters: { \"n_estimatios\" } are not used.\n",
      "\n",
      "  warnings.warn(smsg, UserWarning)\n"
     ]
    }
   ],
   "source": [
    "randomizedSearch_fit = randomizedSearch.fit(x_train, y_train)"
   ],
   "metadata": {
    "collapsed": false,
    "ExecuteTime": {
     "end_time": "2023-09-29T11:55:01.253925Z",
     "start_time": "2023-09-29T11:54:18.434709Z"
    }
   },
   "id": "d453993623bb0d15"
  },
  {
   "cell_type": "code",
   "execution_count": 47,
   "outputs": [],
   "source": [
    "cv_result = pd.DataFrame.from_dict(randomizedSearch_fit.cv_results_)"
   ],
   "metadata": {
    "collapsed": false,
    "ExecuteTime": {
     "end_time": "2023-09-29T11:55:26.725773Z",
     "start_time": "2023-09-29T11:55:26.694537Z"
    }
   },
   "id": "694350af96d6ab6c"
  },
  {
   "cell_type": "code",
   "execution_count": 50,
   "outputs": [],
   "source": [
    "cv_result_top_rank = cv_result[cv_result['rank_test_score'] == 1]"
   ],
   "metadata": {
    "collapsed": false,
    "ExecuteTime": {
     "end_time": "2023-09-29T11:56:44.583262Z",
     "start_time": "2023-09-29T11:56:44.581990Z"
    }
   },
   "id": "69380e1bac5218eb"
  },
  {
   "cell_type": "code",
   "execution_count": 51,
   "outputs": [
    {
     "data": {
      "text/plain": "   mean_fit_time  std_fit_time  mean_score_time  std_score_time  \\\n8       0.121822      0.019899         0.001897        0.000151   \n\n  param_n_estimatios param_max_depth param_learning_rate param_gamma  \\\n8                 20             150                 0.1           1   \n\n  param_eval_metric param_booster  ... split2_train_score  split3_train_score  \\\n8             rmsle        gbtree  ...           0.999111            0.998814   \n\n   split4_train_score  split5_train_score  split6_train_score  \\\n8            0.998814            0.999111            0.999111   \n\n   split7_train_score  split8_train_score  split9_train_score  \\\n8            0.999111            0.999407            0.999111   \n\n   mean_train_score  std_train_score  \n8          0.999111         0.000187  \n\n[1 rows x 36 columns]",
      "text/html": "<div>\n<style scoped>\n    .dataframe tbody tr th:only-of-type {\n        vertical-align: middle;\n    }\n\n    .dataframe tbody tr th {\n        vertical-align: top;\n    }\n\n    .dataframe thead th {\n        text-align: right;\n    }\n</style>\n<table border=\"1\" class=\"dataframe\">\n  <thead>\n    <tr style=\"text-align: right;\">\n      <th></th>\n      <th>mean_fit_time</th>\n      <th>std_fit_time</th>\n      <th>mean_score_time</th>\n      <th>std_score_time</th>\n      <th>param_n_estimatios</th>\n      <th>param_max_depth</th>\n      <th>param_learning_rate</th>\n      <th>param_gamma</th>\n      <th>param_eval_metric</th>\n      <th>param_booster</th>\n      <th>...</th>\n      <th>split2_train_score</th>\n      <th>split3_train_score</th>\n      <th>split4_train_score</th>\n      <th>split5_train_score</th>\n      <th>split6_train_score</th>\n      <th>split7_train_score</th>\n      <th>split8_train_score</th>\n      <th>split9_train_score</th>\n      <th>mean_train_score</th>\n      <th>std_train_score</th>\n    </tr>\n  </thead>\n  <tbody>\n    <tr>\n      <th>8</th>\n      <td>0.121822</td>\n      <td>0.019899</td>\n      <td>0.001897</td>\n      <td>0.000151</td>\n      <td>20</td>\n      <td>150</td>\n      <td>0.1</td>\n      <td>1</td>\n      <td>rmsle</td>\n      <td>gbtree</td>\n      <td>...</td>\n      <td>0.999111</td>\n      <td>0.998814</td>\n      <td>0.998814</td>\n      <td>0.999111</td>\n      <td>0.999111</td>\n      <td>0.999111</td>\n      <td>0.999407</td>\n      <td>0.999111</td>\n      <td>0.999111</td>\n      <td>0.000187</td>\n    </tr>\n  </tbody>\n</table>\n<p>1 rows × 36 columns</p>\n</div>"
     },
     "execution_count": 51,
     "metadata": {},
     "output_type": "execute_result"
    }
   ],
   "source": [
    "cv_result_top_rank"
   ],
   "metadata": {
    "collapsed": false,
    "ExecuteTime": {
     "end_time": "2023-09-29T11:56:52.270419Z",
     "start_time": "2023-09-29T11:56:52.246500Z"
    }
   },
   "id": "b7c74d7e31790bcc"
  },
  {
   "cell_type": "code",
   "execution_count": 52,
   "outputs": [
    {
     "data": {
      "text/plain": "{'n_estimatios': 20,\n 'max_depth': 150,\n 'learning_rate': 0.1,\n 'gamma': 1,\n 'eval_metric': 'rmsle',\n 'booster': 'gbtree'}"
     },
     "execution_count": 52,
     "metadata": {},
     "output_type": "execute_result"
    }
   ],
   "source": [
    "randomizedSearch.best_params_"
   ],
   "metadata": {
    "collapsed": false,
    "ExecuteTime": {
     "end_time": "2023-09-29T11:57:56.306877Z",
     "start_time": "2023-09-29T11:57:56.271400Z"
    }
   },
   "id": "80199103cd31aaff"
  },
  {
   "cell_type": "code",
   "execution_count": 53,
   "outputs": [
    {
     "data": {
      "text/plain": "0.9957326203208556"
     },
     "execution_count": 53,
     "metadata": {},
     "output_type": "execute_result"
    }
   ],
   "source": [
    "randomizedSearch.best_score_"
   ],
   "metadata": {
    "collapsed": false,
    "ExecuteTime": {
     "end_time": "2023-09-29T11:59:25.324345Z",
     "start_time": "2023-09-29T11:59:25.298108Z"
    }
   },
   "id": "a54f9fd0ab32dc9c"
  },
  {
   "cell_type": "code",
   "execution_count": 54,
   "outputs": [],
   "source": [
    "accuracy = randomizedSearch.best_estimator_.score(x_test, y_test)"
   ],
   "metadata": {
    "collapsed": false,
    "ExecuteTime": {
     "end_time": "2023-09-29T12:00:12.727366Z",
     "start_time": "2023-09-29T12:00:12.691614Z"
    }
   },
   "id": "743374b9e10f512d"
  },
  {
   "cell_type": "code",
   "execution_count": 55,
   "outputs": [
    {
     "data": {
      "text/plain": "0.9957356076759062"
     },
     "execution_count": 55,
     "metadata": {},
     "output_type": "execute_result"
    }
   ],
   "source": [
    "accuracy"
   ],
   "metadata": {
    "collapsed": false,
    "ExecuteTime": {
     "end_time": "2023-09-29T12:00:14.972147Z",
     "start_time": "2023-09-29T12:00:14.829259Z"
    }
   },
   "id": "af1dc669a2e77ca8"
  },
  {
   "cell_type": "code",
   "execution_count": 56,
   "outputs": [],
   "source": [
    "#Bayesian"
   ],
   "metadata": {
    "collapsed": false,
    "ExecuteTime": {
     "end_time": "2023-09-29T12:00:47.022777Z",
     "start_time": "2023-09-29T12:00:46.979646Z"
    }
   },
   "id": "801e98d3e53dd6c0"
  },
  {
   "cell_type": "code",
   "execution_count": 57,
   "outputs": [],
   "source": [
    "from skopt import BayesSearchCV"
   ],
   "metadata": {
    "collapsed": false,
    "ExecuteTime": {
     "end_time": "2023-09-29T12:03:23.835429Z",
     "start_time": "2023-09-29T12:03:22.844793Z"
    }
   },
   "id": "adce309a6c1af6a2"
  },
  {
   "cell_type": "code",
   "execution_count": 58,
   "outputs": [
    {
     "name": "stdout",
     "output_type": "stream",
     "text": [
      "Help on class BayesSearchCV in module skopt.searchcv:\n",
      "\n",
      "class BayesSearchCV(sklearn.model_selection._search.BaseSearchCV)\n",
      " |  BayesSearchCV(estimator, search_spaces, optimizer_kwargs=None, n_iter=50, scoring=None, fit_params=None, n_jobs=1, n_points=1, iid='deprecated', refit=True, cv=None, verbose=0, pre_dispatch='2*n_jobs', random_state=None, error_score='raise', return_train_score=False)\n",
      " |  \n",
      " |  Bayesian optimization over hyper parameters.\n",
      " |  \n",
      " |  BayesSearchCV implements a \"fit\" and a \"score\" method.\n",
      " |  It also implements \"predict\", \"predict_proba\", \"decision_function\",\n",
      " |  \"transform\" and \"inverse_transform\" if they are implemented in the\n",
      " |  estimator used.\n",
      " |  \n",
      " |  The parameters of the estimator used to apply these methods are optimized\n",
      " |  by cross-validated search over parameter settings.\n",
      " |  \n",
      " |  In contrast to GridSearchCV, not all parameter values are tried out, but\n",
      " |  rather a fixed number of parameter settings is sampled from the specified\n",
      " |  distributions. The number of parameter settings that are tried is\n",
      " |  given by n_iter.\n",
      " |  \n",
      " |  Parameters are presented as a list of skopt.space.Dimension objects.\n",
      " |  \n",
      " |  Parameters\n",
      " |  ----------\n",
      " |  estimator : estimator object.\n",
      " |      A object of that type is instantiated for each search point.\n",
      " |      This object is assumed to implement the scikit-learn estimator api.\n",
      " |      Either estimator needs to provide a ``score`` function,\n",
      " |      or ``scoring`` must be passed.\n",
      " |  \n",
      " |  search_spaces : dict, list of dict or list of tuple containing (dict, int).\n",
      " |      One of these cases:\n",
      " |      1. dictionary, where keys are parameter names (strings)\n",
      " |      and values are skopt.space.Dimension instances (Real, Integer\n",
      " |      or Categorical) or any other valid value that defines skopt\n",
      " |      dimension (see skopt.Optimizer docs). Represents search space\n",
      " |      over parameters of the provided estimator.\n",
      " |      2. list of dictionaries: a list of dictionaries, where every\n",
      " |      dictionary fits the description given in case 1 above.\n",
      " |      If a list of dictionary objects is given, then the search is\n",
      " |      performed sequentially for every parameter space with maximum\n",
      " |      number of evaluations set to self.n_iter.\n",
      " |      3. list of (dict, int > 0): an extension of case 2 above,\n",
      " |      where first element of every tuple is a dictionary representing\n",
      " |      some search subspace, similarly as in case 2, and second element\n",
      " |      is a number of iterations that will be spent optimizing over\n",
      " |      this subspace.\n",
      " |  \n",
      " |  n_iter : int, default=50\n",
      " |      Number of parameter settings that are sampled. n_iter trades\n",
      " |      off runtime vs quality of the solution. Consider increasing\n",
      " |      ``n_points`` if you want to try more parameter settings in\n",
      " |      parallel.\n",
      " |  \n",
      " |  optimizer_kwargs : dict, optional\n",
      " |      Dict of arguments passed to :class:`Optimizer`.  For example,\n",
      " |      ``{'base_estimator': 'RF'}`` would use a Random Forest surrogate\n",
      " |      instead of the default Gaussian Process.\n",
      " |  \n",
      " |  scoring : string, callable or None, default=None\n",
      " |      A string (see model evaluation documentation) or\n",
      " |      a scorer callable object / function with signature\n",
      " |      ``scorer(estimator, X, y)``.\n",
      " |      If ``None``, the ``score`` method of the estimator is used.\n",
      " |  \n",
      " |  fit_params : dict, optional\n",
      " |      Parameters to pass to the fit method.\n",
      " |  \n",
      " |  n_jobs : int, default=1\n",
      " |      Number of jobs to run in parallel. At maximum there are\n",
      " |      ``n_points`` times ``cv`` jobs available during each iteration.\n",
      " |  \n",
      " |  n_points : int, default=1\n",
      " |      Number of parameter settings to sample in parallel. If this does\n",
      " |      not align with ``n_iter``, the last iteration will sample less\n",
      " |      points. See also :func:`~Optimizer.ask`\n",
      " |  \n",
      " |  pre_dispatch : int, or string, optional\n",
      " |      Controls the number of jobs that get dispatched during parallel\n",
      " |      execution. Reducing this number can be useful to avoid an\n",
      " |      explosion of memory consumption when more jobs get dispatched\n",
      " |      than CPUs can process. This parameter can be:\n",
      " |  \n",
      " |          - None, in which case all the jobs are immediately\n",
      " |            created and spawned. Use this for lightweight and\n",
      " |            fast-running jobs, to avoid delays due to on-demand\n",
      " |            spawning of the jobs\n",
      " |          - An int, giving the exact number of total jobs that are\n",
      " |            spawned\n",
      " |          - A string, giving an expression as a function of n_jobs,\n",
      " |            as in '2*n_jobs'\n",
      " |  \n",
      " |  cv : int, cross-validation generator or an iterable, optional\n",
      " |      Determines the cross-validation splitting strategy.\n",
      " |      Possible inputs for cv are:\n",
      " |  \n",
      " |        - None, to use the default 3-fold cross validation,\n",
      " |        - integer, to specify the number of folds in a `(Stratified)KFold`,\n",
      " |        - An object to be used as a cross-validation generator.\n",
      " |        - An iterable yielding train, test splits.\n",
      " |  \n",
      " |      For integer/None inputs, if the estimator is a classifier and ``y`` is\n",
      " |      either binary or multiclass, :class:`StratifiedKFold` is used. In all\n",
      " |      other cases, :class:`KFold` is used.\n",
      " |  \n",
      " |  refit : boolean, default=True\n",
      " |      Refit the best estimator with the entire dataset.\n",
      " |      If \"False\", it is impossible to make predictions using\n",
      " |      this RandomizedSearchCV instance after fitting.\n",
      " |  \n",
      " |  verbose : integer\n",
      " |      Controls the verbosity: the higher, the more messages.\n",
      " |  \n",
      " |  random_state : int or RandomState\n",
      " |      Pseudo random number generator state used for random uniform sampling\n",
      " |      from lists of possible values instead of scipy.stats distributions.\n",
      " |  \n",
      " |  error_score : 'raise' (default) or numeric\n",
      " |      Value to assign to the score if an error occurs in estimator fitting.\n",
      " |      If set to 'raise', the error is raised. If a numeric value is given,\n",
      " |      FitFailedWarning is raised. This parameter does not affect the refit\n",
      " |      step, which will always raise the error.\n",
      " |  \n",
      " |  return_train_score : boolean, default=False\n",
      " |      If ``'True'``, the ``cv_results_`` attribute will include training\n",
      " |      scores.\n",
      " |  \n",
      " |  Examples\n",
      " |  --------\n",
      " |  \n",
      " |  >>> from skopt import BayesSearchCV\n",
      " |  >>> # parameter ranges are specified by one of below\n",
      " |  >>> from skopt.space import Real, Categorical, Integer\n",
      " |  >>>\n",
      " |  >>> from sklearn.datasets import load_iris\n",
      " |  >>> from sklearn.svm import SVC\n",
      " |  >>> from sklearn.model_selection import train_test_split\n",
      " |  >>>\n",
      " |  >>> X, y = load_iris(return_X_y=True)\n",
      " |  >>> X_train, X_test, y_train, y_test = train_test_split(X, y,\n",
      " |  ...                                                     train_size=0.75,\n",
      " |  ...                                                     random_state=0)\n",
      " |  >>>\n",
      " |  >>> # log-uniform: understand as search over p = exp(x) by varying x\n",
      " |  >>> opt = BayesSearchCV(\n",
      " |  ...     SVC(),\n",
      " |  ...     {\n",
      " |  ...         'C': Real(1e-6, 1e+6, prior='log-uniform'),\n",
      " |  ...         'gamma': Real(1e-6, 1e+1, prior='log-uniform'),\n",
      " |  ...         'degree': Integer(1,8),\n",
      " |  ...         'kernel': Categorical(['linear', 'poly', 'rbf']),\n",
      " |  ...     },\n",
      " |  ...     n_iter=32,\n",
      " |  ...     random_state=0\n",
      " |  ... )\n",
      " |  >>>\n",
      " |  >>> # executes bayesian optimization\n",
      " |  >>> _ = opt.fit(X_train, y_train)\n",
      " |  >>>\n",
      " |  >>> # model can be saved, used for predictions or scoring\n",
      " |  >>> print(opt.score(X_test, y_test))\n",
      " |  0.973...\n",
      " |  \n",
      " |  Attributes\n",
      " |  ----------\n",
      " |  cv_results_ : dict of numpy (masked) ndarrays\n",
      " |      A dict with keys as column headers and values as columns, that can be\n",
      " |      imported into a pandas ``DataFrame``.\n",
      " |  \n",
      " |      For instance the below given table\n",
      " |  \n",
      " |      +--------------+-------------+-------------------+---+---------------+\n",
      " |      | param_kernel | param_gamma | split0_test_score |...|rank_test_score|\n",
      " |      +==============+=============+===================+===+===============+\n",
      " |      |    'rbf'     |     0.1     |        0.8        |...|       2       |\n",
      " |      +--------------+-------------+-------------------+---+---------------+\n",
      " |      |    'rbf'     |     0.2     |        0.9        |...|       1       |\n",
      " |      +--------------+-------------+-------------------+---+---------------+\n",
      " |      |    'rbf'     |     0.3     |        0.7        |...|       1       |\n",
      " |      +--------------+-------------+-------------------+---+---------------+\n",
      " |  \n",
      " |      will be represented by a ``cv_results_`` dict of::\n",
      " |  \n",
      " |          {\n",
      " |          'param_kernel' : masked_array(data = ['rbf', 'rbf', 'rbf'],\n",
      " |                                        mask = False),\n",
      " |          'param_gamma'  : masked_array(data = [0.1 0.2 0.3], mask = False),\n",
      " |          'split0_test_score'  : [0.8, 0.9, 0.7],\n",
      " |          'split1_test_score'  : [0.82, 0.5, 0.7],\n",
      " |          'mean_test_score'    : [0.81, 0.7, 0.7],\n",
      " |          'std_test_score'     : [0.02, 0.2, 0.],\n",
      " |          'rank_test_score'    : [3, 1, 1],\n",
      " |          'split0_train_score' : [0.8, 0.9, 0.7],\n",
      " |          'split1_train_score' : [0.82, 0.5, 0.7],\n",
      " |          'mean_train_score'   : [0.81, 0.7, 0.7],\n",
      " |          'std_train_score'    : [0.03, 0.03, 0.04],\n",
      " |          'mean_fit_time'      : [0.73, 0.63, 0.43, 0.49],\n",
      " |          'std_fit_time'       : [0.01, 0.02, 0.01, 0.01],\n",
      " |          'mean_score_time'    : [0.007, 0.06, 0.04, 0.04],\n",
      " |          'std_score_time'     : [0.001, 0.002, 0.003, 0.005],\n",
      " |          'params' : [{'kernel' : 'rbf', 'gamma' : 0.1}, ...],\n",
      " |          }\n",
      " |  \n",
      " |      NOTE that the key ``'params'`` is used to store a list of parameter\n",
      " |      settings dict for all the parameter candidates.\n",
      " |  \n",
      " |      The ``mean_fit_time``, ``std_fit_time``, ``mean_score_time`` and\n",
      " |      ``std_score_time`` are all in seconds.\n",
      " |  \n",
      " |  best_estimator_ : estimator\n",
      " |      Estimator that was chosen by the search, i.e. estimator\n",
      " |      which gave highest score (or smallest loss if specified)\n",
      " |      on the left out data. Not available if refit=False.\n",
      " |  \n",
      " |  optimizer_results_ : list of `OptimizeResult`\n",
      " |      Contains a `OptimizeResult` for each search space. The search space\n",
      " |      parameter are sorted by its name.\n",
      " |  \n",
      " |  best_score_ : float\n",
      " |      Score of best_estimator on the left out data.\n",
      " |  \n",
      " |  best_params_ : dict\n",
      " |      Parameter setting that gave the best results on the hold out data.\n",
      " |  \n",
      " |  best_index_ : int\n",
      " |      The index (of the ``cv_results_`` arrays) which corresponds to the best\n",
      " |      candidate parameter setting.\n",
      " |  \n",
      " |      The dict at ``search.cv_results_['params'][search.best_index_]`` gives\n",
      " |      the parameter setting for the best model, that gives the highest\n",
      " |      mean score (``search.best_score_``).\n",
      " |  \n",
      " |  scorer_ : function\n",
      " |      Scorer function used on the held out data to choose the best\n",
      " |      parameters for the model.\n",
      " |  \n",
      " |  n_splits_ : int\n",
      " |      The number of cross-validation splits (folds/iterations).\n",
      " |  \n",
      " |  Notes\n",
      " |  -----\n",
      " |  The parameters selected are those that maximize the score of the held-out\n",
      " |  data, according to the scoring parameter.\n",
      " |  \n",
      " |  If `n_jobs` was set to a value higher than one, the data is copied for each\n",
      " |  parameter setting(and not `n_jobs` times). This is done for efficiency\n",
      " |  reasons if individual jobs take very little time, but may raise errors if\n",
      " |  the dataset is large and not enough memory is available.  A workaround in\n",
      " |  this case is to set `pre_dispatch`. Then, the memory is copied only\n",
      " |  `pre_dispatch` many times. A reasonable value for `pre_dispatch` is `2 *\n",
      " |  n_jobs`.\n",
      " |  \n",
      " |  See Also\n",
      " |  --------\n",
      " |  :class:`GridSearchCV`:\n",
      " |      Does exhaustive search over a grid of parameters.\n",
      " |  \n",
      " |  Method resolution order:\n",
      " |      BayesSearchCV\n",
      " |      sklearn.model_selection._search.BaseSearchCV\n",
      " |      sklearn.base.MetaEstimatorMixin\n",
      " |      sklearn.base.BaseEstimator\n",
      " |      builtins.object\n",
      " |  \n",
      " |  Methods defined here:\n",
      " |  \n",
      " |  __init__(self, estimator, search_spaces, optimizer_kwargs=None, n_iter=50, scoring=None, fit_params=None, n_jobs=1, n_points=1, iid='deprecated', refit=True, cv=None, verbose=0, pre_dispatch='2*n_jobs', random_state=None, error_score='raise', return_train_score=False)\n",
      " |      Initialize self.  See help(type(self)) for accurate signature.\n",
      " |  \n",
      " |  fit(self, X, y=None, *, groups=None, callback=None, **fit_params)\n",
      " |      Run fit on the estimator with randomly drawn parameters.\n",
      " |      \n",
      " |      Parameters\n",
      " |      ----------\n",
      " |      X : array-like or sparse matrix, shape = [n_samples, n_features]\n",
      " |          The training input samples.\n",
      " |      \n",
      " |      y : array-like, shape = [n_samples] or [n_samples, n_output]\n",
      " |          Target relative to X for classification or regression (class\n",
      " |          labels should be integers or strings).\n",
      " |      \n",
      " |      groups : array-like, with shape (n_samples,), optional\n",
      " |          Group labels for the samples used while splitting the dataset into\n",
      " |          train/test set.\n",
      " |      \n",
      " |      callback: [callable, list of callables, optional]\n",
      " |          If callable then `callback(res)` is called after each parameter\n",
      " |          combination tested. If list of callables, then each callable in\n",
      " |          the list is called.\n",
      " |  \n",
      " |  ----------------------------------------------------------------------\n",
      " |  Readonly properties defined here:\n",
      " |  \n",
      " |  optimizer_results_\n",
      " |  \n",
      " |  total_iterations\n",
      " |      Count total iterations that will be taken to explore\n",
      " |      all subspaces with `fit` method.\n",
      " |      \n",
      " |      Returns\n",
      " |      -------\n",
      " |      max_iter: int, total number of iterations to explore\n",
      " |  \n",
      " |  ----------------------------------------------------------------------\n",
      " |  Data and other attributes defined here:\n",
      " |  \n",
      " |  __abstractmethods__ = frozenset()\n",
      " |  \n",
      " |  ----------------------------------------------------------------------\n",
      " |  Methods inherited from sklearn.model_selection._search.BaseSearchCV:\n",
      " |  \n",
      " |  decision_function(self, X)\n",
      " |      Call decision_function on the estimator with the best found parameters.\n",
      " |      \n",
      " |      Only available if ``refit=True`` and the underlying estimator supports\n",
      " |      ``decision_function``.\n",
      " |      \n",
      " |      Parameters\n",
      " |      ----------\n",
      " |      X : indexable, length n_samples\n",
      " |          Must fulfill the input assumptions of the\n",
      " |          underlying estimator.\n",
      " |      \n",
      " |      Returns\n",
      " |      -------\n",
      " |      y_score : ndarray of shape (n_samples,) or (n_samples, n_classes)                 or (n_samples, n_classes * (n_classes-1) / 2)\n",
      " |          Result of the decision function for `X` based on the estimator with\n",
      " |          the best found parameters.\n",
      " |  \n",
      " |  inverse_transform(self, Xt)\n",
      " |      Call inverse_transform on the estimator with the best found params.\n",
      " |      \n",
      " |      Only available if the underlying estimator implements\n",
      " |      ``inverse_transform`` and ``refit=True``.\n",
      " |      \n",
      " |      Parameters\n",
      " |      ----------\n",
      " |      Xt : indexable, length n_samples\n",
      " |          Must fulfill the input assumptions of the\n",
      " |          underlying estimator.\n",
      " |      \n",
      " |      Returns\n",
      " |      -------\n",
      " |      X : {ndarray, sparse matrix} of shape (n_samples, n_features)\n",
      " |          Result of the `inverse_transform` function for `Xt` based on the\n",
      " |          estimator with the best found parameters.\n",
      " |  \n",
      " |  predict(self, X)\n",
      " |      Call predict on the estimator with the best found parameters.\n",
      " |      \n",
      " |      Only available if ``refit=True`` and the underlying estimator supports\n",
      " |      ``predict``.\n",
      " |      \n",
      " |      Parameters\n",
      " |      ----------\n",
      " |      X : indexable, length n_samples\n",
      " |          Must fulfill the input assumptions of the\n",
      " |          underlying estimator.\n",
      " |      \n",
      " |      Returns\n",
      " |      -------\n",
      " |      y_pred : ndarray of shape (n_samples,)\n",
      " |          The predicted labels or values for `X` based on the estimator with\n",
      " |          the best found parameters.\n",
      " |  \n",
      " |  predict_log_proba(self, X)\n",
      " |      Call predict_log_proba on the estimator with the best found parameters.\n",
      " |      \n",
      " |      Only available if ``refit=True`` and the underlying estimator supports\n",
      " |      ``predict_log_proba``.\n",
      " |      \n",
      " |      Parameters\n",
      " |      ----------\n",
      " |      X : indexable, length n_samples\n",
      " |          Must fulfill the input assumptions of the\n",
      " |          underlying estimator.\n",
      " |      \n",
      " |      Returns\n",
      " |      -------\n",
      " |      y_pred : ndarray of shape (n_samples,) or (n_samples, n_classes)\n",
      " |          Predicted class log-probabilities for `X` based on the estimator\n",
      " |          with the best found parameters. The order of the classes\n",
      " |          corresponds to that in the fitted attribute :term:`classes_`.\n",
      " |  \n",
      " |  predict_proba(self, X)\n",
      " |      Call predict_proba on the estimator with the best found parameters.\n",
      " |      \n",
      " |      Only available if ``refit=True`` and the underlying estimator supports\n",
      " |      ``predict_proba``.\n",
      " |      \n",
      " |      Parameters\n",
      " |      ----------\n",
      " |      X : indexable, length n_samples\n",
      " |          Must fulfill the input assumptions of the\n",
      " |          underlying estimator.\n",
      " |      \n",
      " |      Returns\n",
      " |      -------\n",
      " |      y_pred : ndarray of shape (n_samples,) or (n_samples, n_classes)\n",
      " |          Predicted class probabilities for `X` based on the estimator with\n",
      " |          the best found parameters. The order of the classes corresponds\n",
      " |          to that in the fitted attribute :term:`classes_`.\n",
      " |  \n",
      " |  score(self, X, y=None)\n",
      " |      Return the score on the given data, if the estimator has been refit.\n",
      " |      \n",
      " |      This uses the score defined by ``scoring`` where provided, and the\n",
      " |      ``best_estimator_.score`` method otherwise.\n",
      " |      \n",
      " |      Parameters\n",
      " |      ----------\n",
      " |      X : array-like of shape (n_samples, n_features)\n",
      " |          Input data, where `n_samples` is the number of samples and\n",
      " |          `n_features` is the number of features.\n",
      " |      \n",
      " |      y : array-like of shape (n_samples, n_output)             or (n_samples,), default=None\n",
      " |          Target relative to X for classification or regression;\n",
      " |          None for unsupervised learning.\n",
      " |      \n",
      " |      Returns\n",
      " |      -------\n",
      " |      score : float\n",
      " |          The score defined by ``scoring`` if provided, and the\n",
      " |          ``best_estimator_.score`` method otherwise.\n",
      " |  \n",
      " |  score_samples(self, X)\n",
      " |      Call score_samples on the estimator with the best found parameters.\n",
      " |      \n",
      " |      Only available if ``refit=True`` and the underlying estimator supports\n",
      " |      ``score_samples``.\n",
      " |      \n",
      " |      .. versionadded:: 0.24\n",
      " |      \n",
      " |      Parameters\n",
      " |      ----------\n",
      " |      X : iterable\n",
      " |          Data to predict on. Must fulfill input requirements\n",
      " |          of the underlying estimator.\n",
      " |      \n",
      " |      Returns\n",
      " |      -------\n",
      " |      y_score : ndarray of shape (n_samples,)\n",
      " |          The ``best_estimator_.score_samples`` method.\n",
      " |  \n",
      " |  transform(self, X)\n",
      " |      Call transform on the estimator with the best found parameters.\n",
      " |      \n",
      " |      Only available if the underlying estimator supports ``transform`` and\n",
      " |      ``refit=True``.\n",
      " |      \n",
      " |      Parameters\n",
      " |      ----------\n",
      " |      X : indexable, length n_samples\n",
      " |          Must fulfill the input assumptions of the\n",
      " |          underlying estimator.\n",
      " |      \n",
      " |      Returns\n",
      " |      -------\n",
      " |      Xt : {ndarray, sparse matrix} of shape (n_samples, n_features)\n",
      " |          `X` transformed in the new space based on the estimator with\n",
      " |          the best found parameters.\n",
      " |  \n",
      " |  ----------------------------------------------------------------------\n",
      " |  Readonly properties inherited from sklearn.model_selection._search.BaseSearchCV:\n",
      " |  \n",
      " |  classes_\n",
      " |      Class labels.\n",
      " |      \n",
      " |      Only available when `refit=True` and the estimator is a classifier.\n",
      " |  \n",
      " |  n_features_in_\n",
      " |      Number of features seen during :term:`fit`.\n",
      " |      \n",
      " |      Only available when `refit=True`.\n",
      " |  \n",
      " |  ----------------------------------------------------------------------\n",
      " |  Data descriptors inherited from sklearn.base.MetaEstimatorMixin:\n",
      " |  \n",
      " |  __dict__\n",
      " |      dictionary for instance variables (if defined)\n",
      " |  \n",
      " |  __weakref__\n",
      " |      list of weak references to the object (if defined)\n",
      " |  \n",
      " |  ----------------------------------------------------------------------\n",
      " |  Methods inherited from sklearn.base.BaseEstimator:\n",
      " |  \n",
      " |  __getstate__(self)\n",
      " |  \n",
      " |  __repr__(self, N_CHAR_MAX=700)\n",
      " |      Return repr(self).\n",
      " |  \n",
      " |  __setstate__(self, state)\n",
      " |  \n",
      " |  get_params(self, deep=True)\n",
      " |      Get parameters for this estimator.\n",
      " |      \n",
      " |      Parameters\n",
      " |      ----------\n",
      " |      deep : bool, default=True\n",
      " |          If True, will return the parameters for this estimator and\n",
      " |          contained subobjects that are estimators.\n",
      " |      \n",
      " |      Returns\n",
      " |      -------\n",
      " |      params : dict\n",
      " |          Parameter names mapped to their values.\n",
      " |  \n",
      " |  set_params(self, **params)\n",
      " |      Set the parameters of this estimator.\n",
      " |      \n",
      " |      The method works on simple estimators as well as on nested objects\n",
      " |      (such as :class:`~sklearn.pipeline.Pipeline`). The latter have\n",
      " |      parameters of the form ``<component>__<parameter>`` so that it's\n",
      " |      possible to update each component of a nested object.\n",
      " |      \n",
      " |      Parameters\n",
      " |      ----------\n",
      " |      **params : dict\n",
      " |          Estimator parameters.\n",
      " |      \n",
      " |      Returns\n",
      " |      -------\n",
      " |      self : estimator instance\n",
      " |          Estimator instance.\n"
     ]
    }
   ],
   "source": [
    "help(BayesSearchCV)"
   ],
   "metadata": {
    "collapsed": false,
    "ExecuteTime": {
     "end_time": "2023-09-29T12:03:32.471153Z",
     "start_time": "2023-09-29T12:03:32.402324Z"
    }
   },
   "id": "2e40ea76458b472c"
  },
  {
   "cell_type": "code",
   "execution_count": 65,
   "outputs": [],
   "source": [
    "parameters = {\n",
    "    'n_estimators' : (10, 15, 20, 50), \n",
    "    'max_depth' : (50, 100, 150, 200),\n",
    "    'learning_rate' : (0.01, 0.05, 0.1),\n",
    "    #'booster' : ('gbtree', 'gblinear', 'dart'),\n",
    "    'gamma' : (0.01, 0.5, 1, 1.5),\n",
    "    'eval_metric' : ('rmse', 'rmsle', 'mae', 'logloss', 'error')\n",
    "}"
   ],
   "metadata": {
    "collapsed": false,
    "ExecuteTime": {
     "end_time": "2023-09-29T12:15:39.376385Z",
     "start_time": "2023-09-29T12:15:39.350950Z"
    }
   },
   "id": "8d4a8686b9ee3ce4"
  },
  {
   "cell_type": "code",
   "execution_count": 68,
   "outputs": [],
   "source": [
    "bayes = BayesSearchCV(estimator = model, search_spaces = parameters, n_iter = 100, cv = 10, return_train_score = True)"
   ],
   "metadata": {
    "collapsed": false,
    "ExecuteTime": {
     "end_time": "2023-09-29T12:16:04.207914Z",
     "start_time": "2023-09-29T12:16:04.182043Z"
    }
   },
   "id": "cf3fa5e1e81791ce"
  },
  {
   "cell_type": "code",
   "execution_count": 69,
   "outputs": [
    {
     "name": "stderr",
     "output_type": "stream",
     "text": [
      "/Users/ismile/anaconda3/lib/python3.10/site-packages/skopt/optimizer/optimizer.py:449: UserWarning: The objective has been evaluated at this point before.\n",
      "  warnings.warn(\"The objective has been evaluated \"\n",
      "/Users/ismile/anaconda3/lib/python3.10/site-packages/skopt/optimizer/optimizer.py:449: UserWarning: The objective has been evaluated at this point before.\n",
      "  warnings.warn(\"The objective has been evaluated \"\n",
      "/Users/ismile/anaconda3/lib/python3.10/site-packages/skopt/optimizer/optimizer.py:449: UserWarning: The objective has been evaluated at this point before.\n",
      "  warnings.warn(\"The objective has been evaluated \"\n",
      "/Users/ismile/anaconda3/lib/python3.10/site-packages/skopt/optimizer/optimizer.py:449: UserWarning: The objective has been evaluated at this point before.\n",
      "  warnings.warn(\"The objective has been evaluated \"\n",
      "/Users/ismile/anaconda3/lib/python3.10/site-packages/skopt/optimizer/optimizer.py:449: UserWarning: The objective has been evaluated at this point before.\n",
      "  warnings.warn(\"The objective has been evaluated \"\n",
      "/Users/ismile/anaconda3/lib/python3.10/site-packages/skopt/optimizer/optimizer.py:449: UserWarning: The objective has been evaluated at this point before.\n",
      "  warnings.warn(\"The objective has been evaluated \"\n",
      "/Users/ismile/anaconda3/lib/python3.10/site-packages/skopt/optimizer/optimizer.py:449: UserWarning: The objective has been evaluated at this point before.\n",
      "  warnings.warn(\"The objective has been evaluated \"\n"
     ]
    }
   ],
   "source": [
    "bayes_fit = bayes.fit(x_train, y_train)"
   ],
   "metadata": {
    "collapsed": false,
    "ExecuteTime": {
     "end_time": "2023-09-29T12:21:48.328966Z",
     "start_time": "2023-09-29T12:16:22.936136Z"
    }
   },
   "id": "b37bc42e4f8a1014"
  },
  {
   "cell_type": "code",
   "execution_count": 70,
   "outputs": [
    {
     "data": {
      "text/plain": "0.9946695095948828"
     },
     "execution_count": 70,
     "metadata": {},
     "output_type": "execute_result"
    }
   ],
   "source": [
    "bayes.score(x_test, y_test)"
   ],
   "metadata": {
    "collapsed": false,
    "ExecuteTime": {
     "end_time": "2023-09-29T12:22:58.801333Z",
     "start_time": "2023-09-29T12:22:58.653880Z"
    }
   },
   "id": "bc94ebb04bd49cbf"
  },
  {
   "cell_type": "code",
   "execution_count": 71,
   "outputs": [
    {
     "data": {
      "text/plain": "OrderedDict([('eval_metric', 'error'),\n             ('gamma', 0.01),\n             ('learning_rate', 0.1),\n             ('max_depth', 100),\n             ('n_estimators', 15)])"
     },
     "execution_count": 71,
     "metadata": {},
     "output_type": "execute_result"
    }
   ],
   "source": [
    "bayes.best_params_"
   ],
   "metadata": {
    "collapsed": false,
    "ExecuteTime": {
     "end_time": "2023-09-29T12:23:17.762395Z",
     "start_time": "2023-09-29T12:23:17.738116Z"
    }
   },
   "id": "2807a21b9e541028"
  },
  {
   "cell_type": "code",
   "execution_count": 73,
   "outputs": [
    {
     "data": {
      "text/plain": "0.996265953654189"
     },
     "execution_count": 73,
     "metadata": {},
     "output_type": "execute_result"
    }
   ],
   "source": [
    "bayes.best_score_"
   ],
   "metadata": {
    "collapsed": false,
    "ExecuteTime": {
     "end_time": "2023-09-29T12:23:28.709383Z",
     "start_time": "2023-09-29T12:23:28.682562Z"
    }
   },
   "id": "23252c01bba9c945"
  },
  {
   "cell_type": "code",
   "execution_count": 74,
   "outputs": [],
   "source": [
    "bayes_pred = bayes_fit.predict(x_test)"
   ],
   "metadata": {
    "collapsed": false,
    "ExecuteTime": {
     "end_time": "2023-09-29T12:24:40.719535Z",
     "start_time": "2023-09-29T12:24:40.704590Z"
    }
   },
   "id": "cc5fd5c223768d9c"
  },
  {
   "cell_type": "code",
   "execution_count": 76,
   "outputs": [],
   "source": [
    "from sklearn.metrics import accuracy_score"
   ],
   "metadata": {
    "collapsed": false,
    "ExecuteTime": {
     "end_time": "2023-09-29T12:25:12.257862Z",
     "start_time": "2023-09-29T12:25:12.246964Z"
    }
   },
   "id": "5563de54784a9a6c"
  },
  {
   "cell_type": "code",
   "execution_count": 77,
   "outputs": [
    {
     "data": {
      "text/plain": "0.9946695095948828"
     },
     "execution_count": 77,
     "metadata": {},
     "output_type": "execute_result"
    }
   ],
   "source": [
    "accuracy_score(y_test, bayes_pred)"
   ],
   "metadata": {
    "collapsed": false,
    "ExecuteTime": {
     "end_time": "2023-09-29T12:25:15.084245Z",
     "start_time": "2023-09-29T12:25:15.075482Z"
    }
   },
   "id": "9ded1a2c0f5eb032"
  }
 ],
 "metadata": {
  "kernelspec": {
   "display_name": "Python 3",
   "language": "python",
   "name": "python3"
  },
  "language_info": {
   "codemirror_mode": {
    "name": "ipython",
    "version": 2
   },
   "file_extension": ".py",
   "mimetype": "text/x-python",
   "name": "python",
   "nbconvert_exporter": "python",
   "pygments_lexer": "ipython2",
   "version": "2.7.6"
  }
 },
 "nbformat": 4,
 "nbformat_minor": 5
}
